{
 "cells": [
  {
   "cell_type": "markdown",
   "id": "6a26303a-c060-48fd-95fa-98ba84882c43",
   "metadata": {},
   "source": [
    "# Exercice "
   ]
  },
  {
   "cell_type": "markdown",
   "id": "6275d982-5f72-4095-a20e-0da30b9d82be",
   "metadata": {},
   "source": [
    "## Tracer une courbe"
   ]
  },
  {
   "cell_type": "code",
   "execution_count": 5,
   "id": "3c2c9031-1d8c-4336-b062-28337140ebf3",
   "metadata": {},
   "outputs": [
    {
     "data": {
      "image/png": "[encoded data removed]",
      "text/latex": [
       "$\\displaystyle \\left[ 1, \\  2, \\  3, \\  6, \\  9, \\  13, \\  18, \\  26, \\  39, \\  78, \\  117, \\  234\\right]$"
      ],
      "text/plain": [
       "[1, 2, 3, 6, 9, 13, 18, 26, 39, 78, 117, 234]"
      ]
     },
     "execution_count": 5,
     "metadata": {},
     "output_type": "execute_result"
    }
   ],
   "source": [
    "import sympy as sp\n",
    "sp.divisors(234)"
   ]
  },
  {
   "cell_type": "code",
   "execution_count": 6,
   "id": "2e206cad-d5d8-45bf-ba86-3202749ac6a8",
   "metadata": {},
   "outputs": [
    {
     "data": {
      "image/png": "[encoded data removed]",
      "text/latex": [
       "$\\displaystyle \\left\\{ x : 18, \\  y : 6\\right\\}$"
      ],
      "text/plain": [
       "{x: 18, y: 6}"
      ]
     },
     "execution_count": 6,
     "metadata": {},
     "output_type": "execute_result"
    }
   ],
   "source": [
    "x,y = sp.symbols('x,y')\n",
    "s1 = x+y-24\n",
    "s2 = x-y-12\n",
    "sp.solve((s1,s2),x,y)"
   ]
  },
  {
   "cell_type": "code",
   "execution_count": 7,
   "id": "f284fe73-9014-4db4-a85f-adde79e1ba77",
   "metadata": {},
   "outputs": [],
   "source": [
    "def factoriel(n):\n",
    "    val = 1\n",
    "    for i in range(1,n+1):\n",
    "        val = val*i\n",
    "    return val"
   ]
  },
  {
   "cell_type": "code",
   "execution_count": 15,
   "id": "9d42ed87-3162-4213-80f3-6f13a73ca982",
   "metadata": {},
   "outputs": [
    {
     "data": {
      "text/plain": [
       "720"
      ]
     },
     "execution_count": 15,
     "metadata": {},
     "output_type": "execute_result"
    }
   ],
   "source": [
    "factoriel(6)"
   ]
  },
  {
   "cell_type": "code",
   "execution_count": 32,
   "id": "4538335e-724d-4635-9e20-91a16c0e834e",
   "metadata": {},
   "outputs": [
    {
     "data": {
      "text/latex": [
       "$\\displaystyle \\left[ 2, \\  6, \\  24, \\  120, \\  720, \\  5040, \\  40320, \\  362880\\right]$"
      ],
      "text/plain": [
       "[2, 6, 24, 120, 720, 5040, 40320, 362880]"
      ]
     },
     "execution_count": 32,
     "metadata": {},
     "output_type": "execute_result"
    }
   ],
   "source": [
    "rt = [2, 3, 4, 5, 6, 7, 8, 9]\n",
    "fac = map(factoriel, rt)\n",
    "list(fac)"
   ]
  },
  {
   "cell_type": "code",
   "execution_count": 21,
   "id": "47764196-6a1f-49c5-ac88-c7e5be7247bd",
   "metadata": {},
   "outputs": [
    {
     "data": {
      "text/plain": [
       "[True, False, True, False, True, False, True, False]"
      ]
     },
     "execution_count": 21,
     "metadata": {},
     "output_type": "execute_result"
    }
   ],
   "source": [
    "carre = map(lambda x: x%2==0,rt)\n",
    "list(carre)"
   ]
  },
  {
   "cell_type": "code",
   "execution_count": 1,
   "id": "dcb7075b-bfca-4943-8b2f-e7ab49f268ac",
   "metadata": {},
   "outputs": [
    {
     "name": "stdout",
     "output_type": "stream",
     "text": [
      "2 La reflexion est tres important \n",
      " n'est pas ? \n",
      " oui oui\n",
      "3 La reflexion est tres important \n",
      " n'est pas ? \n",
      " oui oui\n"
     ]
    }
   ],
   "source": [
    "re = 1\n",
    "while re <= 2:\n",
    "    print(f\"{re+1} La reflexion est tres important \\n n'est pas ? \\n oui oui\")\n",
    "    re+=1"
   ]
  },
  {
   "cell_type": "code",
   "execution_count": 1,
   "id": "2abe8793-f374-4e5d-97c5-6e072c22c793",
   "metadata": {},
   "outputs": [
    {
     "data": {
      "image/png": "[encoded data removed]",
      "text/plain": [
       "<Figure size 640x480 with 1 Axes>"
      ]
     },
     "metadata": {},
     "output_type": "display_data"
    },
    {
     "data": {
      "text/plain": [
       "<sympy.plotting.plot.Plot at 0x2a2a50e6660>"
      ]
     },
     "execution_count": 1,
     "metadata": {},
     "output_type": "execute_result"
    }
   ],
   "source": [
    "import sympy as s\n",
    "s.init_printing()\n",
    "x, y=s.symbols(\"x, y\")\n",
    "s.plot(x**2, ylim=(-50,50))"
   ]
  },
  {
   "cell_type": "markdown",
   "id": "68b101b1-a6b7-4959-87a1-500cff3bebc9",
   "metadata": {},
   "source": [
    "## Matrices"
   ]
  },
  {
   "cell_type": "code",
   "execution_count": 22,
   "id": "17309444-e438-4adc-b69b-244dee693ddb",
   "metadata": {},
   "outputs": [
    {
     "data": {
      "text/latex": [
       "$\\displaystyle \\left[\\begin{matrix}1 & 2\\\\4 & 5\\end{matrix}\\right]$"
      ],
      "text/plain": [
       "Matrix([\n",
       "[1, 2],\n",
       "[4, 5]])"
      ]
     },
     "execution_count": 22,
     "metadata": {},
     "output_type": "execute_result"
    }
   ],
   "source": [
    "A=sp.Matrix([[1,2], [4,5]])\n",
    "A"
   ]
  },
  {
   "cell_type": "code",
   "execution_count": 23,
   "id": "ce7fa6ee-37ec-434f-8d6b-98743f0eaee0",
   "metadata": {},
   "outputs": [
    {
     "data": {
      "text/latex": [
       "$\\displaystyle \\left[\\begin{matrix}- \\frac{5}{3} & \\frac{2}{3}\\\\\\frac{4}{3} & - \\frac{1}{3}\\end{matrix}\\right]$"
      ],
      "text/plain": [
       "Matrix([\n",
       "[-5/3,  2/3],\n",
       "[ 4/3, -1/3]])"
      ]
     },
     "execution_count": 23,
     "metadata": {},
     "output_type": "execute_result"
    }
   ],
   "source": [
    "A.inv()"
   ]
  },
  {
   "cell_type": "code",
   "execution_count": 24,
   "id": "cafd7418-8736-40e0-9ec2-2c9e5e20300b",
   "metadata": {},
   "outputs": [
    {
     "data": {
      "text/latex": [
       "$\\displaystyle -3$"
      ],
      "text/plain": [
       "-3"
      ]
     },
     "execution_count": 24,
     "metadata": {},
     "output_type": "execute_result"
    }
   ],
   "source": [
    "sp.det(A)"
   ]
  },
  {
   "cell_type": "code",
   "execution_count": 25,
   "id": "7df4fee4-8645-4e19-854e-d954f1c8a206",
   "metadata": {},
   "outputs": [
    {
     "data": {
      "text/latex": [
       "$\\displaystyle \\left[\\begin{matrix}67 & 90 & 95\\\\10 & 71 & 88\\\\91 & 99 & 65\\end{matrix}\\right]$"
      ],
      "text/plain": [
       "Matrix([\n",
       "[67, 90, 95],\n",
       "[10, 71, 88],\n",
       "[91, 99, 65]])"
      ]
     },
     "execution_count": 25,
     "metadata": {},
     "output_type": "execute_result"
    }
   ],
   "source": [
    "B=sp.randMatrix(3,3)\n",
    "B"
   ]
  },
  {
   "cell_type": "code",
   "execution_count": 26,
   "id": "ce553aeb-13df-4bf7-8102-c214cfb00676",
   "metadata": {},
   "outputs": [
    {
     "data": {
      "text/latex": [
       "$\\displaystyle -132024$"
      ],
      "text/plain": [
       "-132024"
      ]
     },
     "execution_count": 26,
     "metadata": {},
     "output_type": "execute_result"
    }
   ],
   "source": [
    "sp.det(B)"
   ]
  },
  {
   "cell_type": "markdown",
   "id": "ccbfa3f9-f266-4310-8c88-21620e70460b",
   "metadata": {},
   "source": [
    "## Limites"
   ]
  },
  {
   "cell_type": "code",
   "execution_count": 8,
   "id": "88c3ba58-0fe1-4739-a0d0-1583027c78b6",
   "metadata": {},
   "outputs": [
    {
     "data": {
      "image/png": "[encoded data removed]",
      "text/latex": [
       "$\\displaystyle -2$"
      ],
      "text/plain": [
       "-2"
      ]
     },
     "execution_count": 8,
     "metadata": {},
     "output_type": "execute_result"
    }
   ],
   "source": [
    "sp.limit((1-x**2)/(x-1),x,1)"
   ]
  },
  {
   "cell_type": "code",
   "execution_count": 9,
   "id": "d8b63e94-fc9a-45ee-ae15-68c9016ba54c",
   "metadata": {},
   "outputs": [
    {
     "data": {
      "image/png": "[encoded data removed]",
      "text/latex": [
       "$\\displaystyle \\frac{1}{2}$"
      ],
      "text/plain": [
       "1/2"
      ]
     },
     "execution_count": 9,
     "metadata": {},
     "output_type": "execute_result"
    }
   ],
   "source": [
    "sp.limit((1-sp.cos(x))/(x**2),x,0)"
   ]
  },
  {
   "cell_type": "markdown",
   "id": "e848bb05-8ce3-4f20-a1e7-7428b38a24b9",
   "metadata": {},
   "source": [
    "3 Tracer un vecteur avec matplotlib"
   ]
  }
 ],
 "metadata": {
  "kernelspec": {
   "display_name": "Python 3 (ipykernel)",
   "language": "python",
   "name": "python3"
  },
  "language_info": {
   "codemirror_mode": {
    "name": "ipython",
    "version": 3
   },
   "file_extension": ".py",
   "mimetype": "text/x-python",
   "name": "python",
   "nbconvert_exporter": "python",
   "pygments_lexer": "ipython3",
   "version": "3.12.2"
  }
 },
 "nbformat": 4,
 "nbformat_minor": 5
}
