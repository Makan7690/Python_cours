{
 "cells": [
  {
   "cell_type": "markdown",
   "id": "f496ead4-c06a-4a02-824e-95b15fe14f64",
   "metadata": {},
   "source": [
    "1 Hello world"
   ]
  },
  {
   "cell_type": "code",
   "execution_count": 1,
   "id": "7d9b65ba-c473-481c-86f5-96c8de395b73",
   "metadata": {},
   "outputs": [
    {
     "name": "stdout",
     "output_type": "stream",
     "text": [
      "Hello World\n"
     ]
    }
   ],
   "source": [
    "print(\"Hello World\")"
   ]
  },
  {
   "cell_type": "markdown",
   "id": "de8150b2-a339-405f-94e9-e17c11523282",
   "metadata": {},
   "source": [
    "2 Variables et operations:"
   ]
  },
  {
   "cell_type": "code",
   "execution_count": 3,
   "id": "bac337c1-20a1-4f47-be3a-4fc9c5f562b8",
   "metadata": {},
   "outputs": [
    {
     "name": "stdout",
     "output_type": "stream",
     "text": [
      "sum: 8, produit: 15\n"
     ]
    }
   ],
   "source": [
    "a = 5\n",
    "b = 3\n",
    "sum_result = a + b\n",
    "produit_result = a*b\n",
    "print(f\"sum: {sum_result}, produit: {produit_result}\")"
   ]
  },
  {
   "cell_type": "markdown",
   "id": "20df7137-e444-47da-8773-b0def14708db",
   "metadata": {},
   "source": [
    "3 Structures de controle:"
   ]
  },
  {
   "cell_type": "code",
   "execution_count": 8,
   "id": "6e87097e-d159-4a49-8c38-fb9a9eee7d64",
   "metadata": {},
   "outputs": [
    {
     "name": "stdout",
     "output_type": "stream",
     "text": [
      "C'est pour if\n",
      "x est superieur a 5\n",
      "C'est pour for\n",
      "0\n",
      "1\n",
      "2\n",
      "3\n",
      "4\n",
      "C'est pour while\n",
      "0\n",
      "1\n",
      "2\n"
     ]
    }
   ],
   "source": [
    "print(\"C'est pour if\")\n",
    "x = 10\n",
    "if x > 5:\n",
    "    print(\"x est superieur a 5\")\n",
    "else:\n",
    "    print(\"x n'est pas superieur a 5\")\n",
    "print(\"C'est pour for\")    \n",
    "for i in range(5):\n",
    "    print(i)\n",
    "print(\"C'est pour while\")\n",
    "counter = 0\n",
    "while counter < 3:\n",
    "    print(counter)\n",
    "    counter += 1"
   ]
  },
  {
   "cell_type": "markdown",
   "id": "58fc7c9f-d3f4-44ee-8f6d-8a30546ad0a2",
   "metadata": {},
   "source": [
    "4 Listes et boucles:"
   ]
  },
  {
   "cell_type": "code",
   "execution_count": 1,
   "id": "b87d1557-68c3-476c-b21c-da89938a6065",
   "metadata": {},
   "outputs": [
    {
     "name": "stdout",
     "output_type": "stream",
     "text": [
      "pomme\n",
      "banane\n",
      "orange\n",
      "[1, 4, 9, 16, 25, 36, 49, 64]\n"
     ]
    }
   ],
   "source": [
    "fruits = [\"pomme\",\"banane\",\"orange\"]\n",
    "for fruit in fruits:\n",
    "    print(fruit)\n",
    "squares = [x**2 for x in range(1,9)]\n",
    "print(squares)"
   ]
  },
  {
   "cell_type": "markdown",
   "id": "105b7c2e-ad3c-43b2-9237-d1f676f25357",
   "metadata": {},
   "source": [
    "5 Fonctions"
   ]
  },
  {
   "cell_type": "code",
   "execution_count": 11,
   "id": "4e21e108-ad37-4f59-921e-8d2656f698b3",
   "metadata": {},
   "outputs": [
    {
     "name": "stdout",
     "output_type": "stream",
     "text": [
      "Hello, Alice!\n"
     ]
    }
   ],
   "source": [
    "def greet(name):\n",
    "    return f\"Hello, {name}!\"\n",
    "message = greet(\"Alice\")\n",
    "print(message)"
   ]
  },
  {
   "cell_type": "code",
   "execution_count": 1,
   "id": "80ca10ac-6588-4d69-87aa-2510bc8bd30f",
   "metadata": {},
   "outputs": [
    {
     "data": {
      "text/plain": [
       "[1, 2, 4, 8, 16, 32]"
      ]
     },
     "execution_count": 1,
     "metadata": {},
     "output_type": "execute_result"
    }
   ],
   "source": [
    "import sympy as sp\n",
    "sp.divisors(32)"
   ]
  },
  {
   "cell_type": "code",
   "execution_count": 5,
   "id": "2d74c9af-4fdf-4bdc-b4f4-07466f588744",
   "metadata": {},
   "outputs": [
    {
     "data": {
      "text/plain": [
       "[3, 4]"
      ]
     },
     "execution_count": 5,
     "metadata": {},
     "output_type": "execute_result"
    }
   ],
   "source": [
    "x = sp.symbols('x')\n",
    "sp.solve((x**2-7*x + 12),x)"
   ]
  },
  {
   "cell_type": "code",
   "execution_count": null,
   "id": "b9298597-b9eb-430c-a3a7-b38e02160735",
   "metadata": {},
   "outputs": [],
   "source": [
    "re = 1\n",
    "while re <= 17:\n",
    "    print(f\"{re+1} La reflexion est tres important \\n n;est pas ? \\n oui oui\")\n",
    "re+=1"
   ]
  },
  {
   "cell_type": "code",
   "execution_count": null,
   "id": "2f7981b8-2dc7-4824-be56-76e95f8c7c11",
   "metadata": {},
   "outputs": [],
   "source": [
    "print(\"Hello\")"
   ]
  },
  {
   "cell_type": "code",
   "execution_count": null,
   "id": "36fd136c-aa5d-4d11-8c0a-8d794a43756a",
   "metadata": {},
   "outputs": [],
   "source": [
    "count = 2\n",
    "while count <= 12:\n",
    "    print(count)\n",
    "    count+=1"
   ]
  },
  {
   "cell_type": "code",
   "execution_count": null,
   "id": "d79be890-1960-41c5-b27e-f661c6a4abd0",
   "metadata": {},
   "outputs": [],
   "source": []
  }
 ],
 "metadata": {
  "kernelspec": {
   "display_name": "Python 3 (ipykernel)",
   "language": "python",
   "name": "python3"
  },
  "language_info": {
   "codemirror_mode": {
    "name": "ipython",
    "version": 3
   },
   "file_extension": ".py",
   "mimetype": "text/x-python",
   "name": "python",
   "nbconvert_exporter": "python",
   "pygments_lexer": "ipython3",
   "version": "3.12.2"
  }
 },
 "nbformat": 4,
 "nbformat_minor": 5
}
