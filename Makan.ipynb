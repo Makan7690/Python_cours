{
 "cells": [
  {
   "cell_type": "markdown",
   "id": "6b8b0cbe-b4b1-42f4-83c1-eaba483041ac",
   "metadata": {},
   "source": [
    "# Pratique"
   ]
  },
  {
   "cell_type": "markdown",
   "id": "b2f3d91f-b74d-49b4-acab-2f180681adcd",
   "metadata": {},
   "source": [
    "# 2.1 Fontions Numeriques"
   ]
  },
  {
   "cell_type": "code",
   "execution_count": 1,
   "id": "1387b062-5d8f-4981-8772-10e47c3137c0",
   "metadata": {},
   "outputs": [],
   "source": [
    "from sympy import *\n",
    "x, y = symbols('x,y')"
   ]
  },
  {
   "cell_type": "code",
   "execution_count": 2,
   "id": "9cad08db-4e1a-41c0-b9d8-d24090262dd6",
   "metadata": {},
   "outputs": [],
   "source": [
    "expr1 = x**2 + 2*x + 1\n",
    "expr2 = x**2 - 1"
   ]
  },
  {
   "cell_type": "code",
   "execution_count": 4,
   "id": "5bd1fa4c-76ac-4d8b-b809-081f95769efe",
   "metadata": {},
   "outputs": [
    {
     "data": {
      "text/latex": [
       "$\\displaystyle x^{2} + 2 x + 1$"
      ],
      "text/plain": [
       "x**2 + 2*x + 1"
      ]
     },
     "execution_count": 4,
     "metadata": {},
     "output_type": "execute_result"
    }
   ],
   "source": [
    "expr1"
   ]
  },
  {
   "cell_type": "code",
   "execution_count": 5,
   "id": "9df06b08-3ba7-40d1-ae54-0fdceea77944",
   "metadata": {},
   "outputs": [
    {
     "data": {
      "text/latex": [
       "$\\displaystyle \\left(x + 1\\right)^{2}$"
      ],
      "text/plain": [
       "(x + 1)**2"
      ]
     },
     "execution_count": 5,
     "metadata": {},
     "output_type": "execute_result"
    }
   ],
   "source": [
    "factor(expr1)"
   ]
  },
  {
   "cell_type": "code",
   "execution_count": 6,
   "id": "d3946ee4-9fbb-4cbd-91a1-6d7b10ba82d2",
   "metadata": {},
   "outputs": [
    {
     "data": {
      "text/latex": [
       "$\\displaystyle 2 x + 2$"
      ],
      "text/plain": [
       "2*x + 2"
      ]
     },
     "execution_count": 6,
     "metadata": {},
     "output_type": "execute_result"
    }
   ],
   "source": [
    "diff(expr1)"
   ]
  },
  {
   "cell_type": "code",
   "execution_count": 7,
   "id": "184e3ef5-2e0d-499d-9578-b729fb5f5c86",
   "metadata": {},
   "outputs": [
    {
     "data": {
      "text/latex": [
       "$\\displaystyle \\frac{x^{3}}{3} + x^{2} + x$"
      ],
      "text/plain": [
       "x**3/3 + x**2 + x"
      ]
     },
     "execution_count": 7,
     "metadata": {},
     "output_type": "execute_result"
    }
   ],
   "source": [
    "integrate(expr1)"
   ]
  },
  {
   "cell_type": "code",
   "execution_count": 8,
   "id": "56afb0e1-cf11-4e6c-944a-aa2adcd9ff6b",
   "metadata": {},
   "outputs": [
    {
     "data": {
      "text/latex": [
       "$\\displaystyle x^{2} - 1$"
      ],
      "text/plain": [
       "x**2 - 1"
      ]
     },
     "execution_count": 8,
     "metadata": {},
     "output_type": "execute_result"
    }
   ],
   "source": [
    "expr2"
   ]
  },
  {
   "cell_type": "code",
   "execution_count": 9,
   "id": "2994454f-a68c-4a49-8133-8078d6f4f42a",
   "metadata": {},
   "outputs": [
    {
     "data": {
      "text/latex": [
       "$\\displaystyle \\left(x - 1\\right) \\left(x + 1\\right)$"
      ],
      "text/plain": [
       "(x - 1)*(x + 1)"
      ]
     },
     "execution_count": 9,
     "metadata": {},
     "output_type": "execute_result"
    }
   ],
   "source": [
    "factor(expr2)"
   ]
  },
  {
   "cell_type": "code",
   "execution_count": 10,
   "id": "ef88063e-54a4-4af4-a662-9820b70125f7",
   "metadata": {},
   "outputs": [
    {
     "data": {
      "text/latex": [
       "$\\displaystyle 2 x$"
      ],
      "text/plain": [
       "2*x"
      ]
     },
     "execution_count": 10,
     "metadata": {},
     "output_type": "execute_result"
    }
   ],
   "source": [
    "diff(expr2)"
   ]
  },
  {
   "cell_type": "code",
   "execution_count": 11,
   "id": "9901579b-6d7e-43f1-ab19-f59e2cfa6fb6",
   "metadata": {},
   "outputs": [
    {
     "data": {
      "text/latex": [
       "$\\displaystyle \\frac{x^{3}}{3} - x$"
      ],
      "text/plain": [
       "x**3/3 - x"
      ]
     },
     "execution_count": 11,
     "metadata": {},
     "output_type": "execute_result"
    }
   ],
   "source": [
    "integrate(expr2)"
   ]
  },
  {
   "cell_type": "code",
   "execution_count": 12,
   "id": "e703ccd3-9ae6-4198-8db5-cf1ca1d8e5bf",
   "metadata": {},
   "outputs": [
    {
     "data": {
      "text/latex": [
       "$\\displaystyle \\frac{x^{2} - 1}{x - 1}$"
      ],
      "text/plain": [
       "(x**2 - 1)/(x - 1)"
      ]
     },
     "execution_count": 12,
     "metadata": {},
     "output_type": "execute_result"
    }
   ],
   "source": [
    "expr2/(x-1)"
   ]
  },
  {
   "cell_type": "code",
   "execution_count": 13,
   "id": "0d400cbf-a680-4c06-ae02-937c4810e482",
   "metadata": {},
   "outputs": [
    {
     "data": {
      "text/latex": [
       "$\\displaystyle 2$"
      ],
      "text/plain": [
       "2"
      ]
     },
     "execution_count": 13,
     "metadata": {},
     "output_type": "execute_result"
    }
   ],
   "source": [
    "limit(expr2/(x-1),x,1)"
   ]
  },
  {
   "cell_type": "code",
   "execution_count": 14,
   "id": "b86da4f2-94b5-4e88-833b-2126c856e764",
   "metadata": {},
   "outputs": [
    {
     "data": {
      "text/latex": [
       "$\\displaystyle \\frac{1 - \\cos{\\left(x \\right)}}{x^{2}}$"
      ],
      "text/plain": [
       "(1 - cos(x))/x**2"
      ]
     },
     "execution_count": 14,
     "metadata": {},
     "output_type": "execute_result"
    }
   ],
   "source": [
    "f = (1-cos(x))/x**2\n",
    "f"
   ]
  },
  {
   "cell_type": "code",
   "execution_count": 15,
   "id": "feb99a3d-1fb2-4c69-91d7-187b35cdcc72",
   "metadata": {},
   "outputs": [
    {
     "data": {
      "text/latex": [
       "$\\displaystyle \\frac{1}{2}$"
      ],
      "text/plain": [
       "1/2"
      ]
     },
     "execution_count": 15,
     "metadata": {},
     "output_type": "execute_result"
    }
   ],
   "source": [
    "limit(f,x,0)"
   ]
  },
  {
   "cell_type": "code",
   "execution_count": 16,
   "id": "7824099a-ad9f-46d1-8863-487c60abed40",
   "metadata": {},
   "outputs": [
    {
     "data": {
      "text/latex": [
       "$\\displaystyle \\frac{1 - x^{5}}{1 - x}$"
      ],
      "text/plain": [
       "(1 - x**5)/(1 - x)"
      ]
     },
     "execution_count": 16,
     "metadata": {},
     "output_type": "execute_result"
    }
   ],
   "source": [
    "g = (1 - x**5)/(1 - x)\n",
    "g"
   ]
  },
  {
   "cell_type": "code",
   "execution_count": 17,
   "id": "459fe573-1029-4730-a912-709c510c80ae",
   "metadata": {},
   "outputs": [
    {
     "data": {
      "text/latex": [
       "$\\displaystyle 5$"
      ],
      "text/plain": [
       "5"
      ]
     },
     "execution_count": 17,
     "metadata": {},
     "output_type": "execute_result"
    }
   ],
   "source": [
    "limit(g,x,1)"
   ]
  },
  {
   "cell_type": "markdown",
   "id": "0a92ef94-e1d3-4a9a-90ab-71bd2fc3f46a",
   "metadata": {},
   "source": [
    "# 2.2 Nombres Complexes"
   ]
  },
  {
   "cell_type": "code",
   "execution_count": 18,
   "id": "3b8e2f64-62b0-497b-9c34-6f0a6a1c7a51",
   "metadata": {
    "scrolled": true
   },
   "outputs": [
    {
     "data": {
      "text/latex": [
       "$\\displaystyle 3 + 2 i$"
      ],
      "text/plain": [
       "3 + 2*I"
      ]
     },
     "execution_count": 18,
     "metadata": {},
     "output_type": "execute_result"
    }
   ],
   "source": [
    "z = 3 + 2*I\n",
    "z"
   ]
  },
  {
   "cell_type": "code",
   "execution_count": 19,
   "id": "6cc30109-b2ea-4c82-a6bf-7af9745ec954",
   "metadata": {},
   "outputs": [],
   "source": [
    "rep= re(z)\n",
    "imp = im(z)"
   ]
  },
  {
   "cell_type": "code",
   "execution_count": 20,
   "id": "8b646eaa-718d-431d-8f35-41938baeaf77",
   "metadata": {
    "scrolled": true
   },
   "outputs": [
    {
     "data": {
      "text/latex": [
       "$\\displaystyle 3$"
      ],
      "text/plain": [
       "3"
      ]
     },
     "execution_count": 20,
     "metadata": {},
     "output_type": "execute_result"
    }
   ],
   "source": [
    "rep"
   ]
  },
  {
   "cell_type": "code",
   "execution_count": 21,
   "id": "5a29da41-13c0-4940-b152-9b71395aef71",
   "metadata": {},
   "outputs": [
    {
     "data": {
      "text/latex": [
       "$\\displaystyle 2$"
      ],
      "text/plain": [
       "2"
      ]
     },
     "execution_count": 21,
     "metadata": {},
     "output_type": "execute_result"
    }
   ],
   "source": [
    "\n",
    "\n",
    "imp"
   ]
  },
  {
   "cell_type": "code",
   "execution_count": 22,
   "id": "5addcfae-65e0-4580-8de7-fe2bd56c09e7",
   "metadata": {},
   "outputs": [
    {
     "data": {
      "text/latex": [
       "$\\displaystyle 3 - 2 i$"
      ],
      "text/plain": [
       "3 - 2*I"
      ]
     },
     "execution_count": 22,
     "metadata": {},
     "output_type": "execute_result"
    }
   ],
   "source": [
    "conjugue = conjugate(z)\n",
    "conjugue"
   ]
  },
  {
   "cell_type": "code",
   "execution_count": 23,
   "id": "f47e932e-00e0-48e9-bfa7-df394a317f68",
   "metadata": {},
   "outputs": [
    {
     "data": {
      "text/latex": [
       "$\\displaystyle \\sqrt{13}$"
      ],
      "text/plain": [
       "sqrt(13)"
      ]
     },
     "execution_count": 23,
     "metadata": {},
     "output_type": "execute_result"
    }
   ],
   "source": [
    "absolue = abs(z)\n",
    "absolue"
   ]
  },
  {
   "cell_type": "code",
   "execution_count": 24,
   "id": "8303bf98-ed24-49e5-b6f0-99d6b600d1cd",
   "metadata": {},
   "outputs": [
    {
     "data": {
      "text/latex": [
       "$\\displaystyle \\operatorname{atan}{\\left(\\frac{2}{3} \\right)}$"
      ],
      "text/plain": [
       "atan(2/3)"
      ]
     },
     "execution_count": 24,
     "metadata": {},
     "output_type": "execute_result"
    }
   ],
   "source": [
    "argument = arg(z)\n",
    "argument"
   ]
  },
  {
   "cell_type": "code",
   "execution_count": 25,
   "id": "4025c2c4-b0dc-422f-84e9-6cb05c2d878a",
   "metadata": {},
   "outputs": [],
   "source": [
    "z1 = 4 + 7*I\n",
    "z2 = 16 - 3*I\n",
    "z3 = 8 + 5*I"
   ]
  },
  {
   "cell_type": "code",
   "execution_count": 26,
   "id": "59d6e874-d896-4018-9d9b-0fed461ea55c",
   "metadata": {},
   "outputs": [
    {
     "data": {
      "text/latex": [
       "$\\displaystyle 28 + 9 i$"
      ],
      "text/plain": [
       "28 + 9*I"
      ]
     },
     "execution_count": 26,
     "metadata": {},
     "output_type": "execute_result"
    }
   ],
   "source": [
    "sum = z1 + z2 + z3\n",
    "sum"
   ]
  },
  {
   "cell_type": "code",
   "execution_count": 27,
   "id": "4e1bf76a-a78a-4416-8e53-86eee1748219",
   "metadata": {},
   "outputs": [
    {
     "data": {
      "text/latex": [
       "$\\displaystyle \\operatorname{atan}{\\left(\\frac{9}{28} \\right)}$"
      ],
      "text/plain": [
       "atan(9/28)"
      ]
     },
     "execution_count": 27,
     "metadata": {},
     "output_type": "execute_result"
    }
   ],
   "source": [
    "sd = arg(sum)\n",
    "sd"
   ]
  },
  {
   "cell_type": "code",
   "execution_count": 28,
   "id": "99484db7-7965-40c6-8872-259ea2d6cbad",
   "metadata": {},
   "outputs": [
    {
     "data": {
      "text/latex": [
       "$\\displaystyle 28 - 9 i$"
      ],
      "text/plain": [
       "28 - 9*I"
      ]
     },
     "execution_count": 28,
     "metadata": {},
     "output_type": "execute_result"
    }
   ],
   "source": [
    "sf = conjugate(sum)\n",
    "sf"
   ]
  },
  {
   "cell_type": "code",
   "execution_count": 29,
   "id": "58885cfd-4045-482c-babd-633d3a36c305",
   "metadata": {},
   "outputs": [
    {
     "data": {
      "text/latex": [
       "$\\displaystyle \\left(28 + 9 i\\right)^{2}$"
      ],
      "text/plain": [
       "(28 + 9*I)**2"
      ]
     },
     "execution_count": 29,
     "metadata": {},
     "output_type": "execute_result"
    }
   ],
   "source": [
    "sa = sum**2\n",
    "sa"
   ]
  },
  {
   "cell_type": "code",
   "execution_count": 30,
   "id": "a7944203-7d5a-4bfd-b23b-ee87ff1c9d4a",
   "metadata": {},
   "outputs": [
    {
     "data": {
      "text/latex": [
       "$\\displaystyle \\sqrt{28 + 9 i}$"
      ],
      "text/plain": [
       "sqrt(28 + 9*I)"
      ]
     },
     "execution_count": 30,
     "metadata": {},
     "output_type": "execute_result"
    }
   ],
   "source": [
    "er = sqrt(sum)\n",
    "er"
   ]
  },
  {
   "cell_type": "code",
   "execution_count": 31,
   "id": "c175d9c6-b4e1-47ac-88cd-07303ab8fc75",
   "metadata": {},
   "outputs": [
    {
     "data": {
      "text/latex": [
       "$\\displaystyle 3 - 9 i$"
      ],
      "text/plain": [
       "3 - 9*I"
      ]
     },
     "execution_count": 31,
     "metadata": {},
     "output_type": "execute_result"
    }
   ],
   "source": [
    "zx = 3 - 9*I\n",
    "zx\n",
    "# polar_from = abs_zxf*exp(I*arg_zx)\n",
    "# polar_from"
   ]
  },
  {
   "cell_type": "markdown",
   "id": "04023908-45e7-44d5-8c52-ee9c90121c19",
   "metadata": {},
   "source": [
    "# 2.3 Matrices"
   ]
  },
  {
   "cell_type": "code",
   "execution_count": 32,
   "id": "b27c12bb-7961-4ba0-81f8-997827482503",
   "metadata": {},
   "outputs": [
    {
     "data": {
      "text/latex": [
       "$\\displaystyle \\left[\\begin{matrix}1 & 2 & 3\\\\4 & 5 & 6\\\\7 & 8 & 9\\end{matrix}\\right]$"
      ],
      "text/plain": [
       "Matrix([\n",
       "[1, 2, 3],\n",
       "[4, 5, 6],\n",
       "[7, 8, 9]])"
      ]
     },
     "execution_count": 32,
     "metadata": {},
     "output_type": "execute_result"
    }
   ],
   "source": [
    "from sympy import *\n",
    "A = Matrix([[1,2,3], [4,5,6], [7,8,9]])\n",
    "A"
   ]
  },
  {
   "cell_type": "code",
   "execution_count": 33,
   "id": "7ece714e-dc1d-442c-a90f-767fceac8d22",
   "metadata": {},
   "outputs": [],
   "source": [
    "rows,cols = A.shape"
   ]
  },
  {
   "cell_type": "code",
   "execution_count": 34,
   "id": "e831681d-01da-4de7-bdf4-a9f365f9083d",
   "metadata": {},
   "outputs": [
    {
     "data": {
      "text/plain": [
       "3"
      ]
     },
     "execution_count": 34,
     "metadata": {},
     "output_type": "execute_result"
    }
   ],
   "source": [
    "rows"
   ]
  },
  {
   "cell_type": "code",
   "execution_count": 35,
   "id": "b36e5182-6254-48e9-8c26-fcf9134fa317",
   "metadata": {},
   "outputs": [
    {
     "data": {
      "text/plain": [
       "3"
      ]
     },
     "execution_count": 35,
     "metadata": {},
     "output_type": "execute_result"
    }
   ],
   "source": [
    "cols"
   ]
  },
  {
   "cell_type": "code",
   "execution_count": 36,
   "id": "248b497c-fcac-47fb-b334-56eb3d87296c",
   "metadata": {},
   "outputs": [
    {
     "data": {
      "text/latex": [
       "$\\displaystyle 6$"
      ],
      "text/plain": [
       "6"
      ]
     },
     "execution_count": 36,
     "metadata": {},
     "output_type": "execute_result"
    }
   ],
   "source": [
    "a12 = A[1,2]\n",
    "a12"
   ]
  },
  {
   "cell_type": "code",
   "execution_count": 37,
   "id": "1aa497ac-c9eb-4b57-801b-576360f4d0ae",
   "metadata": {},
   "outputs": [],
   "source": [
    "eye_mt = eye(3)\n",
    "zero_mt = zeros(2,1)"
   ]
  },
  {
   "cell_type": "code",
   "execution_count": 38,
   "id": "79acbdd6-2c7c-48c8-8594-ce08d8c854d6",
   "metadata": {},
   "outputs": [
    {
     "data": {
      "text/latex": [
       "$\\displaystyle \\left[\\begin{matrix}1 & 0 & 0\\\\0 & 1 & 0\\\\0 & 0 & 1\\end{matrix}\\right]$"
      ],
      "text/plain": [
       "Matrix([\n",
       "[1, 0, 0],\n",
       "[0, 1, 0],\n",
       "[0, 0, 1]])"
      ]
     },
     "execution_count": 38,
     "metadata": {},
     "output_type": "execute_result"
    }
   ],
   "source": [
    "eye_mt"
   ]
  },
  {
   "cell_type": "code",
   "execution_count": 39,
   "id": "b6440e89-1fd0-48b8-be07-26e92a17fc96",
   "metadata": {},
   "outputs": [
    {
     "data": {
      "text/latex": [
       "$\\displaystyle \\left[\\begin{matrix}0\\\\0\\end{matrix}\\right]$"
      ],
      "text/plain": [
       "Matrix([\n",
       "[0],\n",
       "[0]])"
      ]
     },
     "execution_count": 39,
     "metadata": {},
     "output_type": "execute_result"
    }
   ],
   "source": [
    "zero_mt"
   ]
  },
  {
   "cell_type": "code",
   "execution_count": 40,
   "id": "dbacb3dc-fb3f-4b97-85b4-190bd12489b2",
   "metadata": {},
   "outputs": [
    {
     "data": {
      "text/latex": [
       "$\\displaystyle \\left[\\begin{matrix}2 & 0 & 1\\\\1 & 3 & 4\\\\5 & 6 & 2\\end{matrix}\\right]$"
      ],
      "text/plain": [
       "Matrix([\n",
       "[2, 0, 1],\n",
       "[1, 3, 4],\n",
       "[5, 6, 2]])"
      ]
     },
     "execution_count": 40,
     "metadata": {},
     "output_type": "execute_result"
    }
   ],
   "source": [
    "B = Matrix([[2,0,1],[1,3,4],[5,6,2]])\n",
    "B"
   ]
  },
  {
   "cell_type": "code",
   "execution_count": 41,
   "id": "1f17d4f1-6bd7-49b4-a2dd-22c99153d3d0",
   "metadata": {},
   "outputs": [],
   "source": [
    "sum_matrix = A + B\n",
    "diff_matrix = A - B\n",
    "prod_matrix = A * B"
   ]
  },
  {
   "cell_type": "code",
   "execution_count": 42,
   "id": "50ab06ae-b351-4b93-a5f9-8ff48dd48c23",
   "metadata": {},
   "outputs": [
    {
     "data": {
      "text/latex": [
       "$\\displaystyle \\left[\\begin{matrix}3 & 2 & 4\\\\5 & 8 & 10\\\\12 & 14 & 11\\end{matrix}\\right]$"
      ],
      "text/plain": [
       "Matrix([\n",
       "[ 3,  2,  4],\n",
       "[ 5,  8, 10],\n",
       "[12, 14, 11]])"
      ]
     },
     "execution_count": 42,
     "metadata": {},
     "output_type": "execute_result"
    }
   ],
   "source": [
    "sum_matrix"
   ]
  },
  {
   "cell_type": "code",
   "execution_count": 43,
   "id": "d08f2926-93f0-4b61-8a72-e860ed46088b",
   "metadata": {},
   "outputs": [
    {
     "data": {
      "text/latex": [
       "$\\displaystyle \\left[\\begin{matrix}-1 & 2 & 2\\\\3 & 2 & 2\\\\2 & 2 & 7\\end{matrix}\\right]$"
      ],
      "text/plain": [
       "Matrix([\n",
       "[-1, 2, 2],\n",
       "[ 3, 2, 2],\n",
       "[ 2, 2, 7]])"
      ]
     },
     "execution_count": 43,
     "metadata": {},
     "output_type": "execute_result"
    }
   ],
   "source": [
    "diff_matrix"
   ]
  },
  {
   "cell_type": "code",
   "execution_count": 44,
   "id": "e02f3f69-5994-4066-b5a4-ae8704b9e5db",
   "metadata": {},
   "outputs": [
    {
     "data": {
      "text/latex": [
       "$\\displaystyle \\left[\\begin{matrix}19 & 24 & 15\\\\43 & 51 & 36\\\\67 & 78 & 57\\end{matrix}\\right]$"
      ],
      "text/plain": [
       "Matrix([\n",
       "[19, 24, 15],\n",
       "[43, 51, 36],\n",
       "[67, 78, 57]])"
      ]
     },
     "execution_count": 44,
     "metadata": {},
     "output_type": "execute_result"
    }
   ],
   "source": [
    "prod_matrix"
   ]
  },
  {
   "cell_type": "code",
   "execution_count": 81,
   "id": "5609f562-e93b-4b9d-aa86-744d690ff8c2",
   "metadata": {},
   "outputs": [],
   "source": [
    "B_inv = B.inv()\n",
    "A_square = A**2\n",
    "p, l, u = A.LUdecomposition()"
   ]
  },
  {
   "cell_type": "code",
   "execution_count": 46,
   "id": "e853d787-a339-4c34-ac08-eb01a7278636",
   "metadata": {},
   "outputs": [
    {
     "data": {
      "text/latex": [
       "$\\displaystyle \\left[\\begin{matrix}\\frac{2}{5} & - \\frac{2}{15} & \\frac{1}{15}\\\\- \\frac{2}{5} & \\frac{1}{45} & \\frac{7}{45}\\\\\\frac{1}{5} & \\frac{4}{15} & - \\frac{2}{15}\\end{matrix}\\right]$"
      ],
      "text/plain": [
       "Matrix([\n",
       "[ 2/5, -2/15,  1/15],\n",
       "[-2/5,  1/45,  7/45],\n",
       "[ 1/5,  4/15, -2/15]])"
      ]
     },
     "execution_count": 46,
     "metadata": {},
     "output_type": "execute_result"
    }
   ],
   "source": [
    "B_inv"
   ]
  },
  {
   "cell_type": "code",
   "execution_count": 78,
   "id": "be915f0e-4227-46ca-a791-f7876603fc3a",
   "metadata": {},
   "outputs": [
    {
     "data": {
      "text/latex": [
       "$\\displaystyle \\left[\\begin{matrix}30 & 36 & 42\\\\66 & 81 & 96\\\\102 & 126 & 150\\end{matrix}\\right]$"
      ],
      "text/plain": [
       "Matrix([\n",
       "[ 30,  36,  42],\n",
       "[ 66,  81,  96],\n",
       "[102, 126, 150]])"
      ]
     },
     "execution_count": 78,
     "metadata": {},
     "output_type": "execute_result"
    }
   ],
   "source": [
    "A_square"
   ]
  },
  {
   "cell_type": "code",
   "execution_count": 79,
   "id": "bd749cba-c0f2-4f9f-98be-7b8511745f30",
   "metadata": {},
   "outputs": [
    {
     "data": {
      "text/latex": [
       "$\\displaystyle \\left[\\begin{matrix}1 & 0 & 0\\\\4 & 1 & 0\\\\7 & 2 & 1\\end{matrix}\\right]$"
      ],
      "text/plain": [
       "Matrix([\n",
       "[1, 0, 0],\n",
       "[4, 1, 0],\n",
       "[7, 2, 1]])"
      ]
     },
     "execution_count": 79,
     "metadata": {},
     "output_type": "execute_result"
    }
   ],
   "source": [
    "p"
   ]
  },
  {
   "cell_type": "code",
   "execution_count": 80,
   "id": "22b41b31-7a55-49d9-82ef-cffc608e4915",
   "metadata": {},
   "outputs": [
    {
     "data": {
      "text/latex": [
       "$\\displaystyle \\left[\\begin{matrix}1 & 2 & 3\\\\0 & -3 & -6\\\\0 & 0 & 0\\end{matrix}\\right]$"
      ],
      "text/plain": [
       "Matrix([\n",
       "[1,  2,  3],\n",
       "[0, -3, -6],\n",
       "[0,  0,  0]])"
      ]
     },
     "execution_count": 80,
     "metadata": {},
     "output_type": "execute_result"
    }
   ],
   "source": [
    "l"
   ]
  },
  {
   "cell_type": "code",
   "execution_count": 50,
   "id": "fc802843-7f9c-4ad6-8aef-f7fa4670c8e2",
   "metadata": {},
   "outputs": [
    {
     "data": {
      "text/plain": [
       "[]"
      ]
     },
     "execution_count": 50,
     "metadata": {},
     "output_type": "execute_result"
    }
   ],
   "source": [
    "u"
   ]
  },
  {
   "cell_type": "code",
   "execution_count": 51,
   "id": "6ffcbc4e-7029-4515-ad7d-c1e8a412273d",
   "metadata": {},
   "outputs": [
    {
     "data": {
      "text/latex": [
       "$\\displaystyle 0$"
      ],
      "text/plain": [
       "0"
      ]
     },
     "execution_count": 51,
     "metadata": {},
     "output_type": "execute_result"
    }
   ],
   "source": [
    "det(A)"
   ]
  },
  {
   "cell_type": "code",
   "execution_count": 52,
   "id": "ee402f51-39ba-4d4f-bc3d-d88e4495f0c0",
   "metadata": {},
   "outputs": [
    {
     "data": {
      "text/latex": [
       "$\\displaystyle -45$"
      ],
      "text/plain": [
       "-45"
      ]
     },
     "execution_count": 52,
     "metadata": {},
     "output_type": "execute_result"
    }
   ],
   "source": [
    "det(B)"
   ]
  },
  {
   "cell_type": "code",
   "execution_count": 53,
   "id": "cb81b442-7348-4e28-9054-efebfca5a2fc",
   "metadata": {},
   "outputs": [
    {
     "data": {
      "text/latex": [
       "$\\displaystyle \\left[\\begin{matrix}2 & 0 & 1\\\\1 & 3 & 4\\\\5 & 6 & 2\\end{matrix}\\right]$"
      ],
      "text/plain": [
       "Matrix([\n",
       "[2, 0, 1],\n",
       "[1, 3, 4],\n",
       "[5, 6, 2]])"
      ]
     },
     "execution_count": 53,
     "metadata": {},
     "output_type": "execute_result"
    }
   ],
   "source": [
    "B"
   ]
  },
  {
   "cell_type": "code",
   "execution_count": 54,
   "id": "424a0ed1-050d-40c4-adfd-cebfce606396",
   "metadata": {},
   "outputs": [
    {
     "data": {
      "text/latex": [
       "$\\displaystyle 7$"
      ],
      "text/plain": [
       "7"
      ]
     },
     "execution_count": 54,
     "metadata": {},
     "output_type": "execute_result"
    }
   ],
   "source": [
    "B.trace()"
   ]
  },
  {
   "cell_type": "code",
   "execution_count": 55,
   "id": "427de6ee-1a37-4eac-a7eb-63be25317c57",
   "metadata": {},
   "outputs": [
    {
     "data": {
      "text/latex": [
       "$\\displaystyle \\left[\\begin{matrix}2 & 1 & 5\\\\0 & 3 & 6\\\\1 & 4 & 2\\end{matrix}\\right]$"
      ],
      "text/plain": [
       "Matrix([\n",
       "[2, 1, 5],\n",
       "[0, 3, 6],\n",
       "[1, 4, 2]])"
      ]
     },
     "execution_count": 55,
     "metadata": {},
     "output_type": "execute_result"
    }
   ],
   "source": [
    "B.transpose()"
   ]
  },
  {
   "cell_type": "markdown",
   "id": "21404885-2f3d-4742-8653-76caf82daf6d",
   "metadata": {},
   "source": [
    "# 2.4 Trigonometrie"
   ]
  },
  {
   "cell_type": "code",
   "execution_count": 56,
   "id": "2b92984e-35bd-4084-933c-edf75b98cc6a",
   "metadata": {},
   "outputs": [],
   "source": [
    "expr_sin = sin(x)\n",
    "expr_cos = cos(x)"
   ]
  },
  {
   "cell_type": "code",
   "execution_count": 57,
   "id": "2bf73f17-e078-4278-827a-8b2297f73a70",
   "metadata": {},
   "outputs": [
    {
     "data": {
      "text/latex": [
       "$\\displaystyle \\sin{\\left(x \\right)}$"
      ],
      "text/plain": [
       "sin(x)"
      ]
     },
     "execution_count": 57,
     "metadata": {},
     "output_type": "execute_result"
    }
   ],
   "source": [
    "expr_sin"
   ]
  },
  {
   "cell_type": "code",
   "execution_count": 58,
   "id": "d625429a-643f-4952-a113-ef4f7614320f",
   "metadata": {},
   "outputs": [
    {
     "data": {
      "text/latex": [
       "$\\displaystyle \\cos{\\left(x \\right)}$"
      ],
      "text/plain": [
       "cos(x)"
      ]
     },
     "execution_count": 58,
     "metadata": {},
     "output_type": "execute_result"
    }
   ],
   "source": [
    "expr_cos"
   ]
  },
  {
   "cell_type": "code",
   "execution_count": 59,
   "id": "588c8ba3-7685-42a8-b458-eb5e24535ed2",
   "metadata": {},
   "outputs": [
    {
     "data": {
      "text/latex": [
       "$\\displaystyle \\sin^{2}{\\left(x \\right)} + \\cos^{2}{\\left(x \\right)}$"
      ],
      "text/plain": [
       "sin(x)**2 + cos(x)**2"
      ]
     },
     "execution_count": 59,
     "metadata": {},
     "output_type": "execute_result"
    }
   ],
   "source": [
    "expr = sin(x)**2 + cos(x)**2\n",
    "expr"
   ]
  },
  {
   "cell_type": "code",
   "execution_count": 60,
   "id": "3e600eae-adfb-4d9e-8bc2-98411ff2b372",
   "metadata": {},
   "outputs": [
    {
     "data": {
      "text/latex": [
       "$\\displaystyle 1$"
      ],
      "text/plain": [
       "1"
      ]
     },
     "execution_count": 60,
     "metadata": {},
     "output_type": "execute_result"
    }
   ],
   "source": [
    "simplify(expr)"
   ]
  },
  {
   "cell_type": "code",
   "execution_count": 61,
   "id": "a93f2d51-02b4-4d3a-a943-42bbf5df9a49",
   "metadata": {},
   "outputs": [
    {
     "data": {
      "text/latex": [
       "$\\displaystyle \\sin{\\left(2 x \\right)}$"
      ],
      "text/plain": [
       "sin(2*x)"
      ]
     },
     "execution_count": 61,
     "metadata": {},
     "output_type": "execute_result"
    }
   ],
   "source": [
    "expr_double_angl = sin(2*x)\n",
    "expr_double_angl"
   ]
  },
  {
   "cell_type": "code",
   "execution_count": 62,
   "id": "219dc5ed-304e-46a1-b9d3-19e95964d42a",
   "metadata": {},
   "outputs": [
    {
     "data": {
      "text/latex": [
       "$\\displaystyle \\sin{\\left(x \\right)} \\cos{\\left(y \\right)} + \\sin{\\left(y \\right)} \\cos{\\left(x \\right)}$"
      ],
      "text/plain": [
       "sin(x)*cos(y) + sin(y)*cos(x)"
      ]
     },
     "execution_count": 62,
     "metadata": {},
     "output_type": "execute_result"
    }
   ],
   "source": [
    "expr_sum_formula = sin(x+y).expand(trig=True)\n",
    "expr_sum_formula"
   ]
  },
  {
   "cell_type": "code",
   "execution_count": 63,
   "id": "5cdcc21a-7f34-421b-b30a-2ab653631990",
   "metadata": {},
   "outputs": [
    {
     "data": {
      "text/latex": [
       "$\\displaystyle \\sin{\\left(x \\right)} \\cos{\\left(y \\right)} - \\sin{\\left(y \\right)} \\cos{\\left(x \\right)}$"
      ],
      "text/plain": [
       "sin(x)*cos(y) - sin(y)*cos(x)"
      ]
     },
     "execution_count": 63,
     "metadata": {},
     "output_type": "execute_result"
    }
   ],
   "source": [
    "expr_sus_formula = sin(x-y).expand(trig=True)\n",
    "expr_sus_formula"
   ]
  },
  {
   "cell_type": "code",
   "execution_count": 64,
   "id": "f582efc6-c940-4f9a-be1e-f5755b1cbe16",
   "metadata": {},
   "outputs": [
    {
     "data": {
      "text/latex": [
       "$\\displaystyle \\sin{\\left(x \\right)} \\cos{\\left(y \\right)} + \\sin{\\left(y \\right)} \\cos{\\left(x \\right)}$"
      ],
      "text/plain": [
       "sin(x)*cos(y) + sin(y)*cos(x)"
      ]
     },
     "execution_count": 64,
     "metadata": {},
     "output_type": "execute_result"
    }
   ],
   "source": [
    "exp_sum_formula = cos(x+y).expand(trig=True)\n",
    "expr_sum_formula"
   ]
  },
  {
   "cell_type": "code",
   "execution_count": 65,
   "id": "6db14bcd-54b1-498c-9c1f-dc443a6536cd",
   "metadata": {},
   "outputs": [
    {
     "data": {
      "text/latex": [
       "$\\displaystyle \\sin{\\left(x \\right)} \\cos{\\left(y \\right)} - \\sin{\\left(y \\right)} \\cos{\\left(x \\right)}$"
      ],
      "text/plain": [
       "sin(x)*cos(y) - sin(y)*cos(x)"
      ]
     },
     "execution_count": 65,
     "metadata": {},
     "output_type": "execute_result"
    }
   ],
   "source": [
    "exp_sus_formula = cos(x-y).expand(trig=True)\n",
    "expr_sus_formula"
   ]
  },
  {
   "cell_type": "code",
   "execution_count": 66,
   "id": "f5a4f15b-982f-4237-91ef-2df9d8ad7cbc",
   "metadata": {},
   "outputs": [
    {
     "data": {
      "text/latex": [
       "$\\displaystyle 2 \\sin{\\left(x \\right)} \\cos{\\left(x \\right)}$"
      ],
      "text/plain": [
       "2*sin(x)*cos(x)"
      ]
     },
     "execution_count": 66,
     "metadata": {},
     "output_type": "execute_result"
    }
   ],
   "source": [
    "sin(2*x).expand(trig=True)"
   ]
  },
  {
   "cell_type": "code",
   "execution_count": 67,
   "id": "587fe519-545f-4d3b-a31a-87abdb0c49af",
   "metadata": {},
   "outputs": [
    {
     "data": {
      "text/latex": [
       "$\\displaystyle 5 \\cos^{2}{\\left(x \\right)}$"
      ],
      "text/plain": [
       "5*cos(x)**2"
      ]
     },
     "execution_count": 67,
     "metadata": {},
     "output_type": "execute_result"
    }
   ],
   "source": [
    "expr_sub = expr.subs(sin(x), 2*cos(x))\n",
    "expr_sub"
   ]
  },
  {
   "cell_type": "code",
   "execution_count": 77,
   "id": "b6eea782-8f36-49e9-800c-66b701494ec9",
   "metadata": {},
   "outputs": [
    {
     "data": {
      "image/png": "[encoded data removed]",
      "text/plain": [
       "<Figure size 640x480 with 1 Axes>"
      ]
     },
     "metadata": {},
     "output_type": "display_data"
    },
    {
     "data": {
      "text/plain": [
       "<sympy.plotting.plot.Plot at 0x2d5b0db8410>"
      ]
     },
     "execution_count": 77,
     "metadata": {},
     "output_type": "execute_result"
    }
   ],
   "source": [
    "from sympy.plotting import plot\n",
    "plot(sin(x), (x, -2*pi, 2*pi), title=\"La courbe de sin(x)\")"
   ]
  },
  {
   "cell_type": "code",
   "execution_count": 107,
   "id": "8ea4129a-b6cf-4488-995c-06ffa6aaa3a0",
   "metadata": {},
   "outputs": [
    {
     "data": {
      "image/png": "[encoded data removed]",
      "text/plain": [
       "<Figure size 640x480 with 1 Axes>"
      ]
     },
     "metadata": {},
     "output_type": "display_data"
    },
    {
     "data": {
      "text/plain": [
       "<sympy.plotting.plot.Plot at 0x2d5b4ccd340>"
      ]
     },
     "execution_count": 107,
     "metadata": {},
     "output_type": "execute_result"
    }
   ],
   "source": [
    "from sympy.plotting import plot\n",
    "plot(sinh(x),x**3,exp(x),(x, -2*pi, 2*pi), title=\"La courbe de cos(x)\",legend=(True))"
   ]
  },
  {
   "cell_type": "code",
   "execution_count": 120,
   "id": "c9623f7d-3483-4cd5-881c-7feb795f496b",
   "metadata": {},
   "outputs": [],
   "source": [
    "def factoriel(n):\n",
    "    if(n==0):\n",
    "        return 1\n",
    "    else:\n",
    "        return n*factoriel(n-1)"
   ]
  },
  {
   "cell_type": "code",
   "execution_count": 125,
   "id": "a1205950-292a-428d-a4e7-b3f197f58248",
   "metadata": {},
   "outputs": [
    {
     "data": {
      "text/plain": [
       "362880"
      ]
     },
     "execution_count": 125,
     "metadata": {},
     "output_type": "execute_result"
    }
   ],
   "source": [
    "factoriel(9)"
   ]
  },
  {
   "cell_type": "code",
   "execution_count": 132,
   "id": "85ccfe70-76af-4c32-8c7b-4d5694162d26",
   "metadata": {},
   "outputs": [],
   "source": [
    "def fact(m):\n",
    "    Result = 1\n",
    "    for i in range(1,m+1):\n",
    "        Result = Result*i\n",
    "    return Result"
   ]
  },
  {
   "cell_type": "code",
   "execution_count": 133,
   "id": "ecd4833e-933b-4550-9ae9-9552703c5601",
   "metadata": {},
   "outputs": [
    {
     "data": {
      "text/plain": [
       "479001600"
      ]
     },
     "execution_count": 133,
     "metadata": {},
     "output_type": "execute_result"
    }
   ],
   "source": [
    "fact(12)"
   ]
  },
  {
   "cell_type": "code",
   "execution_count": null,
   "id": "ff89867c-bcc6-486c-b613-aafa388cb9a7",
   "metadata": {},
   "outputs": [],
   "source": []
  }
 ],
 "metadata": {
  "kernelspec": {
   "display_name": "Python 3 (ipykernel)",
   "language": "python",
   "name": "python3"
  },
  "language_info": {
   "codemirror_mode": {
    "name": "ipython",
    "version": 3
   },
   "file_extension": ".py",
   "mimetype": "text/x-python",
   "name": "python",
   "nbconvert_exporter": "python",
   "pygments_lexer": "ipython3",
   "version": "3.12.2"
  }
 },
 "nbformat": 4,
 "nbformat_minor": 5
}
