{
 "cells": [
  {
   "cell_type": "markdown",
   "id": "86d649e9-8a95-479f-8b3e-fc637e45dcb7",
   "metadata": {},
   "source": [
    "# Le tirage successif avec remise:"
   ]
  },
  {
   "cell_type": "code",
   "execution_count": 21,
   "id": "4bcb71d5-59c2-4a62-8d93-502bf2f56ebf",
   "metadata": {},
   "outputs": [
    {
     "name": "stdout",
     "output_type": "stream",
     "text": [
      "Tirage 1: 11\n",
      "Tirage 2: 12\n",
      "Tirage 3: 13\n",
      "Tirage 4: 21\n",
      "Tirage 5: 22\n",
      "Tirage 6: 23\n",
      "Tirage 7: 31\n",
      "Tirage 8: 32\n",
      "Tirage 9: 33\n"
     ]
    }
   ],
   "source": [
    "from itertools import *\n",
    "\n",
    "liste = '123'\n",
    "count = 1\n",
    "\n",
    "for e in product(liste,repeat=2):\n",
    "    prod = ''.join(e)\n",
    "    print(f\"Tirage {count}: {prod}\")\n",
    "    count = count + 1"
   ]
  },
  {
   "cell_type": "markdown",
   "id": "fa717022-c1be-491e-884f-38ecca05492a",
   "metadata": {},
   "source": [
    "# Le tirage successif sans remise:"
   ]
  },
  {
   "cell_type": "code",
   "execution_count": 22,
   "id": "d962e03b-65c5-4c33-aa5d-52c5e78762ee",
   "metadata": {},
   "outputs": [
    {
     "name": "stdout",
     "output_type": "stream",
     "text": [
      "Tirage 1: 12\n",
      "Tirage 2: 13\n",
      "Tirage 3: 21\n",
      "Tirage 4: 23\n",
      "Tirage 5: 31\n",
      "Tirage 6: 32\n"
     ]
    }
   ],
   "source": [
    "st = '123'\n",
    "yt = 1 \n",
    "per = permutations(st,2)\n",
    "for val in per:\n",
    "    dd = ''.join(val)\n",
    "    print(f\"Tirage {yt}: {dd}\")\n",
    "    yt = yt+1"
   ]
  },
  {
   "cell_type": "markdown",
   "id": "80662e45-60b1-4be1-b8ba-55cc00dd3801",
   "metadata": {},
   "source": [
    "# Le tirage simultane:"
   ]
  },
  {
   "cell_type": "code",
   "execution_count": 23,
   "id": "38673fc2-e140-40c8-ac0e-65eb29ac2d4c",
   "metadata": {},
   "outputs": [
    {
     "name": "stdout",
     "output_type": "stream",
     "text": [
      "Tirage 1: BV\n",
      "Tirage 2: BR\n",
      "Tirage 3: VR\n"
     ]
    }
   ],
   "source": [
    "terre = 'BVR'\n",
    "i = 1\n",
    "nom = combinations(terre,2)\n",
    "for er in nom:\n",
    "    qw = ''.join(er)\n",
    "    print(f\"Tirage {i}: {qw}\")\n",
    "    i = i+1"
   ]
  },
  {
   "cell_type": "code",
   "execution_count": 24,
   "id": "77d27e5f-a71a-4613-81b0-d89a0cd1266e",
   "metadata": {},
   "outputs": [
    {
     "name": "stdout",
     "output_type": "stream",
     "text": [
      "7.0\n"
     ]
    }
   ],
   "source": [
    "a = 49\n",
    "\n",
    "x = a\n",
    "for k in range(18):\n",
    "    x = (x+a/x)/2\n",
    "print(x)\n"
   ]
  },
  {
   "cell_type": "code",
   "execution_count": 25,
   "id": "90a1351c-4a5e-40b1-9bb2-2df3ab39657b",
   "metadata": {},
   "outputs": [
    {
     "data": {
      "text/plain": [
       "479001600"
      ]
     },
     "execution_count": 25,
     "metadata": {},
     "output_type": "execute_result"
    }
   ],
   "source": [
    "def fac(n):\n",
    "    if(n==0):\n",
    "        return 1\n",
    "    else:\n",
    "        return n*fac(n-1)\n",
    "fac(12)"
   ]
  },
  {
   "cell_type": "code",
   "execution_count": 26,
   "id": "fcc746d0-de59-463f-9931-928a5c4d3090",
   "metadata": {},
   "outputs": [
    {
     "data": {
      "text/plain": [
       "514229"
      ]
     },
     "execution_count": 26,
     "metadata": {},
     "output_type": "execute_result"
    }
   ],
   "source": [
    "def F(n):\n",
    "    if(n==0):\n",
    "        return 0\n",
    "    if(n==1):\n",
    "        return 1\n",
    "    Fibo = F(n-1)+F(n-2)\n",
    "    return Fibo\n",
    "F(29)"
   ]
  },
  {
   "cell_type": "code",
   "execution_count": 27,
   "id": "08af44e4-5c3a-4c82-bcf4-c17bc6fe98b7",
   "metadata": {},
   "outputs": [
    {
     "name": "stdout",
     "output_type": "stream",
     "text": [
      "7.087259769439697\n"
     ]
    }
   ],
   "source": [
    "from time import time\n",
    "t1 = time()\n",
    "F(36)\n",
    "t2 = time()\n",
    "t = t2 -t1\n",
    "print(t)"
   ]
  },
  {
   "cell_type": "code",
   "execution_count": 1,
   "id": "1f8f3404-4ec4-4b93-9c5c-eff2fd79ae83",
   "metadata": {},
   "outputs": [],
   "source": [
    "import numpy as np\n",
    "import matplotlib.pyplot as plt"
   ]
  },
  {
   "cell_type": "code",
   "execution_count": 2,
   "id": "21c93381-5b23-4fc9-984c-7f899c3e024b",
   "metadata": {},
   "outputs": [
    {
     "data": {
      "text/plain": [
       "(array([[ 0.77136705,  0.99327241],\n",
       "        [-1.81489393, -0.16932608],\n",
       "        [-0.13449795, -0.05480654],\n",
       "        [-0.69049404,  2.04856449],\n",
       "        [ 1.32319324, -1.51910272]]),\n",
       " array([ 137.30355559, -151.71340406,  -14.58334808,  109.29482028,\n",
       "         -19.22113426]))"
      ]
     },
     "execution_count": 2,
     "metadata": {},
     "output_type": "execute_result"
    }
   ],
   "source": [
    "from sklearn.datasets import make_regression\n",
    "data = make_regression(n_features=2,n_targets=1,n_samples=5)\n",
    "data"
   ]
  },
  {
   "cell_type": "markdown",
   "id": "da86a4f5-45b3-4e68-89b0-75f9f4957e62",
   "metadata": {},
   "source": [
    "# Machine Learning Apprentissage Supervise:"
   ]
  },
  {
   "cell_type": "markdown",
   "id": "78f2dc4c-a32e-4d8e-ac9b-247584132d39",
   "metadata": {},
   "source": [
    "### Classification"
   ]
  },
  {
   "cell_type": "code",
   "execution_count": 3,
   "id": "4ca5f4aa-36c8-4fda-ba4f-dbd867ad3c4e",
   "metadata": {},
   "outputs": [],
   "source": [
    "import numpy as np\n",
    "from sklearn.datasets import load_iris # X est une matrice.\n",
    "from sklearn.model_selection import train_test_split\n",
    "from sklearn.neighbors import KNeighborsClassifier\n",
    "from sklearn.metrics import accuracy_score"
   ]
  },
  {
   "cell_type": "code",
   "execution_count": 4,
   "id": "893dad72-1240-48d4-abc2-abbccb1c6beb",
   "metadata": {},
   "outputs": [
    {
     "name": "stdout",
     "output_type": "stream",
     "text": [
      "Precision du model : 0.977778\n"
     ]
    }
   ],
   "source": [
    "iris = load_iris()\n",
    "X = iris.data\n",
    "y = iris.target\n",
    "X_train, X_test,y_train, y_test = train_test_split(X,y,test_size=0.3,random_state=0)\n",
    "model = KNeighborsClassifier(n_neighbors=3)\n",
    "model.fit(X_train,y_train)\n",
    "y_pred = model.predict(X_test)\n",
    "accuracy = accuracy_score(y_test,y_pred)\n",
    "print(f\"Precision du model : {accuracy:2f}\")"
   ]
  },
  {
   "cell_type": "code",
   "execution_count": 5,
   "id": "cfc033b2-75fd-48a9-a14e-219c5c0834fa",
   "metadata": {},
   "outputs": [
    {
     "data": {
      "text/plain": [
       "Text(0, 0.5, 'X1')"
      ]
     },
     "execution_count": 5,
     "metadata": {},
     "output_type": "execute_result"
    },
    {
     "data": {
      "image/png": "[encoded data removed]",
      "text/plain": [
       "<Figure size 800x600 with 1 Axes>"
      ]
     },
     "metadata": {},
     "output_type": "display_data"
    }
   ],
   "source": [
    "# Visualisation des données \n",
    "plt.figure(num=None, figsize=(8, 6)) \n",
    "plt.scatter(X[:, 0], X[:, 1], marker = 'o', c=y, edgecolors='k') \n",
    "plt.xlabel('X0') \n",
    "plt.ylabel('X1')"
   ]
  },
  {
   "cell_type": "markdown",
   "id": "ae9c94f3-bbf4-473a-a665-e6581ab85a22",
   "metadata": {},
   "source": [
    "### Regression lineaire"
   ]
  },
  {
   "cell_type": "code",
   "execution_count": 6,
   "id": "217c0f88-0052-4816-853b-4dbd3126cfee",
   "metadata": {},
   "outputs": [],
   "source": [
    "import pandas as pd\n",
    "import matplotlib.pyplot as plt\n",
    "from sklearn.datasets import make_regression\n",
    "from sklearn.linear_model import LinearRegression\n",
    "from sklearn.metrics import mean_squared_error,r2_score"
   ]
  },
  {
   "cell_type": "code",
   "execution_count": 7,
   "id": "3b077aed-81c8-4cfb-bc5b-72c562835222",
   "metadata": {},
   "outputs": [
    {
     "name": "stdout",
     "output_type": "stream",
     "text": [
      "Erreur quadratique moyenne (MSE): 151.548443\n",
      "Score R2:0.963247\n"
     ]
    }
   ],
   "source": [
    "X,y = make_regression(n_samples=100,n_features=1,noise=10,random_state=11)\n",
    "X_train, X_test,y_train, y_test = train_test_split(X,y,test_size=0.3,random_state=0)\n",
    "model = LinearRegression()\n",
    "model.fit(X_train,y_train)\n",
    "y_pred = model.predict(X_test)\n",
    "mse = mean_squared_error(y_pred,y_test)\n",
    "r2 = r2_score(y_test,y_pred)\n",
    "print(f\"Erreur quadratique moyenne (MSE): {mse:2f}\")\n",
    "print(f\"Score R2:{r2:2f}\")"
   ]
  },
  {
   "cell_type": "code",
   "execution_count": 8,
   "id": "cddddf26-e7ce-4fa1-b88b-252a8fb9a4d7",
   "metadata": {},
   "outputs": [
    {
     "data": {
      "text/plain": [
       "numpy.ndarray"
      ]
     },
     "execution_count": 8,
     "metadata": {},
     "output_type": "execute_result"
    }
   ],
   "source": [
    "type(X_test)"
   ]
  },
  {
   "cell_type": "code",
   "execution_count": 9,
   "id": "4e6ba3d3-30ae-4df6-9f78-ecf32092006b",
   "metadata": {},
   "outputs": [
    {
     "data": {
      "image/png": "[encoded data removed]",
      "text/plain": [
       "<Figure size 640x480 with 1 Axes>"
      ]
     },
     "metadata": {},
     "output_type": "display_data"
    }
   ],
   "source": [
    "plt.scatter(X_test,y_test,color = 'blue',label='Donnees reelles')\n",
    "plt.plot(X_test,y_pred,color = 'red',linewidth = 2,label = 'Prediction')\n",
    "plt.xlabel('Caracteristique')\n",
    "plt.ylabel('Valeur')\n",
    "plt.title('Regression Lineaire')\n",
    "plt.legend()\n",
    "plt.savefig('Lafig.png')\n",
    "plt.show()"
   ]
  },
  {
   "cell_type": "markdown",
   "id": "05c2ede6-2ce7-4091-b408-d5ebc68feceb",
   "metadata": {},
   "source": [
    "model.predict([[2],[-1]])"
   ]
  },
  {
   "cell_type": "code",
   "execution_count": 36,
   "id": "8cf0572d-ed83-430d-a529-056b43cc8350",
   "metadata": {},
   "outputs": [
    {
     "name": "stdout",
     "output_type": "stream",
     "text": [
      "(100, 1) (70, 1) (30, 1)\n"
     ]
    }
   ],
   "source": [
    "print(X.shape,X_train.shape,X_test.shape)"
   ]
  },
  {
   "cell_type": "markdown",
   "id": "9de30e12-62d2-44f6-bd20-4a87474876df",
   "metadata": {},
   "source": [
    "### Exercice:"
   ]
  },
  {
   "cell_type": "code",
   "execution_count": 37,
   "id": "34ed604b-1279-40ba-ae5c-fa02596e8b24",
   "metadata": {},
   "outputs": [],
   "source": [
    "import pandas as pd"
   ]
  },
  {
   "cell_type": "code",
   "execution_count": 70,
   "id": "97b6cb65-9775-407f-8189-662dcc22ff82",
   "metadata": {},
   "outputs": [
    {
     "data": {
      "text/html": [
       "<div>\n",
       "<style scoped>\n",
       "    .dataframe tbody tr th:only-of-type {\n",
       "        vertical-align: middle;\n",
       "    }\n",
       "\n",
       "    .dataframe tbody tr th {\n",
       "        vertical-align: top;\n",
       "    }\n",
       "\n",
       "    .dataframe thead th {\n",
       "        text-align: right;\n",
       "    }\n",
       "</style>\n",
       "<table border=\"1\" class=\"dataframe\">\n",
       "  <thead>\n",
       "    <tr style=\"text-align: right;\">\n",
       "      <th></th>\n",
       "      <th>Prenom</th>\n",
       "      <th>Sexe</th>\n",
       "      <th>Maths</th>\n",
       "      <th>Phy-chimie</th>\n",
       "      <th>Anglais</th>\n",
       "      <th>Philo</th>\n",
       "      <th>Fran</th>\n",
       "      <th>Bio</th>\n",
       "      <th>Moy</th>\n",
       "    </tr>\n",
       "  </thead>\n",
       "  <tbody>\n",
       "    <tr>\n",
       "      <th>0</th>\n",
       "      <td>Ali</td>\n",
       "      <td>Homme</td>\n",
       "      <td>12</td>\n",
       "      <td>15</td>\n",
       "      <td>19</td>\n",
       "      <td>16</td>\n",
       "      <td>15</td>\n",
       "      <td>13</td>\n",
       "      <td>15.0</td>\n",
       "    </tr>\n",
       "    <tr>\n",
       "      <th>1</th>\n",
       "      <td>Moussa</td>\n",
       "      <td>Homme</td>\n",
       "      <td>13</td>\n",
       "      <td>18</td>\n",
       "      <td>19</td>\n",
       "      <td>17</td>\n",
       "      <td>19</td>\n",
       "      <td>12</td>\n",
       "      <td>16.3</td>\n",
       "    </tr>\n",
       "    <tr>\n",
       "      <th>2</th>\n",
       "      <td>Ousmane</td>\n",
       "      <td>Homme</td>\n",
       "      <td>19</td>\n",
       "      <td>13</td>\n",
       "      <td>15</td>\n",
       "      <td>19</td>\n",
       "      <td>17</td>\n",
       "      <td>17</td>\n",
       "      <td>16.7</td>\n",
       "    </tr>\n",
       "    <tr>\n",
       "      <th>3</th>\n",
       "      <td>Fatoumata</td>\n",
       "      <td>Femme</td>\n",
       "      <td>15</td>\n",
       "      <td>17</td>\n",
       "      <td>14</td>\n",
       "      <td>17</td>\n",
       "      <td>13</td>\n",
       "      <td>13</td>\n",
       "      <td>14.8</td>\n",
       "    </tr>\n",
       "    <tr>\n",
       "      <th>4</th>\n",
       "      <td>Aichata</td>\n",
       "      <td>Femme</td>\n",
       "      <td>15</td>\n",
       "      <td>16</td>\n",
       "      <td>18</td>\n",
       "      <td>12</td>\n",
       "      <td>13</td>\n",
       "      <td>19</td>\n",
       "      <td>15.5</td>\n",
       "    </tr>\n",
       "    <tr>\n",
       "      <th>5</th>\n",
       "      <td>Salimata</td>\n",
       "      <td>Femme</td>\n",
       "      <td>18</td>\n",
       "      <td>17</td>\n",
       "      <td>14</td>\n",
       "      <td>12</td>\n",
       "      <td>19</td>\n",
       "      <td>15</td>\n",
       "      <td>15.8</td>\n",
       "    </tr>\n",
       "    <tr>\n",
       "      <th>6</th>\n",
       "      <td>Oumou</td>\n",
       "      <td>Femme</td>\n",
       "      <td>19</td>\n",
       "      <td>15</td>\n",
       "      <td>14</td>\n",
       "      <td>15</td>\n",
       "      <td>12</td>\n",
       "      <td>13</td>\n",
       "      <td>14.7</td>\n",
       "    </tr>\n",
       "    <tr>\n",
       "      <th>7</th>\n",
       "      <td>Mohamed</td>\n",
       "      <td>Homme</td>\n",
       "      <td>18</td>\n",
       "      <td>16</td>\n",
       "      <td>18</td>\n",
       "      <td>12</td>\n",
       "      <td>14</td>\n",
       "      <td>12</td>\n",
       "      <td>15.0</td>\n",
       "    </tr>\n",
       "    <tr>\n",
       "      <th>8</th>\n",
       "      <td>Maimouna</td>\n",
       "      <td>Femme</td>\n",
       "      <td>16</td>\n",
       "      <td>12</td>\n",
       "      <td>12</td>\n",
       "      <td>13</td>\n",
       "      <td>15</td>\n",
       "      <td>16</td>\n",
       "      <td>14.0</td>\n",
       "    </tr>\n",
       "    <tr>\n",
       "      <th>9</th>\n",
       "      <td>Djeneba</td>\n",
       "      <td>Femme</td>\n",
       "      <td>18</td>\n",
       "      <td>16</td>\n",
       "      <td>13</td>\n",
       "      <td>16</td>\n",
       "      <td>19</td>\n",
       "      <td>18</td>\n",
       "      <td>16.7</td>\n",
       "    </tr>\n",
       "    <tr>\n",
       "      <th>10</th>\n",
       "      <td>Makan</td>\n",
       "      <td>Homme</td>\n",
       "      <td>16</td>\n",
       "      <td>13</td>\n",
       "      <td>12</td>\n",
       "      <td>14</td>\n",
       "      <td>19</td>\n",
       "      <td>14</td>\n",
       "      <td>14.7</td>\n",
       "    </tr>\n",
       "    <tr>\n",
       "      <th>11</th>\n",
       "      <td>Mariam</td>\n",
       "      <td>Femme</td>\n",
       "      <td>18</td>\n",
       "      <td>12</td>\n",
       "      <td>19</td>\n",
       "      <td>17</td>\n",
       "      <td>14</td>\n",
       "      <td>16</td>\n",
       "      <td>16.0</td>\n",
       "    </tr>\n",
       "    <tr>\n",
       "      <th>12</th>\n",
       "      <td>Modibo</td>\n",
       "      <td>Homme</td>\n",
       "      <td>14</td>\n",
       "      <td>19</td>\n",
       "      <td>12</td>\n",
       "      <td>18</td>\n",
       "      <td>17</td>\n",
       "      <td>12</td>\n",
       "      <td>15.3</td>\n",
       "    </tr>\n",
       "    <tr>\n",
       "      <th>13</th>\n",
       "      <td>Issa</td>\n",
       "      <td>Homme</td>\n",
       "      <td>15</td>\n",
       "      <td>15</td>\n",
       "      <td>13</td>\n",
       "      <td>12</td>\n",
       "      <td>18</td>\n",
       "      <td>13</td>\n",
       "      <td>14.3</td>\n",
       "    </tr>\n",
       "    <tr>\n",
       "      <th>14</th>\n",
       "      <td>Bintou</td>\n",
       "      <td>Femme</td>\n",
       "      <td>19</td>\n",
       "      <td>14</td>\n",
       "      <td>15</td>\n",
       "      <td>14</td>\n",
       "      <td>12</td>\n",
       "      <td>19</td>\n",
       "      <td>15.5</td>\n",
       "    </tr>\n",
       "    <tr>\n",
       "      <th>15</th>\n",
       "      <td>Amadou</td>\n",
       "      <td>Homme</td>\n",
       "      <td>16</td>\n",
       "      <td>15</td>\n",
       "      <td>19</td>\n",
       "      <td>17</td>\n",
       "      <td>14</td>\n",
       "      <td>15</td>\n",
       "      <td>16.0</td>\n",
       "    </tr>\n",
       "    <tr>\n",
       "      <th>16</th>\n",
       "      <td>Kadidiatou</td>\n",
       "      <td>Femme</td>\n",
       "      <td>19</td>\n",
       "      <td>15</td>\n",
       "      <td>16</td>\n",
       "      <td>15</td>\n",
       "      <td>17</td>\n",
       "      <td>16</td>\n",
       "      <td>16.3</td>\n",
       "    </tr>\n",
       "    <tr>\n",
       "      <th>17</th>\n",
       "      <td>Sekou</td>\n",
       "      <td>Homme</td>\n",
       "      <td>16</td>\n",
       "      <td>14</td>\n",
       "      <td>14</td>\n",
       "      <td>19</td>\n",
       "      <td>15</td>\n",
       "      <td>16</td>\n",
       "      <td>15.7</td>\n",
       "    </tr>\n",
       "    <tr>\n",
       "      <th>18</th>\n",
       "      <td>Fanta</td>\n",
       "      <td>Femme</td>\n",
       "      <td>16</td>\n",
       "      <td>14</td>\n",
       "      <td>17</td>\n",
       "      <td>16</td>\n",
       "      <td>13</td>\n",
       "      <td>16</td>\n",
       "      <td>15.3</td>\n",
       "    </tr>\n",
       "    <tr>\n",
       "      <th>19</th>\n",
       "      <td>Arouna</td>\n",
       "      <td>Homme</td>\n",
       "      <td>17</td>\n",
       "      <td>15</td>\n",
       "      <td>16</td>\n",
       "      <td>16</td>\n",
       "      <td>14</td>\n",
       "      <td>16</td>\n",
       "      <td>15.7</td>\n",
       "    </tr>\n",
       "  </tbody>\n",
       "</table>\n",
       "</div>"
      ],
      "text/plain": [
       "        Prenom   Sexe  Maths  Phy-chimie  Anglais  Philo  Fran  Bio   Moy\n",
       "0          Ali  Homme     12          15       19     16    15   13  15.0\n",
       "1       Moussa  Homme     13          18       19     17    19   12  16.3\n",
       "2      Ousmane  Homme     19          13       15     19    17   17  16.7\n",
       "3    Fatoumata  Femme     15          17       14     17    13   13  14.8\n",
       "4      Aichata  Femme     15          16       18     12    13   19  15.5\n",
       "5     Salimata  Femme     18          17       14     12    19   15  15.8\n",
       "6        Oumou  Femme     19          15       14     15    12   13  14.7\n",
       "7      Mohamed  Homme     18          16       18     12    14   12  15.0\n",
       "8     Maimouna  Femme     16          12       12     13    15   16  14.0\n",
       "9      Djeneba  Femme     18          16       13     16    19   18  16.7\n",
       "10       Makan  Homme     16          13       12     14    19   14  14.7\n",
       "11      Mariam  Femme     18          12       19     17    14   16  16.0\n",
       "12      Modibo  Homme     14          19       12     18    17   12  15.3\n",
       "13        Issa  Homme     15          15       13     12    18   13  14.3\n",
       "14      Bintou  Femme     19          14       15     14    12   19  15.5\n",
       "15      Amadou  Homme     16          15       19     17    14   15  16.0\n",
       "16  Kadidiatou  Femme     19          15       16     15    17   16  16.3\n",
       "17       Sekou  Homme     16          14       14     19    15   16  15.7\n",
       "18       Fanta  Femme     16          14       17     16    13   16  15.3\n",
       "19      Arouna  Homme     17          15       16     16    14   16  15.7"
      ]
     },
     "execution_count": 70,
     "metadata": {},
     "output_type": "execute_result"
    }
   ],
   "source": [
    "df"
   ]
  },
  {
   "cell_type": "code",
   "execution_count": 10,
   "id": "0c9681aa-4d47-47b5-8679-af1368ea53cf",
   "metadata": {},
   "outputs": [
    {
     "data": {
      "text/plain": [
       "Text(0.5, 1.0, 'Regression Lineaire')"
      ]
     },
     "execution_count": 10,
     "metadata": {},
     "output_type": "execute_result"
    },
    {
     "data": {
      "image/png": "[encoded data removed]",
      "text/plain": [
       "<Figure size 640x480 with 1 Axes>"
      ]
     },
     "metadata": {},
     "output_type": "display_data"
    }
   ],
   "source": [
    "# Generation de donnees fictives pour les prix du terrain.\n",
    "np.random.seed(42)# Pour la reproductibilite\n",
    "x,y = make_regression(n_samples=100,n_features=1,noise=34)\n",
    "# Mise en echelle des valeurs de la superficie pour quelles se situent entre 10m2 et 100m2.\n",
    "sup_min, sup_max = 10, 100\n",
    "sup = sup_min + (sup_max - sup_min)*(x - x.min())/(x.max() - x.min())\n",
    "# Mise en echelle des valeurs de prix pour quelles se situent entre 350000f et 3500000f\n",
    "prix_min,prix_max = 350000,3500000\n",
    "prix = prix_min + (prix_max - prix_min)*(y - y.min())/(y.max()-y.min())\n",
    "# Creation du dataFrame.\n",
    "df = pd.DataFrame({'supf (m2)':sup.round().flatten(),'prix (f)':prix.round()})\n",
    "# Exportation du DataFrame au format csv.\n",
    "df.to_csv('terrain_prix.csv',index=False,sep = ';')\n",
    "model = LinearRegression()\n",
    "model.fit(sup,prix)\n",
    "plt.scatter(sup,prix,color = 'green',label = 'Donnees reelle')\n",
    "plt.plot(sup,model.predict(sup),c = 'red')\n",
    "plt.xlabel('Les valeurs de X')\n",
    "plt.ylabel('Les valeurs de y ')\n",
    "plt.title('Regression Lineaire')"
   ]
  },
  {
   "cell_type": "code",
   "execution_count": null,
   "id": "5995b607-5eb4-4f90-90a2-48ecfe15c263",
   "metadata": {},
   "outputs": [],
   "source": [
    "from random import randint"
   ]
  },
  {
   "cell_type": "code",
   "execution_count": null,
   "id": "d1794e46-5d36-47d8-9e9f-c8825b02838c",
   "metadata": {},
   "outputs": [],
   "source": [
    "def get_la():\n",
    "    return randint(-90,90)\n",
    "latitude = get_la()\n",
    "if (latitude == 0):\n",
    "    location = \"Equtor\"\n",
    "elif (latitude < 0):\n",
    "    location = \"Southern hemisphere\"\n",
    "else:\n",
    "    location = \"North Hemisphere\""
   ]
  },
  {
   "cell_type": "code",
   "execution_count": null,
   "id": "4ced1006-70c9-45e1-8828-7c9b25553eb7",
   "metadata": {},
   "outputs": [],
   "source": [
    "latitude"
   ]
  },
  {
   "cell_type": "code",
   "execution_count": null,
   "id": "0f8a3122-41fb-475a-afe5-a82f9d1fdcad",
   "metadata": {},
   "outputs": [],
   "source": [
    "location"
   ]
  },
  {
   "cell_type": "markdown",
   "id": "bff3441d-51ef-4e4b-8a68-71ce6735665a",
   "metadata": {},
   "source": [
    "# Index_Slicing"
   ]
  },
  {
   "cell_type": "code",
   "execution_count": null,
   "id": "b0e60dab-64c2-4af3-a93b-82266fbeca09",
   "metadata": {},
   "outputs": [],
   "source": [
    "AS = np.array([[1,2,3],[4,5,6],[7,8,9]])\n",
    "AS"
   ]
  },
  {
   "cell_type": "code",
   "execution_count": null,
   "id": "10c3a8c0-980c-49d4-988f-3925266bce4a",
   "metadata": {},
   "outputs": [],
   "source": [
    "AS.shape"
   ]
  },
  {
   "cell_type": "code",
   "execution_count": null,
   "id": "b620baac-5655-434e-aa39-c9a87c4495ca",
   "metadata": {},
   "outputs": [],
   "source": [
    "AS[1,1] # index de la ligne et de la colonne, ca commence toujour a l'index 0."
   ]
  },
  {
   "cell_type": "code",
   "execution_count": null,
   "id": "6d691a4f-cff5-40b2-a4f0-104e105f1a22",
   "metadata": {},
   "outputs": [],
   "source": [
    "Re = np.random.randint(12,54,(10,5))\n",
    "Re"
   ]
  },
  {
   "cell_type": "code",
   "execution_count": null,
   "id": "2ebe0e2a-aaf2-4ffe-9e76-dcb2a7363edc",
   "metadata": {},
   "outputs": [],
   "source": [
    "Re[5,2]"
   ]
  },
  {
   "cell_type": "code",
   "execution_count": null,
   "id": "70894758-93b8-4195-b6a8-e6c1982d50c2",
   "metadata": {},
   "outputs": [],
   "source": [
    "Re[4:7,1:4] # Slicing faisant avec des intervalles."
   ]
  },
  {
   "cell_type": "code",
   "execution_count": null,
   "id": "5c2a8775-6be5-47f1-937e-0ad8e54ecbdc",
   "metadata": {},
   "outputs": [],
   "source": [
    "Re[:,1:4]"
   ]
  },
  {
   "cell_type": "code",
   "execution_count": null,
   "id": "7dbe3929-b1b7-4b32-bf04-7c574abe5a96",
   "metadata": {},
   "outputs": [],
   "source": [
    "Re[4:7,:]"
   ]
  },
  {
   "cell_type": "code",
   "execution_count": null,
   "id": "020e612f-81ab-45fd-98ab-c2c46d28cdde",
   "metadata": {},
   "outputs": [],
   "source": [
    "Re[:,:]"
   ]
  },
  {
   "cell_type": "code",
   "execution_count": null,
   "id": "d7029660-6550-4d3a-bac7-10bfbdee0271",
   "metadata": {},
   "outputs": [],
   "source": [
    "Re"
   ]
  },
  {
   "cell_type": "code",
   "execution_count": null,
   "id": "8e949600-06ce-442d-b85f-9104d6814de2",
   "metadata": {},
   "outputs": [],
   "source": [
    "Re < 20 # Un masque"
   ]
  },
  {
   "cell_type": "code",
   "execution_count": null,
   "id": "2a13b9d1-957b-43b2-bd07-e895a21e0e4b",
   "metadata": {},
   "outputs": [],
   "source": [
    "Re[Re < 20] # Boolean indexing"
   ]
  },
  {
   "cell_type": "markdown",
   "id": "664bd8ea-031d-4010-831a-0c2f46ec343b",
   "metadata": {},
   "source": [
    "# Exercice_Moyenne:"
   ]
  },
  {
   "cell_type": "code",
   "execution_count": 1,
   "id": "33f5ef00-f4e5-48bf-b5da-003ee7d7b288",
   "metadata": {},
   "outputs": [],
   "source": [
    "import numpy as np\n",
    "import pandas as pd\n",
    "from sklearn.linear_model import LinearRegression\n",
    "from sklearn.model_selection import train_test_split\n",
    "from sklearn.metrics import mean_squared_error"
   ]
  },
  {
   "cell_type": "code",
   "execution_count": 2,
   "id": "f9ac65d6-1df0-461a-86e7-747e5b60a399",
   "metadata": {},
   "outputs": [],
   "source": [
    "Maths = list(np.random.randint(12,20,(1,20)).flatten())\n",
    "Phy_ch = list(np.random.randint(12,20,(1,20)).flatten())\n",
    "Angl = list(np.random.randint(12,20,(1,20)).flatten())\n",
    "Philo = list(np.random.randint(12,20,(1,20)).flatten())\n",
    "Fran = list(np.random.randint(12,20,(1,20)).flatten())\n",
    "Bio = list(np.random.randint(12,20,(1,20)).flatten())"
   ]
  },
  {
   "cell_type": "code",
   "execution_count": 3,
   "id": "47cfde50-4126-4dec-9773-93f4da342603",
   "metadata": {},
   "outputs": [],
   "source": [
    "# creation du DataFrame\n",
    "data = {\n",
    "    'Prenom':['Ali','Moussa','Ousmane','Fatoumata','Aichata','Salimata',\n",
    "              'Oumou','Mohamed','Maimouna','Djeneba','Makan','Mariam','Modibo',\n",
    "              'Issa','Bintou','Amadou','Kadidiatou','Sekou','Fanta','Arouna'],\n",
    "    'Sexe':['Homme','Homme','Homme','Femme','Femme','Femme',\n",
    "              'Femme','Homme','Femme','Femme','Homme','Femme','Homme',\n",
    "              'Homme','Femme','Homme','Femme','Homme','Femme','Homme'],\n",
    "    'Maths':Maths,\n",
    "    'Phy-chimie':Phy_ch,\n",
    "    'Anglais':Angl,\n",
    "    'Philo':Philo,\n",
    "    'Fran':Fran,\n",
    "    'Bio':Bio\n",
    "}"
   ]
  },
  {
   "cell_type": "code",
   "execution_count": 4,
   "id": "b8c24900-1dd2-40bb-a2d0-dd527b701f77",
   "metadata": {},
   "outputs": [
    {
     "data": {
      "text/html": [
       "<div>\n",
       "<style scoped>\n",
       "    .dataframe tbody tr th:only-of-type {\n",
       "        vertical-align: middle;\n",
       "    }\n",
       "\n",
       "    .dataframe tbody tr th {\n",
       "        vertical-align: top;\n",
       "    }\n",
       "\n",
       "    .dataframe thead th {\n",
       "        text-align: right;\n",
       "    }\n",
       "</style>\n",
       "<table border=\"1\" class=\"dataframe\">\n",
       "  <thead>\n",
       "    <tr style=\"text-align: right;\">\n",
       "      <th></th>\n",
       "      <th>Prenom</th>\n",
       "      <th>Sexe</th>\n",
       "      <th>Maths</th>\n",
       "      <th>Phy-chimie</th>\n",
       "      <th>Anglais</th>\n",
       "      <th>Philo</th>\n",
       "      <th>Fran</th>\n",
       "      <th>Bio</th>\n",
       "      <th>Moy</th>\n",
       "    </tr>\n",
       "  </thead>\n",
       "  <tbody>\n",
       "    <tr>\n",
       "      <th>0</th>\n",
       "      <td>Ali</td>\n",
       "      <td>Homme</td>\n",
       "      <td>13</td>\n",
       "      <td>14</td>\n",
       "      <td>15</td>\n",
       "      <td>19</td>\n",
       "      <td>12</td>\n",
       "      <td>16</td>\n",
       "      <td>14.8</td>\n",
       "    </tr>\n",
       "    <tr>\n",
       "      <th>1</th>\n",
       "      <td>Moussa</td>\n",
       "      <td>Homme</td>\n",
       "      <td>16</td>\n",
       "      <td>15</td>\n",
       "      <td>16</td>\n",
       "      <td>12</td>\n",
       "      <td>15</td>\n",
       "      <td>15</td>\n",
       "      <td>14.8</td>\n",
       "    </tr>\n",
       "    <tr>\n",
       "      <th>2</th>\n",
       "      <td>Ousmane</td>\n",
       "      <td>Homme</td>\n",
       "      <td>15</td>\n",
       "      <td>18</td>\n",
       "      <td>15</td>\n",
       "      <td>15</td>\n",
       "      <td>18</td>\n",
       "      <td>18</td>\n",
       "      <td>16.5</td>\n",
       "    </tr>\n",
       "  </tbody>\n",
       "</table>\n",
       "</div>"
      ],
      "text/plain": [
       "    Prenom   Sexe  Maths  Phy-chimie  Anglais  Philo  Fran  Bio   Moy\n",
       "0      Ali  Homme     13          14       15     19    12   16  14.8\n",
       "1   Moussa  Homme     16          15       16     12    15   15  14.8\n",
       "2  Ousmane  Homme     15          18       15     15    18   18  16.5"
      ]
     },
     "execution_count": 4,
     "metadata": {},
     "output_type": "execute_result"
    }
   ],
   "source": [
    "df = pd.DataFrame(data)\n",
    "df['Moy'] = round(df.mean(axis=1,numeric_only=True),1)\n",
    "df.to_csv('Matier_moye.csv',index=False,sep = ',')\n",
    "df.head(3)"
   ]
  },
  {
   "cell_type": "code",
   "execution_count": 15,
   "id": "c6a76cdd-2ea2-46fe-be35-67ded46b529b",
   "metadata": {},
   "outputs": [
    {
     "data": {
      "text/plain": [
       "(array([3., 4., 3., 0., 2., 0., 4., 1., 2., 1.]),\n",
       " array([14.2 , 14.55, 14.9 , 15.25, 15.6 , 15.95, 16.3 , 16.65, 17.  ,\n",
       "        17.35, 17.7 ]),\n",
       " <BarContainer object of 10 artists>)"
      ]
     },
     "execution_count": 15,
     "metadata": {},
     "output_type": "execute_result"
    },
    {
     "data": {
      "image/png": "[encoded data removed]",
      "text/plain": [
       "<Figure size 640x480 with 1 Axes>"
      ]
     },
     "metadata": {},
     "output_type": "display_data"
    }
   ],
   "source": [
    "plt.hist(df['Moy'])"
   ]
  },
  {
   "cell_type": "code",
   "execution_count": 17,
   "id": "960b8049-5fb8-4514-954a-79050dc148bc",
   "metadata": {
    "editable": true,
    "slideshow": {
     "slide_type": ""
    },
    "tags": []
   },
   "outputs": [
    {
     "data": {
      "text/plain": [
       "module"
      ]
     },
     "execution_count": 17,
     "metadata": {},
     "output_type": "execute_result"
    }
   ],
   "source": [
    "type(np)"
   ]
  },
  {
   "cell_type": "code",
   "execution_count": 16,
   "id": "bf2df9f9-8fd6-445f-92ba-d67d267b5683",
   "metadata": {},
   "outputs": [],
   "source": [
    "Hom = list(np.random.randint(76000000,77000000,(1,27)).flatten())\n",
    "Fem = list(np.random.randint(78000000,79000000,(1,27)).flatten())\n",
    "Enf = list(np.random.randint(74000000,75000000,(1,27)).flatten())\n",
    "Gar = list(np.random.randint(72000000,73000000,(1,27)).flatten())\n",
    "Fill = list(np.random.randint(70000000,71000000,(1,27)).flatten())"
   ]
  },
  {
   "cell_type": "code",
   "execution_count": 21,
   "id": "f694f7d2-1c17-4271-9319-413118cc9441",
   "metadata": {},
   "outputs": [
    {
     "data": {
      "text/html": [
       "<div>\n",
       "<style scoped>\n",
       "    .dataframe tbody tr th:only-of-type {\n",
       "        vertical-align: middle;\n",
       "    }\n",
       "\n",
       "    .dataframe tbody tr th {\n",
       "        vertical-align: top;\n",
       "    }\n",
       "\n",
       "    .dataframe thead th {\n",
       "        text-align: right;\n",
       "    }\n",
       "</style>\n",
       "<table border=\"1\" class=\"dataframe\">\n",
       "  <thead>\n",
       "    <tr style=\"text-align: right;\">\n",
       "      <th></th>\n",
       "      <th>Homme</th>\n",
       "      <th>Femme</th>\n",
       "      <th>Enfant</th>\n",
       "      <th>Garsson</th>\n",
       "      <th>Fille</th>\n",
       "    </tr>\n",
       "  </thead>\n",
       "  <tbody>\n",
       "    <tr>\n",
       "      <th>0</th>\n",
       "      <td>76017955</td>\n",
       "      <td>78066234</td>\n",
       "      <td>74642612</td>\n",
       "      <td>72208124</td>\n",
       "      <td>70877699</td>\n",
       "    </tr>\n",
       "    <tr>\n",
       "      <th>1</th>\n",
       "      <td>76824273</td>\n",
       "      <td>78564242</td>\n",
       "      <td>74322710</td>\n",
       "      <td>72437477</td>\n",
       "      <td>70517923</td>\n",
       "    </tr>\n",
       "    <tr>\n",
       "      <th>2</th>\n",
       "      <td>76070640</td>\n",
       "      <td>78178352</td>\n",
       "      <td>74197775</td>\n",
       "      <td>72525830</td>\n",
       "      <td>70166981</td>\n",
       "    </tr>\n",
       "    <tr>\n",
       "      <th>3</th>\n",
       "      <td>76196582</td>\n",
       "      <td>78079459</td>\n",
       "      <td>74289336</td>\n",
       "      <td>72283821</td>\n",
       "      <td>70744699</td>\n",
       "    </tr>\n",
       "  </tbody>\n",
       "</table>\n",
       "</div>"
      ],
      "text/plain": [
       "      Homme     Femme    Enfant   Garsson     Fille\n",
       "0  76017955  78066234  74642612  72208124  70877699\n",
       "1  76824273  78564242  74322710  72437477  70517923\n",
       "2  76070640  78178352  74197775  72525830  70166981\n",
       "3  76196582  78079459  74289336  72283821  70744699"
      ]
     },
     "execution_count": 21,
     "metadata": {},
     "output_type": "execute_result"
    }
   ],
   "source": [
    "re = {'Homme':Hom,'Femme':Fem,'Enfant':Enf,'Garsson':Gar,'Fille':Fill}\n",
    "aq = pd.DataFrame(re)\n",
    "aq.to_csv('Comm.csv',index=False,sep=';')\n",
    "aq.head(4)"
   ]
  },
  {
   "cell_type": "code",
   "execution_count": null,
   "id": "dc1cf4d3-77ac-4996-ae38-f2e7514f6ebf",
   "metadata": {},
   "outputs": [],
   "source": []
  }
 ],
 "metadata": {
  "kernelspec": {
   "display_name": "Python 3 (ipykernel)",
   "language": "python",
   "name": "python3"
  },
  "language_info": {
   "codemirror_mode": {
    "name": "ipython",
    "version": 3
   },
   "file_extension": ".py",
   "mimetype": "text/x-python",
   "name": "python",
   "nbconvert_exporter": "python",
   "pygments_lexer": "ipython3",
   "version": "3.12.2"
  }
 },
 "nbformat": 4,
 "nbformat_minor": 5
}
