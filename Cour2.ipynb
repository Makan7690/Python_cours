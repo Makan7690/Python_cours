{
 "cells": [
  {
   "cell_type": "markdown",
   "id": "25200f82-81c3-4e7f-941a-ad3f24255350",
   "metadata": {},
   "source": [
    "# 1. Range"
   ]
  },
  {
   "cell_type": "code",
   "execution_count": 1,
   "id": "786774ed-ca9f-44f5-9bae-fa722fce66b5",
   "metadata": {},
   "outputs": [
    {
     "name": "stdout",
     "output_type": "stream",
     "text": [
      "1\n",
      "2\n",
      "3\n",
      "4\n"
     ]
    }
   ],
   "source": [
    "for i in range(1,5):\n",
    "    print(i)"
   ]
  },
  {
   "cell_type": "code",
   "execution_count": 2,
   "id": "361a247d-d775-4de0-9d2e-17e36e13c62c",
   "metadata": {},
   "outputs": [
    {
     "name": "stdout",
     "output_type": "stream",
     "text": [
      "0\n",
      "1\n",
      "2\n"
     ]
    }
   ],
   "source": [
    "for i in range(3):\n",
    "    print(i)"
   ]
  },
  {
   "cell_type": "markdown",
   "id": "6c47fffe-733b-46ce-9db9-5d8e2bd6088a",
   "metadata": {},
   "source": [
    "# 2. List()"
   ]
  },
  {
   "cell_type": "code",
   "execution_count": 3,
   "id": "2b3c1f2c-f070-4775-848a-e76ee6534778",
   "metadata": {},
   "outputs": [
    {
     "name": "stdout",
     "output_type": "stream",
     "text": [
      "[1, 2, 3, 4]\n"
     ]
    }
   ],
   "source": [
    "my_list = list(range(1,5))\n",
    "print(my_list)"
   ]
  },
  {
   "cell_type": "code",
   "execution_count": 4,
   "id": "21203fcd-58e3-4de3-b74b-6b67a96d3b46",
   "metadata": {},
   "outputs": [
    {
     "name": "stdout",
     "output_type": "stream",
     "text": [
      "['H', 'e', 'l', 'l', 'o', ' ', 'b', 'r', 'o', 't', 'h', 'e', 'r']\n"
     ]
    }
   ],
   "source": [
    "my_string = \"Hello brother\"\n",
    "string_list = list(my_string)\n",
    "print(string_list)"
   ]
  },
  {
   "cell_type": "markdown",
   "id": "71052f89-0f81-4c7d-aa4b-fde10bb16932",
   "metadata": {},
   "source": [
    "# 3. Set()"
   ]
  },
  {
   "cell_type": "code",
   "execution_count": 5,
   "id": "784c97d2-e916-45a0-9580-405d56aaac93",
   "metadata": {},
   "outputs": [
    {
     "data": {
      "text/plain": [
       "{1, 2, 3, 4}"
      ]
     },
     "execution_count": 5,
     "metadata": {},
     "output_type": "execute_result"
    }
   ],
   "source": [
    "mylist_list = [1,2,3,4,5,6,7]\n",
    "my_set = set(my_list)\n",
    "my_set"
   ]
  },
  {
   "cell_type": "code",
   "execution_count": 6,
   "id": "c5587ea8-79f7-469b-8429-4a4af850ff30",
   "metadata": {},
   "outputs": [
    {
     "name": "stdout",
     "output_type": "stream",
     "text": [
      "{1, 2, 3, 4, 5}\n"
     ]
    }
   ],
   "source": [
    "my_set = set([1,2,3,4,5,])\n",
    "print(my_set)"
   ]
  },
  {
   "cell_type": "markdown",
   "id": "11c8e3ff-0dc3-4244-a419-7569c5abeba3",
   "metadata": {},
   "source": [
    "# 4. Map(), Reduce(), Filter() "
   ]
  },
  {
   "cell_type": "markdown",
   "id": "a5d311fb-0b20-42bd-ab8f-066bc652cc76",
   "metadata": {},
   "source": [
    "# 4.1. Map()"
   ]
  },
  {
   "cell_type": "code",
   "execution_count": 7,
   "id": "31391525-f819-448f-8035-b406b3b32eed",
   "metadata": {},
   "outputs": [
    {
     "data": {
      "text/plain": [
       "[1, 4, 9, 16, 25, 36, 49]"
      ]
     },
     "execution_count": 7,
     "metadata": {},
     "output_type": "execute_result"
    }
   ],
   "source": [
    "nombres = [1,2,3,4,5,6,7]\n",
    "au_carre =list( map(lambda x: x**2, nombres))\n",
    "au_carre"
   ]
  },
  {
   "cell_type": "markdown",
   "id": "e3519b27-655e-4d47-8b63-58e85bc01c5b",
   "metadata": {},
   "source": [
    "# 4.2 Filter()"
   ]
  },
  {
   "cell_type": "code",
   "execution_count": 8,
   "id": "88224502-580c-462a-b2b5-4314d4ea5da3",
   "metadata": {},
   "outputs": [
    {
     "data": {
      "text/plain": [
       "[1, 3, 5, 7, 9]"
      ]
     },
     "execution_count": 8,
     "metadata": {},
     "output_type": "execute_result"
    }
   ],
   "source": [
    "nbres = [1,2,3,4,5,6,7,8,9]\n",
    "nbres_imp = list(filter(lambda x:x%2!=0, nbres))\n",
    "nbres_imp"
   ]
  },
  {
   "cell_type": "markdown",
   "id": "abb631b5-e7ac-46c7-ad96-5c42221b66d1",
   "metadata": {},
   "source": [
    "# 4.3 Reduce()"
   ]
  },
  {
   "cell_type": "code",
   "execution_count": 9,
   "id": "61dfad11-a4ce-4ef3-8478-9882d86128fb",
   "metadata": {},
   "outputs": [
    {
     "data": {
      "text/plain": [
       "386"
      ]
     },
     "execution_count": 9,
     "metadata": {},
     "output_type": "execute_result"
    }
   ],
   "source": [
    "from functools import reduce\n",
    "nbres = [23,45,6,78,90,45,99]\n",
    "somme_nb = reduce(lambda x,y: x+y, nbres)\n",
    "somme_nb"
   ]
  },
  {
   "cell_type": "markdown",
   "id": "4af01b56-fa0f-475c-afe0-06a23e016487",
   "metadata": {},
   "source": [
    "# 5. Join()"
   ]
  },
  {
   "cell_type": "code",
   "execution_count": 10,
   "id": "8fc96524-b15f-4fe6-9462-051c4784bcf6",
   "metadata": {},
   "outputs": [
    {
     "name": "stdout",
     "output_type": "stream",
     "text": [
      "Makan + Oumar + Fanta + Mariam\n"
     ]
    }
   ],
   "source": [
    "separe = \" + \"\n",
    "nom = [\"Makan\",\"Oumar\",\"Fanta\",\"Mariam\"]\n",
    "resul = separe.join(nom)\n",
    "print(resul)"
   ]
  },
  {
   "cell_type": "markdown",
   "id": "c5e5a30c-9149-4770-ba33-8304017c6b0f",
   "metadata": {},
   "source": [
    "# 6. Iterable"
   ]
  },
  {
   "cell_type": "code",
   "execution_count": 11,
   "id": "a05dd073-0be6-4c23-a89c-d90762d1926c",
   "metadata": {},
   "outputs": [
    {
     "name": "stdout",
     "output_type": "stream",
     "text": [
      "1\n",
      "2\n",
      "3\n",
      "4\n",
      "5\n"
     ]
    }
   ],
   "source": [
    "numbers = [1,2,3,4,5]\n",
    "for number in numbers:\n",
    "    print(number)"
   ]
  },
  {
   "cell_type": "markdown",
   "id": "5e58d9f9-68f3-465f-875a-c3537ed71123",
   "metadata": {},
   "source": [
    "# 7. Sequence"
   ]
  },
  {
   "cell_type": "markdown",
   "id": "07bf351d-a092-4cc7-a06b-91e8f90f56c0",
   "metadata": {},
   "source": [
    "# 7.2 Tuple:\n",
    "mon_tuple = ('a','b','c')"
   ]
  },
  {
   "cell_type": "markdown",
   "id": "7384f550-5138-472f-a713-2b0f77dc0f7f",
   "metadata": {},
   "source": [
    "# 7.3 Chaine de Caracteres:\n",
    "ma_chaine = \"Hello, World\""
   ]
  },
  {
   "cell_type": "markdown",
   "id": "4768c415-9e8e-4c2a-bb89-23edd05952a2",
   "metadata": {
    "jp-MarkdownHeadingCollapsed": true
   },
   "source": [
    "# 7.4 Plage(range):\n",
    "ma_plage = range(1,5)"
   ]
  },
  {
   "cell_type": "markdown",
   "id": "3f806665-3456-4d64-82cb-754b310e9414",
   "metadata": {},
   "source": [
    "# 8. Functools:"
   ]
  },
  {
   "cell_type": "markdown",
   "id": "993a52da-4080-4c81-bfd0-5e8171a3dd50",
   "metadata": {},
   "source": [
    "## 8.1 Functools.reduce(function, iterable[, initializer]):"
   ]
  },
  {
   "cell_type": "code",
   "execution_count": 14,
   "id": "a1aacdb9-a131-4fb7-81a6-55b6dcee744a",
   "metadata": {},
   "outputs": [
    {
     "data": {
      "text/plain": [
       "120"
      ]
     },
     "execution_count": 14,
     "metadata": {},
     "output_type": "execute_result"
    }
   ],
   "source": [
    "from functools import reduce\n",
    "numbers = [1,2,3,4,5]\n",
    "product = reduce(lambda x,y:x*y,numbers)\n",
    "product"
   ]
  },
  {
   "cell_type": "markdown",
   "id": "4de8246d-997b-41ad-b367-28c6ce28b3b4",
   "metadata": {},
   "source": [
    "# 8.2 Functools.partial(func, *args, **kwargs):"
   ]
  },
  {
   "cell_type": "code",
   "execution_count": 15,
   "id": "651af94a-3430-4ea5-8f83-2e40114d1211",
   "metadata": {},
   "outputs": [],
   "source": [
    "from functools import partial\n",
    "def power(base, exponent):\n",
    "    return base**exponent\n",
    "square = partial(power, exponent=2)\n",
    "result = square(5)"
   ]
  }
 ],
 "metadata": {
  "kernelspec": {
   "display_name": "Python 3 (ipykernel)",
   "language": "python",
   "name": "python3"
  },
  "language_info": {
   "codemirror_mode": {
    "name": "ipython",
    "version": 3
   },
   "file_extension": ".py",
   "mimetype": "text/x-python",
   "name": "python",
   "nbconvert_exporter": "python",
   "pygments_lexer": "ipython3",
   "version": "3.12.2"
  }
 },
 "nbformat": 4,
 "nbformat_minor": 5
}
