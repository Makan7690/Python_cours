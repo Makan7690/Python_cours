{
 "cells": [
  {
   "cell_type": "code",
   "execution_count": 1,
   "id": "0c5fc74e-1288-4443-8b2a-0f9dd0f1c123",
   "metadata": {},
   "outputs": [
    {
     "name": "stdout",
     "output_type": "stream",
     "text": [
      "Salut, je m'appelle Bob et j'ai 25 ans\n",
      "Bonjour, je m'appelle Bob et j'ai 25 ans. \n",
      "Hello, je m'appelle Bob et j'ai 25 ans. \n"
     ]
    }
   ],
   "source": [
    "nom= \"Bob\"\n",
    "age = 25\n",
    "print(\"Salut, je m'appelle\",nom,\"et j'ai\",age,\"ans\")#la virgule\n",
    "print(f\"Bonjour, je m'appelle {nom} et j'ai {age} ans. \")#f.string\n",
    "print(\"Hello, je m'appelle {} et j'ai {} ans. \".format(nom,age))#str-format"
   ]
  },
  {
   "cell_type": "markdown",
   "id": "82503649-e9e0-4e7a-8179-56e0c724ed8c",
   "metadata": {},
   "source": [
    "# Exercice:"
   ]
  },
  {
   "cell_type": "code",
   "execution_count": 3,
   "id": "06741cf0-c586-4190-a02d-3e115ebf580c",
   "metadata": {},
   "outputs": [
    {
     "name": "stdout",
     "output_type": "stream",
     "text": [
      "Bonjour, je m'appelle Magassa Makan j'ai 20 je mesure 1,8m et j'ai 65kg\n",
      "Bonjour, je m'appelle Magassa Makan , j'ai 20 , le mesure 1,8m , et j'ai 65kg \n",
      "Bonjour, je m'appelle Magassa Makan , j'ai 20 , le mesure 1,8m , et j'ai 65kg \n"
     ]
    }
   ],
   "source": [
    "age = 20 \n",
    "nom = \"Magassa\"\n",
    "prenom = \"Makan\"\n",
    "taille = \"1,8m\"\n",
    "poids = \"65kg\"\n",
    "print(\"Bonjour, je m'appelle\",nom,prenom,\"j'ai\",age,\"je mesure\",taille,\"et j'ai\",poids)\n",
    "print(f\"Bonjour, je m'appelle {nom} {prenom} , j'ai {age} , le mesure {taille} , et j'ai {poids} \")\n",
    "print(\"Bonjour, je m'appelle {} {} , j'ai {} , le mesure {} , et j'ai {} \".format(nom,prenom,age,taille,poids))"
   ]
  },
  {
   "cell_type": "markdown",
   "id": "250d336a-6af2-4f9f-b8bc-07c6887097c5",
   "metadata": {},
   "source": [
    "# Structure conditionnelle:"
   ]
  },
  {
   "cell_type": "code",
   "execution_count": 12,
   "id": "0a32d613-7d7f-4426-b28f-0d40cccd69b8",
   "metadata": {},
   "outputs": [
    {
     "name": "stdin",
     "output_type": "stream",
     "text": [
      "Entrer la valeur de x: 34\n",
      "Entrer la valeur de y: 34\n"
     ]
    },
    {
     "name": "stdout",
     "output_type": "stream",
     "text": [
      "les deux sont egaux \n"
     ]
    }
   ],
   "source": [
    "x = input(\"Entrer la valeur de x:\")\n",
    "y = input(\"Entrer la valeur de y:\")\n",
    "if x<y:\n",
    "    print(f \"{x} est inferieur a {y}\")\n",
    "elif x>y:\n",
    "    print(f\"{x} est superieur a {y}\")\n",
    "else:\n",
    "    print(\"les deux sont egaux \")\n",
    "    "
   ]
  },
  {
   "cell_type": "markdown",
   "id": "f50f90a8-ed3a-4ae2-9d8d-82ec4591587c",
   "metadata": {},
   "source": [
    "# Exercice struct condtlle choix:"
   ]
  },
  {
   "cell_type": "code",
   "execution_count": 13,
   "id": "ee8f586b-f69e-4a88-85aa-bf8b4e58a7f5",
   "metadata": {},
   "outputs": [
    {
     "name": "stdin",
     "output_type": "stream",
     "text": [
      "Choix de M.Magassa entre B et A A\n"
     ]
    },
    {
     "name": "stdout",
     "output_type": "stream",
     "text": [
      "Le choix est Amerique.\n"
     ]
    }
   ],
   "source": [
    "r = input(\"Choix de M.Magassa entre B et A\")\n",
    "if  r==\"B\":\n",
    "    print(\"Le choix est Bamako.\")\n",
    "elif r==\"A\":\n",
    "    print(\"Le choix est Amerique.\")\n",
    "else:\n",
    "    print(\"Le est au village.\")"
   ]
  },
  {
   "cell_type": "markdown",
   "id": "9953354f-d72e-455c-8288-19b1967bce2b",
   "metadata": {},
   "source": [
    "# Exercice struct condtlle nbr paire:"
   ]
  },
  {
   "cell_type": "code",
   "execution_count": 17,
   "id": "7102aaa8-0104-47b5-83da-8daac1edd784",
   "metadata": {},
   "outputs": [
    {
     "name": "stdin",
     "output_type": "stream",
     "text": [
      "Entrer le nombre au choix  3\n"
     ]
    },
    {
     "name": "stdout",
     "output_type": "stream",
     "text": [
      "Le nbre est impaire\n"
     ]
    }
   ],
   "source": [
    "n = int(input(\"Entrer le nombre au choix : \"))\n",
    "if n%2==0:\n",
    "    print(\"Le nbre est paire.\")\n",
    "else:\n",
    "    print(\"Le nbre est impaire\")"
   ]
  },
  {
   "cell_type": "markdown",
   "id": "cd64b1d3-72b5-4dfc-ba05-6b72ef7b0fa3",
   "metadata": {},
   "source": [
    "# La boucle while:"
   ]
  },
  {
   "cell_type": "markdown",
   "id": "afbd6303-2bfd-42a6-b029-15edf7bba200",
   "metadata": {},
   "source": [
    "#### Ecrire un programme en python qui permet d'afficher hello 1000 fois."
   ]
  },
  {
   "cell_type": "code",
   "execution_count": 6,
   "id": "e3e2ded1-03ac-44c2-b4de-7d8fbe7ee234",
   "metadata": {},
   "outputs": [
    {
     "name": "stdout",
     "output_type": "stream",
     "text": [
      "1 Hello Makan\n",
      "2 Hello Makan\n",
      "3 Hello Makan\n",
      "4 Hello Makan\n"
     ]
    }
   ],
   "source": [
    "i = 1 \n",
    "while i < 5:\n",
    "    print(i,\"Hello Makan\")\n",
    "    i+=1\n",
    "    "
   ]
  },
  {
   "cell_type": "markdown",
   "id": "5332b5bf-e0d4-4c08-be65-7d1aafc7c2c8",
   "metadata": {},
   "source": [
    "#### Ecrire un programme en python qui demande a l'utilisateur de saisir son nom et prenom en affichant le numero d'iteration."
   ]
  },
  {
   "cell_type": "code",
   "execution_count": 10,
   "id": "ed561541-d881-4cc9-b3dd-8ca54b133e9d",
   "metadata": {},
   "outputs": [
    {
     "name": "stdin",
     "output_type": "stream",
     "text": [
      "Entrer votre nom et prenom : Makan Magassa\n"
     ]
    },
    {
     "name": "stdout",
     "output_type": "stream",
     "text": [
      "1 Makan Magassa\n",
      "2 Makan Magassa\n",
      "3 Makan Magassa\n",
      "4 Makan Magassa\n",
      "5 Makan Magassa\n"
     ]
    }
   ],
   "source": [
    "nom = input(\"Entrer votre nom et prenom :\")\n",
    "i = 1\n",
    "while i <=5:\n",
    "    print(i,nom)\n",
    "    i =i+1 "
   ]
  },
  {
   "cell_type": "markdown",
   "id": "7f69e9fb-9df1-4064-b76c-748c7d7626ca",
   "metadata": {},
   "source": [
    "# La boucle for:"
   ]
  },
  {
   "cell_type": "code",
   "execution_count": 22,
   "id": "e3e038f8-f765-4532-9f32-d22aacbe82fd",
   "metadata": {},
   "outputs": [
    {
     "name": "stdout",
     "output_type": "stream",
     "text": [
      "1 Giraffe\n",
      "2 Tigre\n",
      "3 Singe\n",
      "4 Souris\n"
     ]
    }
   ],
   "source": [
    "#Animaux = [\"Giraffe\",\"Tigre\",\"Singe\",\"Souris\"]\n",
    "#for animal in Animaux:\n",
    "#    print(animal)\n",
    "Animaux = [\"Giraffe\",\"Tigre\",\"Singe\",\"Souris\"]\n",
    "for i,animal in enumerate(Animaux,1): # on utilise Enumerate pour la liste\n",
    "   print(i,animal)"
   ]
  },
  {
   "cell_type": "markdown",
   "id": "4ac78c5a-8090-41d3-b216-14e2432897f6",
   "metadata": {},
   "source": [
    "#### Ecrire un programme en python qui affiche le nom de 10 villages du Mali avec un numero de chaque village le programme doit d'abord creer une variable en utlisant la boucle for. "
   ]
  },
  {
   "cell_type": "code",
   "execution_count": 2,
   "id": "67049f77-49f5-458e-a5dd-fedef69a5bd9",
   "metadata": {},
   "outputs": [
    {
     "name": "stdout",
     "output_type": "stream",
     "text": [
      "1 Diougounte\n",
      "2 Sefeto\n",
      "3 Mansala\n",
      "4 Lakamane\n",
      "5 Tassara\n",
      "6 san\n",
      "7 Tounma\n",
      "8 Karata\n",
      "9 Yoi\n",
      "10 Bos\n"
     ]
    }
   ],
   "source": [
    "village = [\"Diougounte\",\"Sefeto\",\"Mansala\",\"Lakamane\",\"Tassara\",\"san\",\"Tounma\",\"Karata\",\"Yoi\",\"Bos\"]\n",
    "for i,mo in enumerate(village,1):\n",
    "    print(i,mo)"
   ]
  },
  {
   "cell_type": "markdown",
   "id": "0e8f49bc-bba7-4da0-9d9a-882ae20e8faa",
   "metadata": {},
   "source": [
    "# Le dictionnaire:"
   ]
  },
  {
   "cell_type": "code",
   "execution_count": 5,
   "id": "e3572c99-f12e-44e2-927d-c8dc01077250",
   "metadata": {},
   "outputs": [
    {
     "name": "stdout",
     "output_type": "stream",
     "text": [
      "nom : Magassa\n",
      "prenom : Makan\n",
      "note : 18\n"
     ]
    }
   ],
   "source": [
    "etudiant = {\"nom :\":\"Magassa\",\"prenom :\":\"Makan\",\"note :\":18}\n",
    "for cle, valeur in etudiant.items(): # On utilise items pour le dictionnaire.\n",
    "    print(cle,valeur)"
   ]
  },
  {
   "cell_type": "markdown",
   "id": "12c7eb30-63c1-4203-8f6f-0e8d7e167b00",
   "metadata": {},
   "source": [
    "#### Ecrire un prog en python qui permet d'afficher la table de multiplication par 7 en utilisant la boucle while."
   ]
  },
  {
   "cell_type": "code",
   "execution_count": 1,
   "id": "8e9ae6c7-46ac-4594-8ee8-1419a3d3510e",
   "metadata": {},
   "outputs": [
    {
     "name": "stdout",
     "output_type": "stream",
     "text": [
      "7 X 1 = 7 \n",
      "7 X 2 = 14 \n",
      "7 X 3 = 21 \n",
      "7 X 4 = 28 \n",
      "7 X 5 = 35 \n",
      "7 X 6 = 42 \n",
      "7 X 7 = 49 \n",
      "7 X 8 = 56 \n",
      "7 X 9 = 63 \n",
      "7 X 10 = 70 \n"
     ]
    }
   ],
   "source": [
    "i = 7\n",
    "j = 1\n",
    "while j<=10:\n",
    "    print(f\"{i} X {j} = {i*j} \")\n",
    "    j+=1"
   ]
  },
  {
   "cell_type": "code",
   "execution_count": 6,
   "id": "98c280ad-fd79-47af-b8df-5d6e6642354a",
   "metadata": {},
   "outputs": [
    {
     "name": "stdout",
     "output_type": "stream",
     "text": [
      "1 X 2 = 2\n",
      "1 X 3 = 3\n",
      "Suivant.......\n",
      "2 X 2 = 4\n",
      "2 X 3 = 6\n",
      "Suivant.......\n",
      "3 X 2 = 6\n",
      "3 X 3 = 9\n",
      "Suivant.......\n",
      "4 X 2 = 8\n",
      "4 X 3 = 12\n",
      "Suivant.......\n"
     ]
    }
   ],
   "source": [
    "for i in range(1,5):\n",
    "    for j in range(2,4):\n",
    "        print(f\"{i} X {j} = {i*j}\")\n",
    "    print(\"Suivant.......\")"
   ]
  },
  {
   "cell_type": "markdown",
   "id": "ed65cdc0-0f1d-4205-835f-cac8f7ad6066",
   "metadata": {},
   "source": [
    "#### Ecrire 1 progra en python qui convertir de tonne en kilogra a partir de la fonction conversion et qui return la valeur"
   ]
  },
  {
   "cell_type": "code",
   "execution_count": null,
   "id": "236c2a23-3ace-485d-a091-9830a2938ed1",
   "metadata": {},
   "outputs": [],
   "source": [
    "def conver(X):\n",
    "    X = int(input(\"Entrer le nombre au choix :\"))\n",
    "    p = X*1000\n",
    "    \n",
    "conver(4)\n",
    "print(p) "
   ]
  },
  {
   "cell_type": "markdown",
   "id": "3bbc4c35-432d-4272-94d6-05c1eebc9b60",
   "metadata": {},
   "source": [
    "# Fonction Random:"
   ]
  },
  {
   "cell_type": "code",
   "execution_count": 2,
   "id": "f272b250-c686-4215-bd18-532996e697b6",
   "metadata": {},
   "outputs": [
    {
     "name": "stdout",
     "output_type": "stream",
     "text": [
      "9\n"
     ]
    }
   ],
   "source": [
    "import random\n",
    "p = random.randint(0,10)\n",
    "print(p)"
   ]
  },
  {
   "cell_type": "markdown",
   "id": "2de97771-5e2f-42d3-8e67-c295ceaecdbd",
   "metadata": {},
   "source": [
    "# Exception:"
   ]
  },
  {
   "cell_type": "code",
   "execution_count": 7,
   "id": "2d49047f-0aad-4eaf-af3c-be45e7bf188b",
   "metadata": {},
   "outputs": [
    {
     "name": "stdin",
     "output_type": "stream",
     "text": [
      "Entrer la valeur A: 34\n",
      "Entrer la valeur B: 0\n"
     ]
    },
    {
     "name": "stdout",
     "output_type": "stream",
     "text": [
      "Erreur: Impossible de diviser par zero\n"
     ]
    }
   ],
   "source": [
    " a = int(input(\"Entrer la valeur A:\"))\n",
    " b = int(input(\"Entrer la valeur B:\"))\n",
    "try:\n",
    "    d = a/b\n",
    "    print(d)\n",
    "except:\n",
    "    print(\"Erreur: Impossible de diviser par zero\")"
   ]
  },
  {
   "cell_type": "markdown",
   "id": "e4595af2-9f4b-48be-8e0d-d1688b9329d6",
   "metadata": {},
   "source": [
    "# Cration de fichier"
   ]
  },
  {
   "cell_type": "markdown",
   "id": "369a74eb-a80a-4c95-aef3-30921f286df0",
   "metadata": {},
   "source": [
    "## Ecrire dans un fichier:"
   ]
  },
  {
   "cell_type": "code",
   "execution_count": 9,
   "id": "6fdf316f-4d13-4989-af31-497ce131ae42",
   "metadata": {},
   "outputs": [],
   "source": [
    "fichier = open(\"Saluation.txt\",\"w\")\n",
    "fichier.write(\"Bonjour\")\n",
    "fichier.close()"
   ]
  },
  {
   "cell_type": "markdown",
   "id": "32302d50-ad68-4178-8ad4-42c0a8eb2e1e",
   "metadata": {},
   "source": [
    "## Ajouter le contenu dans un fichier:"
   ]
  },
  {
   "cell_type": "code",
   "execution_count": null,
   "id": "56c613c6-b7b7-4c04-bd35-6da64166884b",
   "metadata": {},
   "outputs": [],
   "source": [
    "fichier = open(\"Saluation.txt\",\"a\")\n",
    "fichier.write(\"Bonjour\")\n",
    "fichier.close()"
   ]
  },
  {
   "cell_type": "markdown",
   "id": "ed8520bb-d90c-4976-9ee2-0511d22b25bc",
   "metadata": {},
   "source": [
    "## Lecture dans un fichier:"
   ]
  },
  {
   "cell_type": "code",
   "execution_count": null,
   "id": "a86342d5-3276-4468-adf8-09af684a4923",
   "metadata": {},
   "outputs": [],
   "source": [
    "fichier = open(\"Saluation.txt\",\"r\")\n",
    "fichier.write(\"Bonjour\")\n",
    "fichier.close()"
   ]
  }
 ],
 "metadata": {
  "kernelspec": {
   "display_name": "Python 3 (ipykernel)",
   "language": "python",
   "name": "python3"
  },
  "language_info": {
   "codemirror_mode": {
    "name": "ipython",
    "version": 3
   },
   "file_extension": ".py",
   "mimetype": "text/x-python",
   "name": "python",
   "nbconvert_exporter": "python",
   "pygments_lexer": "ipython3",
   "version": "3.12.2"
  }
 },
 "nbformat": 4,
 "nbformat_minor": 5
}
