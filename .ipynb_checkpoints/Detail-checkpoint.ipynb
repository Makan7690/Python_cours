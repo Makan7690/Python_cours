{
 "cells": [
  {
   "cell_type": "markdown",
   "id": "e39aa00d-3b82-4e42-a75a-11f04a492002",
   "metadata": {},
   "source": [
    "# Quelques Fonctions usuelles"
   ]
  },
  {
   "cell_type": "markdown",
   "id": "92182fb2-86b3-413d-873a-7c901a920cb4",
   "metadata": {},
   "source": [
    "## La methode range()"
   ]
  },
  {
   "cell_type": "code",
   "execution_count": 1,
   "id": "fce6f323-be85-4b3f-8520-6d3d53227adb",
   "metadata": {},
   "outputs": [
    {
     "data": {
      "text/plain": [
       "range(0, 5)"
      ]
     },
     "execution_count": 1,
     "metadata": {},
     "output_type": "execute_result"
    }
   ],
   "source": [
    "range(5)"
   ]
  },
  {
   "cell_type": "code",
   "execution_count": 2,
   "id": "95dc9f63-4b48-4cb9-b67e-a320b292f6c3",
   "metadata": {},
   "outputs": [
    {
     "data": {
      "text/plain": [
       "[0, 1, 2, 3, 4]"
      ]
     },
     "execution_count": 2,
     "metadata": {},
     "output_type": "execute_result"
    }
   ],
   "source": [
    "list(range(5))"
   ]
  },
  {
   "cell_type": "code",
   "execution_count": 3,
   "id": "3d893d0e-ca44-4772-8181-8df86e246bca",
   "metadata": {},
   "outputs": [
    {
     "name": "stdout",
     "output_type": "stream",
     "text": [
      "4\n",
      "3\n",
      "0\n",
      "7\n"
     ]
    }
   ],
   "source": [
    "my_list = [4,3,0,7]\n",
    "for i in my_list:\n",
    "    print(i)"
   ]
  },
  {
   "cell_type": "code",
   "execution_count": 4,
   "id": "f3633528-318c-44c1-a89b-1a2ca4ac1f51",
   "metadata": {},
   "outputs": [
    {
     "data": {
      "text/plain": [
       "[4, 3, 0, 7]"
      ]
     },
     "execution_count": 4,
     "metadata": {},
     "output_type": "execute_result"
    }
   ],
   "source": [
    "my_list"
   ]
  },
  {
   "cell_type": "code",
   "execution_count": 5,
   "id": "d8881226-5329-4aad-8fef-01cf91644aa7",
   "metadata": {},
   "outputs": [
    {
     "name": "stdout",
     "output_type": "stream",
     "text": [
      "chat\n",
      "chien\n",
      "poule\n",
      "Cheval\n"
     ]
    }
   ],
   "source": [
    "l = [\"chat\", \"chien\", \"poule\", \"Cheval\"]\n",
    "for i in l:\n",
    "    print(i)"
   ]
  },
  {
   "cell_type": "code",
   "execution_count": 6,
   "id": "daf62a5e-0dd7-401c-b4f3-70ff454c9e46",
   "metadata": {},
   "outputs": [
    {
     "data": {
      "text/plain": [
       "'chien'"
      ]
     },
     "execution_count": 6,
     "metadata": {},
     "output_type": "execute_result"
    }
   ],
   "source": [
    "l[1]"
   ]
  },
  {
   "cell_type": "code",
   "execution_count": 7,
   "id": "56fa7273-f3ac-4274-b63f-4cf6a7c08adb",
   "metadata": {},
   "outputs": [
    {
     "data": {
      "text/plain": [
       "['chien']"
      ]
     },
     "execution_count": 7,
     "metadata": {},
     "output_type": "execute_result"
    }
   ],
   "source": [
    "l[1:2]"
   ]
  },
  {
   "cell_type": "code",
   "execution_count": 8,
   "id": "08918577-90f1-4779-9f01-09c692dd0e2b",
   "metadata": {},
   "outputs": [
    {
     "data": {
      "text/plain": [
       "['chien', 'poule']"
      ]
     },
     "execution_count": 8,
     "metadata": {},
     "output_type": "execute_result"
    }
   ],
   "source": [
    "l[1:3]"
   ]
  },
  {
   "cell_type": "code",
   "execution_count": 9,
   "id": "6a4bea60-1ff7-4a06-8105-a6de21689427",
   "metadata": {},
   "outputs": [
    {
     "data": {
      "text/plain": [
       "['chien', 'poule', 'Cheval']"
      ]
     },
     "execution_count": 9,
     "metadata": {},
     "output_type": "execute_result"
    }
   ],
   "source": [
    "l[1:]"
   ]
  },
  {
   "cell_type": "code",
   "execution_count": 10,
   "id": "c00e84c2-3bbd-410e-be96-9c9f44880c66",
   "metadata": {},
   "outputs": [
    {
     "data": {
      "text/plain": [
       "['chat', 'chien', 'poule']"
      ]
     },
     "execution_count": 10,
     "metadata": {},
     "output_type": "execute_result"
    }
   ],
   "source": [
    "l[:3]"
   ]
  },
  {
   "cell_type": "code",
   "execution_count": 2,
   "id": "e627fddf-8d3a-40bd-82ce-a1a39d64a52f",
   "metadata": {},
   "outputs": [
    {
     "name": "stdout",
     "output_type": "stream",
     "text": [
      "1\n",
      "3\n",
      "5\n",
      "7\n",
      "9\n"
     ]
    }
   ],
   "source": [
    "for i in range(1,10,2):\n",
    "    print(i)"
   ]
  },
  {
   "cell_type": "code",
   "execution_count": 17,
   "id": "8330b812-18f2-4ec3-a6db-b46b3f050e40",
   "metadata": {},
   "outputs": [
    {
     "data": {
      "text/plain": [
       "[1, 3, 5, 7, 9]"
      ]
     },
     "execution_count": 17,
     "metadata": {},
     "output_type": "execute_result"
    }
   ],
   "source": [
    "l1 = list(range(1,10,2))\n",
    "l1"
   ]
  },
  {
   "cell_type": "code",
   "execution_count": 18,
   "id": "1ca9cc3c-1bbd-46ff-9c82-60361d369990",
   "metadata": {},
   "outputs": [
    {
     "data": {
      "text/plain": [
       "5"
      ]
     },
     "execution_count": 18,
     "metadata": {},
     "output_type": "execute_result"
    }
   ],
   "source": [
    "l1[2]"
   ]
  },
  {
   "cell_type": "code",
   "execution_count": 19,
   "id": "93201c03-8578-45f5-9e54-83c4f8e327eb",
   "metadata": {},
   "outputs": [
    {
     "name": "stdout",
     "output_type": "stream",
     "text": [
      "B\n",
      "o\n",
      "n\n",
      "s\n",
      "o\n",
      "i\n",
      "r\n",
      " \n",
      "M\n",
      "r\n",
      ".\n"
     ]
    }
   ],
   "source": [
    "text = \"Bonsoir Mr.\"\n",
    "for i in text:\n",
    "    print(i)"
   ]
  },
  {
   "cell_type": "code",
   "execution_count": 20,
   "id": "33a60be9-b713-4ed7-b61c-22ef7980006a",
   "metadata": {},
   "outputs": [
    {
     "data": {
      "text/plain": [
       "['B', 'o', 'n', 's', 'o', 'i', 'r', ' ', 'M', 'r', '.']"
      ]
     },
     "execution_count": 20,
     "metadata": {},
     "output_type": "execute_result"
    }
   ],
   "source": [
    "l2 = list(text)\n",
    "l2"
   ]
  },
  {
   "cell_type": "code",
   "execution_count": 21,
   "id": "a7135620-1cd3-4b08-8429-d65d612c2f10",
   "metadata": {},
   "outputs": [
    {
     "data": {
      "text/plain": [
       "' '"
      ]
     },
     "execution_count": 21,
     "metadata": {},
     "output_type": "execute_result"
    }
   ],
   "source": [
    "l2[7]"
   ]
  },
  {
   "cell_type": "code",
   "execution_count": 22,
   "id": "0fc06ad0-3284-47f3-83ef-d7fb4533547a",
   "metadata": {},
   "outputs": [
    {
     "data": {
      "text/plain": [
       "'B'"
      ]
     },
     "execution_count": 22,
     "metadata": {},
     "output_type": "execute_result"
    }
   ],
   "source": [
    "l2[0]"
   ]
  },
  {
   "cell_type": "code",
   "execution_count": 23,
   "id": "4af3eddd-3b73-49da-a128-6d2f50bfa3a0",
   "metadata": {},
   "outputs": [
    {
     "data": {
      "text/plain": [
       "11"
      ]
     },
     "execution_count": 23,
     "metadata": {},
     "output_type": "execute_result"
    }
   ],
   "source": [
    "len(text)"
   ]
  },
  {
   "cell_type": "code",
   "execution_count": 2,
   "id": "b8bb7eb9-26ab-43dc-9197-a56246a06fdd",
   "metadata": {},
   "outputs": [
    {
     "name": "stdout",
     "output_type": "stream",
     "text": [
      "2 x 1 = 2\n",
      "2 x 2 = 4\n",
      "2 x 3 = 6\n",
      "2 x 4 = 8\n",
      "2 x 5 = 10\n",
      "--------------------\n",
      "3 x 1 = 3\n",
      "3 x 2 = 6\n",
      "3 x 3 = 9\n",
      "3 x 4 = 12\n",
      "3 x 5 = 15\n",
      "--------------------\n",
      "4 x 1 = 4\n",
      "4 x 2 = 8\n",
      "4 x 3 = 12\n",
      "4 x 4 = 16\n",
      "4 x 5 = 20\n",
      "--------------------\n",
      "5 x 1 = 5\n",
      "5 x 2 = 10\n",
      "5 x 3 = 15\n",
      "5 x 4 = 20\n",
      "5 x 5 = 25\n",
      "--------------------\n"
     ]
    }
   ],
   "source": [
    "for i in range(2,6):\n",
    "    for j in range(1,6):\n",
    "        print(f\"{i} x {j} = {i*j}\")\n",
    "    print(\"--------------------\")"
   ]
  },
  {
   "cell_type": "code",
   "execution_count": 13,
   "id": "14c1ae9f-ef97-478c-97f8-143410769295",
   "metadata": {},
   "outputs": [],
   "source": [
    "def factoriel(n):\n",
    "    Result = 1\n",
    "    for i in range(1,n+1):\n",
    "        Result = Result*i\n",
    "    return Result"
   ]
  },
  {
   "cell_type": "code",
   "execution_count": 14,
   "id": "61fe5d33-2dce-4581-bee9-7c1355c82089",
   "metadata": {},
   "outputs": [
    {
     "data": {
      "text/plain": [
       "5040"
      ]
     },
     "execution_count": 14,
     "metadata": {},
     "output_type": "execute_result"
    }
   ],
   "source": [
    "factoriel(7)"
   ]
  },
  {
   "cell_type": "code",
   "execution_count": 48,
   "id": "6a2dbf14-8481-40de-9540-68adb4e7736b",
   "metadata": {},
   "outputs": [
    {
     "data": {
      "text/plain": [
       "5040"
      ]
     },
     "execution_count": 48,
     "metadata": {},
     "output_type": "execute_result"
    }
   ],
   "source": [
    "def factoriel1(n):\n",
    "    if(n==0):\n",
    "        return 1\n",
    "    else:\n",
    "        return n*factoriel1(n-1)\n",
    "\n",
    "factoriel1(7)"
   ]
  },
  {
   "cell_type": "code",
   "execution_count": 35,
   "id": "7fe78c23-a7a3-445a-9f01-364ed4a75985",
   "metadata": {},
   "outputs": [
    {
     "data": {
      "text/plain": [
       "24"
      ]
     },
     "execution_count": 35,
     "metadata": {},
     "output_type": "execute_result"
    }
   ],
   "source": [
    "factoriel1(4)"
   ]
  },
  {
   "cell_type": "code",
   "execution_count": 58,
   "id": "34bb0aca-4a9d-44c6-b83a-6c7889c51cf8",
   "metadata": {},
   "outputs": [
    {
     "data": {
      "text/plain": [
       "[3, 7, 9, 2, 90]"
      ]
     },
     "execution_count": 58,
     "metadata": {},
     "output_type": "execute_result"
    }
   ],
   "source": [
    "tab = []\n",
    "tab.append(3)\n",
    "tab.append(7)\n",
    "tab.append(9)\n",
    "tab.append(2)\n",
    "tab.append(90)\n",
    "#tab[0] = 5\n",
    "\n",
    "tab"
   ]
  },
  {
   "cell_type": "code",
   "execution_count": 47,
   "id": "ae4d667e-0fbc-442b-9b5e-c650f61345d9",
   "metadata": {},
   "outputs": [
    {
     "data": {
      "text/plain": [
       "[6, 5040, 362880]"
      ]
     },
     "execution_count": 47,
     "metadata": {},
     "output_type": "execute_result"
    }
   ],
   "source": [
    "carre = map(factoriel, tab)\n",
    "list(carre)"
   ]
  },
  {
   "cell_type": "code",
   "execution_count": 7,
   "id": "6288e7c4-dbaa-4373-bd83-87402bda985e",
   "metadata": {},
   "outputs": [
    {
     "name": "stdin",
     "output_type": "stream",
     "text": [
      "Entrer le 1er nombre :  45\n",
      "Entrer le 2eme nombre :  3\n"
     ]
    },
    {
     "name": "stdout",
     "output_type": "stream",
     "text": [
      "La somme de 45 et 3 est : 48 La difference de 45 et 3 est : 42 Le produit de 45 et 3 est : 135 Le quotint de 45 et 3 est : 15.0\n"
     ]
    }
   ],
   "source": [
    "a = int(input(\"Entrer le 1er nombre : \"))\n",
    "b = int(input(\"Entrer le 2eme nombre : \"))\n",
    "somme = a + b\n",
    "difference = a - b\n",
    "produit = a*b\n",
    "quotient = a/b\n",
    "print(f\"La somme de {a} et {b} est : {somme}\" \n",
    "       f\" La difference de {a} et {b} est : {difference}\"\n",
    "f\" Le produit de {a} et {b} est : {produit}\" \n",
    "f\" Le quotint de {a} et {b} est : {quotient}\")"
   ]
  },
  {
   "cell_type": "code",
   "execution_count": 61,
   "id": "24187a0d-de76-4a9e-93d9-32607e5f05a0",
   "metadata": {},
   "outputs": [
    {
     "data": {
      "text/plain": [
       "[2, 90]"
      ]
     },
     "execution_count": 61,
     "metadata": {},
     "output_type": "execute_result"
    }
   ],
   "source": [
    "nbres_paires = filter(lambda x : x%2 == 0,tab)\n",
    "list(nbres_paires)"
   ]
  },
  {
   "cell_type": "code",
   "execution_count": 8,
   "id": "005bcdce-4f91-45f5-8dd2-b6b8c4dbabc1",
   "metadata": {},
   "outputs": [
    {
     "data": {
      "text/plain": [
       "414"
      ]
     },
     "execution_count": 8,
     "metadata": {},
     "output_type": "execute_result"
    }
   ],
   "source": [
    "from functools import reduce\n",
    "tab = [34,56,67,78,89,90]\n",
    "somm_tab = reduce(lambda x, y : x+y ,tab)\n",
    "somm_tab"
   ]
  },
  {
   "cell_type": "code",
   "execution_count": 62,
   "id": "e26566e8-1c3c-4b81-ae77-ea36829bed6a",
   "metadata": {},
   "outputs": [
    {
     "data": {
      "text/plain": [
       "[3, 7, 9]"
      ]
     },
     "execution_count": 62,
     "metadata": {},
     "output_type": "execute_result"
    }
   ],
   "source": [
    "nbres_imppaires = filter(lambda x : x%2 == 1,tab)\n",
    "list(nbres_imppaires)"
   ]
  },
  {
   "cell_type": "code",
   "execution_count": 2,
   "id": "43a65d60-8e8c-4853-abbf-2fba1a9c3bae",
   "metadata": {},
   "outputs": [
    {
     "name": "stdin",
     "output_type": "stream",
     "text": [
      "Entrer la  1er valeur au choix:  67\n",
      "Entrer la  2eme valeur au choix:  45\n",
      "Entrer la  3eme valeur au choix:  67\n",
      "Entrer la  4eme valeur au choix:  89\n"
     ]
    },
    {
     "data": {
      "text/plain": [
       "268"
      ]
     },
     "execution_count": 2,
     "metadata": {},
     "output_type": "execute_result"
    }
   ],
   "source": [
    "h = int(input(\"Entrer la  1er valeur au choix: \"))\n",
    "k = int(input(\"Entrer la  2eme valeur au choix: \"))\n",
    "l = int(input(\"Entrer la  3eme valeur au choix: \"))\n",
    "m = int(input(\"Entrer la  4eme valeur au choix: \"))\n",
    "somme = h+k+l+m\n",
    "somme\n",
    "\n"
   ]
  },
  {
   "cell_type": "code",
   "execution_count": 5,
   "id": "6bb6f805-c513-40d7-abfe-d6772afb7ef1",
   "metadata": {},
   "outputs": [
    {
     "data": {
      "text/plain": [
       "[67, 45, 67, 89]"
      ]
     },
     "execution_count": 5,
     "metadata": {},
     "output_type": "execute_result"
    }
   ],
   "source": [
    "l1 = [h,k,l,m]\n",
    "l1"
   ]
  },
  {
   "cell_type": "code",
   "execution_count": 6,
   "id": "8cfca203-8e79-4497-95ca-2baa5e2fad8b",
   "metadata": {},
   "outputs": [
    {
     "name": "stdout",
     "output_type": "stream",
     "text": [
      "67\n",
      "45\n",
      "67\n",
      "89\n"
     ]
    }
   ],
   "source": [
    "for i in l1:\n",
    "    print(i)"
   ]
  },
  {
   "cell_type": "markdown",
   "id": "9e5919a3-23cf-4bc5-889b-96f9a0e49919",
   "metadata": {},
   "source": [
    "## La somme de 1 a n entiers"
   ]
  },
  {
   "cell_type": "code",
   "execution_count": 1,
   "id": "6b253f68-1f4f-4303-813c-bdcb858c17a5",
   "metadata": {},
   "outputs": [
    {
     "name": "stdout",
     "output_type": "stream",
     "text": [
      " La somme de 1 10 est : 1275 \n"
     ]
    }
   ],
   "source": [
    "somme = 0\n",
    "n = 50\n",
    "for i in range(1,n+1):\n",
    "    somme = somme + i\n",
    "print(f\" La somme de 1 10 est : {somme} \")"
   ]
  },
  {
   "cell_type": "markdown",
   "id": "3aee656d-af99-4d25-ad6b-42f066f3e700",
   "metadata": {},
   "source": [
    "## Echange des  contenus de deux variables"
   ]
  },
  {
   "cell_type": "code",
   "execution_count": 26,
   "id": "6bb0fd94-134b-4c19-acb7-4598f4759c74",
   "metadata": {},
   "outputs": [
    {
     "name": "stdout",
     "output_type": "stream",
     "text": [
      "Avant : a = 53 et b = 6\n",
      "Apres : a = 6 et b = 53\n"
     ]
    }
   ],
   "source": [
    "a = 53\n",
    "b = 6\n",
    "\n",
    "print(f\"Avant : a = {a} et b = {b}\")\n",
    "\n",
    "temp = a\n",
    "a = b\n",
    "b = temp\n",
    "\n",
    "print(f\"Apres : a = {a} et b = {b}\")"
   ]
  },
  {
   "cell_type": "code",
   "execution_count": 28,
   "id": "1e7ce4e5-9bf8-4a73-bf8a-b09fdf644afc",
   "metadata": {},
   "outputs": [
    {
     "name": "stdout",
     "output_type": "stream",
     "text": [
      "Apres : a = 9 , b = 10 et c = 8\n"
     ]
    }
   ],
   "source": [
    "a = 8\n",
    "b = 9\n",
    "c = 10\n",
    "\n",
    "tmp = c\n",
    "c = a # c = a\n",
    "a = tmp\n",
    "\n",
    "tmp2 = b\n",
    "b = tmp # b = c\n",
    "a = tmp2 # a = b\n",
    "\n",
    "print(f\"Apres : a = {a} , b = {b} et c = {c}\")"
   ]
  },
  {
   "cell_type": "code",
   "execution_count": 2,
   "id": "c6343258-e8d5-4914-9794-439b9ebdadef",
   "metadata": {},
   "outputs": [
    {
     "data": {
      "text/plain": [
       "[4, 9, 16, 25, 36, 49]"
      ]
     },
     "execution_count": 2,
     "metadata": {},
     "output_type": "execute_result"
    }
   ],
   "source": [
    "nombre = [2,3,4,5,6,7]\n",
    "carre = list(map(lambda x: x**2,nombre))\n",
    "carre"
   ]
  },
  {
   "cell_type": "code",
   "execution_count": 1,
   "id": "ad9ef7cb-b42d-472a-80bb-194ee63cba3a",
   "metadata": {},
   "outputs": [
    {
     "name": "stdout",
     "output_type": "stream",
     "text": [
      "Hello\n"
     ]
    }
   ],
   "source": [
    "print(\"Hello\")"
   ]
  },
  {
   "cell_type": "code",
   "execution_count": null,
   "id": "2e52788c-a148-41d3-8d41-2f02b49eddb9",
   "metadata": {},
   "outputs": [],
   "source": [
    "for i in range(1,34):\n",
    "    print(1,\"\")"
   ]
  },
  {
   "cell_type": "code",
   "execution_count": 9,
   "id": "d04844d3-41a6-4d1c-8d82-3295d0672791",
   "metadata": {},
   "outputs": [],
   "source": [
    "from sympy import *"
   ]
  },
  {
   "cell_type": "code",
   "execution_count": 10,
   "id": "05087276-64a0-48c5-8b08-979f16d0b2e5",
   "metadata": {},
   "outputs": [],
   "source": [
    "x,y = sp.symbols('x,y')"
   ]
  },
  {
   "cell_type": "code",
   "execution_count": 11,
   "id": "feb5a793-ad68-4463-ba12-4d9ce0507f67",
   "metadata": {},
   "outputs": [
    {
     "data": {
      "text/latex": [
       "$\\displaystyle x^{4} + 23 x + 12$"
      ],
      "text/plain": [
       "x**4 + 23*x + 12"
      ]
     },
     "execution_count": 11,
     "metadata": {},
     "output_type": "execute_result"
    }
   ],
   "source": [
    "q = x**4 + x*23 +12\n",
    "q"
   ]
  },
  {
   "cell_type": "code",
   "execution_count": 12,
   "id": "e9e75ea0-f0ab-4329-8ea3-b2d2e56bd5cb",
   "metadata": {},
   "outputs": [
    {
     "data": {
      "text/latex": [
       "$\\displaystyle 4 x^{3} + 23$"
      ],
      "text/plain": [
       "4*x**3 + 23"
      ]
     },
     "execution_count": 12,
     "metadata": {},
     "output_type": "execute_result"
    }
   ],
   "source": [
    "diff(q)"
   ]
  },
  {
   "cell_type": "code",
   "execution_count": 14,
   "id": "edf857a4-1b0f-4ad8-abc9-fc2a7e2c9b02",
   "metadata": {},
   "outputs": [
    {
     "data": {
      "text/latex": [
       "$\\displaystyle \\frac{x^{5}}{5} + \\frac{23 x^{2}}{2} + 12 x$"
      ],
      "text/plain": [
       "x**5/5 + 23*x**2/2 + 12*x"
      ]
     },
     "execution_count": 14,
     "metadata": {},
     "output_type": "execute_result"
    }
   ],
   "source": [
    "integrate(q)"
   ]
  },
  {
   "cell_type": "code",
   "execution_count": 16,
   "id": "676310f5-0220-445e-af0b-518f242709e5",
   "metadata": {},
   "outputs": [
    {
     "data": {
      "text/latex": [
       "$\\displaystyle 162$"
      ],
      "text/plain": [
       "162"
      ]
     },
     "execution_count": 16,
     "metadata": {},
     "output_type": "execute_result"
    }
   ],
   "source": [
    "limit(q,x,3)"
   ]
  },
  {
   "cell_type": "code",
   "execution_count": 22,
   "id": "8a284125-37a2-43ec-9c9f-ff5819a04839",
   "metadata": {},
   "outputs": [
    {
     "data": {
      "image/png": "[encoded data removed]",
      "text/plain": [
       "<Figure size 640x480 with 1 Axes>"
      ]
     },
     "metadata": {},
     "output_type": "display_data"
    },
    {
     "data": {
      "text/plain": [
       "<sympy.plotting.plot.Plot at 0x18eeb4b61e0>"
      ]
     },
     "execution_count": 22,
     "metadata": {},
     "output_type": "execute_result"
    }
   ],
   "source": [
    "plot(q+ 12,(x,-1,1),title = \"la courbe de q\")"
   ]
  },
  {
   "cell_type": "code",
   "execution_count": 23,
   "id": "720121c1-f419-4bd7-8026-323f41fabc7b",
   "metadata": {},
   "outputs": [],
   "source": [
    "aq = exp(x**3)"
   ]
  },
  {
   "cell_type": "code",
   "execution_count": 24,
   "id": "2d1c3b44-9b7d-4da6-b2d8-344becb49dff",
   "metadata": {},
   "outputs": [
    {
     "data": {
      "text/latex": [
       "$\\displaystyle e^{x^{3}}$"
      ],
      "text/plain": [
       "exp(x**3)"
      ]
     },
     "execution_count": 24,
     "metadata": {},
     "output_type": "execute_result"
    }
   ],
   "source": [
    "aq"
   ]
  },
  {
   "cell_type": "code",
   "execution_count": 30,
   "id": "3465e55a-37f9-47ba-86eb-3eb52a7076fc",
   "metadata": {},
   "outputs": [
    {
     "data": {
      "image/png": "[encoded data removed]",
      "text/plain": [
       "<Figure size 640x480 with 1 Axes>"
      ]
     },
     "metadata": {},
     "output_type": "display_data"
    },
    {
     "data": {
      "text/plain": [
       "<sympy.plotting.plot.Plot at 0x18eed20d3a0>"
      ]
     },
     "execution_count": 30,
     "metadata": {},
     "output_type": "execute_result"
    }
   ],
   "source": [
    "plot(aq, (x,6,2),title = \"La courbe de aq\")"
   ]
  },
  {
   "cell_type": "code",
   "execution_count": null,
   "id": "78f9f540-2475-4ea2-8333-e95bf0aeaff7",
   "metadata": {},
   "outputs": [],
   "source": []
  }
 ],
 "metadata": {
  "kernelspec": {
   "display_name": "Python 3 (ipykernel)",
   "language": "python",
   "name": "python3"
  },
  "language_info": {
   "codemirror_mode": {
    "name": "ipython",
    "version": 3
   },
   "file_extension": ".py",
   "mimetype": "text/x-python",
   "name": "python",
   "nbconvert_exporter": "python",
   "pygments_lexer": "ipython3",
   "version": "3.12.2"
  }
 },
 "nbformat": 4,
 "nbformat_minor": 5
}
