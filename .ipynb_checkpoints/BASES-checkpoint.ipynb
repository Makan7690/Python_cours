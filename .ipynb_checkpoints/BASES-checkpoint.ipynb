{
 "cells": [
  {
   "cell_type": "markdown",
   "id": "47fb8dc0-9a2e-46a9-8180-7513dcf34f93",
   "metadata": {},
   "source": [
    "### Hello World:"
   ]
  },
  {
   "cell_type": "code",
   "execution_count": 1,
   "id": "b6530fe1-f189-4e4d-9714-507f8d72ef22",
   "metadata": {},
   "outputs": [
    {
     "name": "stdout",
     "output_type": "stream",
     "text": [
      "Hello, World!\n"
     ]
    }
   ],
   "source": [
    "print(\"Hello, World!\")"
   ]
  },
  {
   "cell_type": "markdown",
   "id": "bfbd0544-3833-4d66-b445-355e432380a2",
   "metadata": {},
   "source": [
    "### Variable et operations:"
   ]
  },
  {
   "cell_type": "code",
   "execution_count": 3,
   "id": "1c5280a7-6bd0-46fc-b58b-88ee1a996cdd",
   "metadata": {},
   "outputs": [
    {
     "name": "stdout",
     "output_type": "stream",
     "text": [
      "somme: 8, produit: 15\n"
     ]
    }
   ],
   "source": [
    "# Declaration de variables\n",
    "a = 5 \n",
    "b = 3\n",
    "# operation\n",
    "somme = a + b\n",
    "produit = a * b\n",
    "print(f\"somme: {somme}, produit: {produit}\")"
   ]
  },
  {
   "cell_type": "markdown",
   "id": "575f777b-1122-4066-8762-728415a13763",
   "metadata": {},
   "source": [
    "### Structures de controles:"
   ]
  },
  {
   "cell_type": "code",
   "execution_count": null,
   "id": "98c8e83e-f812-4eac-a144-b6bec5017846",
   "metadata": {},
   "outputs": [],
   "source": [
    "# Condition if-else\n",
    "x = 10 \n",
    "if x > 5:\n",
    "    print(\"x est superieur a 5\")\n",
    "else:\n",
    "    print(\"x n'est pas superieur a 5\")\n",
    "# Boucle while\n",
    "counter = 0\n",
    "while counter < 3:\n",
    "    print(counter)\n",
    "    counter += 1\n",
    "\n",
    "# Boucle for \n",
    "for i in range(5):\n",
    "    print(i)"
   ]
  },
  {
   "cell_type": "markdown",
   "id": "7cbd192a-3d6b-49a8-99a6-fdf002ae6f1b",
   "metadata": {},
   "source": [
    "### Listes et boucles:"
   ]
  },
  {
   "cell_type": "code",
   "execution_count": null,
   "id": "83597e7e-7eb4-4a8b-9a2a-3bc97f70b48a",
   "metadata": {},
   "outputs": [],
   "source": [
    "# Listes \n",
    "fruits = [\"pomme\",\"banane\",\"orange\"]\n",
    "# boucle a travers une liste \n",
    "for fruit in fruits:\n",
    "    print(fruit)\n",
    "# Listes comprehension\n",
    "Squares = [x**2 for x in range(6)]\n",
    "print(squares)"
   ]
  },
  {
   "cell_type": "markdown",
   "id": "dee74a8c-504b-4978-93a1-e91d9a9e7f97",
   "metadata": {},
   "source": [
    "### Fonctions:"
   ]
  },
  {
   "cell_type": "code",
   "execution_count": null,
   "id": "81c773f3-0d88-4b39-a3a2-b187af160b96",
   "metadata": {},
   "outputs": [],
   "source": [
    "# Definition de fonction\n",
    "def greet(name):\n",
    "    return f\"Hello,{name}!\"\n",
    "# Appel de fonction \n",
    "message = greet(\"Alice\")\n",
    "print(message)"
   ]
  },
  {
   "cell_type": "markdown",
   "id": "509929fd-7c3d-472e-bc86-5a9f7c7666b5",
   "metadata": {},
   "source": [
    "### Les booleens:"
   ]
  },
  {
   "cell_type": "code",
   "execution_count": null,
   "id": "7c3d413b-e760-4150-a0e6-df38221f08f0",
   "metadata": {},
   "outputs": [],
   "source": [
    "print(5>3)\n",
    "print(7<5)"
   ]
  },
  {
   "cell_type": "markdown",
   "id": "a425429f-f4da-4207-816f-511c37ba2932",
   "metadata": {},
   "source": [
    "### Les collections:"
   ]
  },
  {
   "cell_type": "code",
   "execution_count": 3,
   "id": "fef320a7-4932-42d1-842c-89381099475e",
   "metadata": {},
   "outputs": [
    {
     "name": "stdout",
     "output_type": "stream",
     "text": [
      "LES LISTES ET SES AFFICHAGES:\n",
      "['mangoes', 'oranges', 'cherries']\n",
      "[2, 4, 6, 8, 10]\n",
      "['cat', 'rabbit']\n",
      "['dog', 'cat']\n",
      "['fish', 'hamster']\n",
      "['dog', 'cat', 'rabbit', 'fish', 'hamster', 'horse']\n",
      "['donkey', 'dog', 'cat', 'rabbit', 'fish', 'hamster', 'horse']\n",
      "['donkey', 'dog', 'caw', 'cat', 'rabbit', 'fish', 'hamster', 'horse']\n",
      "['donkey', 'dog', 'caw', 'cat', 'rabbit', 'fish', 'hamster']\n",
      "['donkey', 'caw', 'cat', 'rabbit', 'fish', 'hamster']\n",
      "['donkey', 'caw', 'rabbit', 'fish', 'hamster']\n",
      "5\n",
      "['donkey', 'caw', 'rabbit', 'sheep', 'hamster']\n",
      "\n",
      "LES TUPLES ET SES AFFICHAGES:\n",
      "('dog', 'cat', 'rabbit', 'fish', 'hamster')\n",
      "('dog', 21, True)\n",
      "fish\n",
      "('cat', 'rabbit')\n",
      "hamster\n",
      "('dog', 'cat', 'rabbit')\n",
      "dog\n",
      "cat\n",
      "rabbit\n",
      "fish\n",
      "hamster\n",
      "True\n",
      "False\n",
      "\n",
      "LES SETS ET SES AFFICHAGES:\n",
      "{'rabbit', 'fish', 'hamster', 'cat', 'dog'}\n",
      "{1, 34, 3, 67, 5, 89, 90}\n"
     ]
    }
   ],
   "source": [
    "# Les listes et ses affichages.\n",
    "az = \"Les listes et ses affichages:\"\n",
    "print(az.upper())\n",
    "mylist = [\"mangoes\",\"oranges\",\"cherries\"]\n",
    "print(mylist)\n",
    "melist = [2,4,6,8,10]\n",
    "print(melist)\n",
    "pets = [\"dog\",\"cat\",\"rabbit\",\"fish\",\"hamster\"]\n",
    "x = pets[1:3] # intervalle [index1, index3].\n",
    "print(x)\n",
    "y = pets[:2] # intervalle [premier index,..., index2].\n",
    "print(y)\n",
    "z = pets[3:] # intervalle [index3,...,index].\n",
    "print(z)\n",
    "pets.append(\"horse\") # ajout d'elemets a la fin.\n",
    "print(pets)\n",
    "pets.insert(0, \"donkey\") # insertion d'un element a l'index 0.\n",
    "print(pets)\n",
    "pets.insert(2, \"caw\") # insertion d'un element a l'index 2.\n",
    "print(pets)\n",
    "pets.pop() # supprimer le dernier element.\n",
    "print(pets)\n",
    "pets.remove(\"dog\") # supprimer dog.\n",
    "print(pets)\n",
    "del pets[2] # supprimer index2.\n",
    "print(pets)\n",
    "print(len(pets)) # taille (nombres d'elements)\n",
    "pets[3] = \"sheep\" # modifier l'element de l'index3\n",
    "print(pets)\n",
    "print(\"\")\n",
    "\n",
    "# Les tuples et ses affichages\n",
    "asd = \"Les tuples et ses affichages:\"\n",
    "print(asd.upper())\n",
    "qw = (\"dog\",\"cat\",\"rabbit\",\"fish\",\"hamster\")\n",
    "print(qw)\n",
    "x = (\"dog\",21,True)\n",
    "print(x)\n",
    "print(qw[3])\n",
    "y = qw[1:3] # intervalle index(1,3)\n",
    "print(y)\n",
    "z = qw[-1] # dernier index.\n",
    "print(z)\n",
    "d = qw[:3] # intervalle entre premier index et 3 eme index.\n",
    "print(d)\n",
    "r = qw[2:] # intervalle entre 2eme index et le dernier index.\n",
    "for po in qw:\n",
    "    print(po)\n",
    "print(\"dog\" in qw)\n",
    "print(\"python\" in qw)\n",
    "print(\"\")\n",
    "# Les sets et ses affichages\n",
    "df = \"Les sets et ses affichages:\"\n",
    "print(df.upper())\n",
    "we = {\"dog\",\"cat\",\"rabbit\",\"fish\",\"hamster\"}\n",
    "print(we)\n",
    "nombres = {1,3,5,34,67,89,90}\n",
    "print(nombres)"
   ]
  },
  {
   "cell_type": "code",
   "execution_count": null,
   "id": "981e4a83-085d-42a6-a1a1-2f1ade313ae2",
   "metadata": {},
   "outputs": [],
   "source": []
  }
 ],
 "metadata": {
  "kernelspec": {
   "display_name": "Python 3 (ipykernel)",
   "language": "python",
   "name": "python3"
  },
  "language_info": {
   "codemirror_mode": {
    "name": "ipython",
    "version": 3
   },
   "file_extension": ".py",
   "mimetype": "text/x-python",
   "name": "python",
   "nbconvert_exporter": "python",
   "pygments_lexer": "ipython3",
   "version": "3.12.2"
  }
 },
 "nbformat": 4,
 "nbformat_minor": 5
}
