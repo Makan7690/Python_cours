{
 "cells": [
  {
   "cell_type": "markdown",
   "id": "358e7ec9-fac4-41d8-b8a2-f2eb9e94ecca",
   "metadata": {},
   "source": [
    "# Exercice1:table de multiplication par 7."
   ]
  },
  {
   "cell_type": "code",
   "execution_count": 1,
   "id": "0b2c1ae4-dace-4b7b-bd7e-17562237dd1a",
   "metadata": {},
   "outputs": [
    {
     "name": "stdout",
     "output_type": "stream",
     "text": [
      "7 X 1 = 7\n"
     ]
    }
   ],
   "source": [
    "for i in range(1,21):\n",
    "    print(f\"7 X {i} = {7*i}\")\n",
    "\n"
   ]
  },
  {
   "cell_type": "markdown",
   "id": "02d00806-c258-491e-8481-7593848843a2",
   "metadata": {},
   "source": [
    "# Exercice2: Euro en Dollar."
   ]
  },
  {
   "cell_type": "code",
   "execution_count": 4,
   "id": "9fda4b60-9fe8-49b0-9f97-d78ef2b2c5c7",
   "metadata": {},
   "outputs": [],
   "source": [
    "# Premier Methode\n",
    "# for i in range(15):\n",
    "    # euro = 2**i\n",
    "    # print(f\"{euro} euro(s) =  {euro*1.65:.2f} dollar(s)\")"
   ]
  },
  {
   "cell_type": "code",
   "execution_count": 2,
   "id": "8eb0cdab-b726-4d51-b2a5-ae9784bb9c60",
   "metadata": {},
   "outputs": [
    {
     "name": "stdout",
     "output_type": "stream",
     "text": [
      "1 euro(s) = 1.6\n",
      "2 euro(s) = 3.2\n",
      "4 euro(s) = 6.4\n",
      "8 euro(s) = 12.8\n",
      "16 euro(s) = 25.6\n",
      "32 euro(s) = 51.2\n",
      "64 euro(s) = 102.4\n",
      "128 euro(s) = 204.8\n",
      "256 euro(s) = 409.6\n",
      "512 euro(s) = 819.2\n",
      "1024 euro(s) = 1638.4\n",
      "2048 euro(s) = 3276.8\n",
      "4096 euro(s) = 6553.6\n",
      "8192 euro(s) = 13107.2\n",
      "16384 euro(s) = 26214.4\n"
     ]
    }
   ],
   "source": [
    "# Deuxieme methode\n",
    "euro = 1 \n",
    "while euro <= 16384:\n",
    "    print(f\"{euro} euro(s) = {euro*1.6}\")\n",
    "    euro*=2"
   ]
  },
  {
   "cell_type": "markdown",
   "id": "e0720656-beb6-4f99-91ec-63f07cc3dd3a",
   "metadata": {},
   "source": [
    "# Exercice3: Le terme."
   ]
  },
  {
   "cell_type": "code",
   "execution_count": 46,
   "id": "33a5cea2-0945-4e8f-ba39-5222af994b87",
   "metadata": {},
   "outputs": [
    {
     "name": "stdout",
     "output_type": "stream",
     "text": [
      "1\n",
      "3\n",
      "9\n",
      "27\n",
      "81\n",
      "243\n",
      "729\n",
      "2187\n",
      "6561\n",
      "19683\n",
      "59049\n",
      "177147\n"
     ]
    }
   ],
   "source": [
    "# terme = 1\n",
    "# while terme <= 12:\n",
    "    # print(terme)\n",
    "    # terme*=3\n",
    "terme = 1\n",
    "for i in range(12):\n",
    "    print(terme)\n",
    "    terme*=3"
   ]
  },
  {
   "cell_type": "markdown",
   "id": "403c7715-65a0-41e4-a2b8-3d00d18d9a82",
   "metadata": {},
   "source": [
    "# Exercice3: Le volume en parallelepipede."
   ]
  },
  {
   "cell_type": "code",
   "execution_count": 14,
   "id": "bf38af26-0682-4d1d-b65c-4a4dbf4ab6a6",
   "metadata": {},
   "outputs": [
    {
     "name": "stdin",
     "output_type": "stream",
     "text": [
      "entrer la largeur : 6\n",
      "entrer la hauteur : 5\n",
      "entrer la profondeur : 8\n"
     ]
    },
    {
     "name": "stdout",
     "output_type": "stream",
     "text": [
      "Le volume de parallelepipede est : 240.0 m\n"
     ]
    }
   ],
   "source": [
    "largeur = float(input(\"entrer la largeur :\"))\n",
    "hauteur = float(input(\"entrer la hauteur :\"))\n",
    "profondeur = float(input(\"entrer la profondeur :\"))\n",
    "volume = largeur*hauteur*profondeur\n",
    "print(\"Le volume de parallelepipede est :\",volume,\"m\")"
   ]
  },
  {
   "cell_type": "markdown",
   "id": "a3e5b1cd-a66e-4f79-86f2-70fa846787b0",
   "metadata": {},
   "source": [
    "# Exercice5: La conversion."
   ]
  },
  {
   "cell_type": "code",
   "execution_count": 33,
   "id": "853520d3-4382-4bdc-a8b3-02be42a2b05e",
   "metadata": {},
   "outputs": [
    {
     "name": "stdin",
     "output_type": "stream",
     "text": [
      "Entrer le nombre de secondes : 6789\n"
     ]
    },
    {
     "name": "stdout",
     "output_type": "stream",
     "text": [
      "0 annees, 0 mois, 0 jours, 1 heures, 53 minutes, 9 secondes\n"
     ]
    }
   ],
   "source": [
    "def conversion_secondes(secondes):\n",
    "    annees = secondes // (365*24*3600)\n",
    "    secondes%=365*24*3600\n",
    "    #Calcul des mois\n",
    "    mois = secondes //(30*24*3600)\n",
    "    secondes%=30*24*3600\n",
    "    #Calcul en jours\n",
    "    jours = secondes //(24*3600)\n",
    "    secondes%=24*3600\n",
    "    #Calcul des heures\n",
    "    heures = secondes//3600\n",
    "    secondes%=3600\n",
    "    #Calcul des minutes\n",
    "    minutes = secondes//60\n",
    "    secondes%=60\n",
    "    return annees,mois,jours,heures,minutes,secondes\n",
    "secondes = int(input(\"Entrer le nombre de secondes :\"))\n",
    "annees,mois,jours,heures,minutes,secondes = conversion_secondes(secondes)\n",
    "print(f\"{annees} annees, {mois} mois, {jours} jours, {heures} heures, {minutes} minutes, {secondes} secondes\")"
   ]
  },
  {
   "cell_type": "markdown",
   "id": "883ffceb-7103-4532-9d65-57d1d3ad721d",
   "metadata": {},
   "source": [
    "# Exercice6: Le multiple par 3."
   ]
  },
  {
   "cell_type": "code",
   "execution_count": 39,
   "id": "6dee21f2-67fd-4a34-b1f4-9068e6739943",
   "metadata": {},
   "outputs": [
    {
     "name": "stdout",
     "output_type": "stream",
     "text": [
      "71421*283542*495663*707784*9198105*112119126*133140"
     ]
    }
   ],
   "source": [
    "for i in range(1,21):\n",
    "    produit = 7*i\n",
    "    if produit%3==0:\n",
    "        print(f\"{produit}*\",end=\"\")\n",
    "    else:\n",
    "        print(produit,end=\"\")"
   ]
  },
  {
   "cell_type": "markdown",
   "id": "dcaec9d8-864a-4c09-ad31-5a51bfbc2a0b",
   "metadata": {},
   "source": [
    "# Exercice7: le multiple par 7."
   ]
  },
  {
   "cell_type": "code",
   "execution_count": 1,
   "id": "cd772205-e7a8-4c24-8511-b977f4cec45a",
   "metadata": {},
   "outputs": [
    {
     "name": "stdout",
     "output_type": "stream",
     "text": [
      "91\n",
      "182\n",
      "273\n",
      "364\n",
      "455\n",
      "546\n",
      "637\n",
      "*\n",
      "**\n",
      "***\n",
      "****\n",
      "*****\n",
      "******\n"
     ]
    }
   ],
   "source": [
    "for i in range(1,51):\n",
    "    produit = 13*i\n",
    "    if produit%7==0:\n",
    "        print(produit)\n",
    "for i in range(1,7):\n",
    "    print(\"*\"*i)"
   ]
  },
  {
   "cell_type": "code",
   "execution_count": 47,
   "id": "26867b7e-eaa5-4662-973b-d20291f4f982",
   "metadata": {},
   "outputs": [
    {
     "name": "stdout",
     "output_type": "stream",
     "text": [
      "Le jour de la semaine (boucle for) :\n",
      "Lundi\n",
      "Mardi\n",
      "Mercredi\n",
      "Jeudi\n",
      "Vendredi\n",
      "Samedi\n",
      "Dimanche\n"
     ]
    }
   ],
   "source": [
    "semaine = [\"Lundi\",\"Mardi\",\"Mercredi\",\"Jeudi\",\"Vendredi\",\"Samedi\",\"Dimanche\"]\n",
    "print(\"Le jour de la semaine (boucle for) :\")\n",
    "for jour in semaine:\n",
    "    print(jour)"
   ]
  },
  {
   "cell_type": "code",
   "execution_count": 49,
   "id": "b1ed12e5-217d-4fe1-acd3-7e92f49cc59b",
   "metadata": {},
   "outputs": [
    {
     "name": "stdout",
     "output_type": "stream",
     "text": [
      "Le jour du week-end (boucle while) :\n",
      "Samedi\n",
      "Dimanche\n"
     ]
    }
   ],
   "source": [
    "print(\"Le jour du week-end (boucle while) :\")\n",
    "sin = 5\n",
    "while sin < len(semaine):\n",
    "    print(semaine[sin])\n",
    "    sin+=1"
   ]
  },
  {
   "cell_type": "markdown",
   "id": "93f438e4-7a87-4c33-ae00-8fbee091849f",
   "metadata": {},
   "source": [
    "# Exercice8a: La divisibilite par 5 et 7."
   ]
  },
  {
   "cell_type": "code",
   "execution_count": 52,
   "id": "4a7abaac-725e-4c8b-8f9d-468cd9d85499",
   "metadata": {},
   "outputs": [
    {
     "name": "stdin",
     "output_type": "stream",
     "text": [
      "Entrer le nombre :  35\n"
     ]
    },
    {
     "name": "stdout",
     "output_type": "stream",
     "text": [
      "35 est divisible par 5 et 7.\n"
     ]
    }
   ],
   "source": [
    "# Deuxieme Methode\n",
    "nombre = int(input(\"Entrer le nombre : \"))\n",
    "res = \"est\" if nombre%5==0 and nombre%7==0 else \"n'est pas\"\n",
    "print(nombre,res,\"divisible par 5 et 7.\")"
   ]
  },
  {
   "cell_type": "markdown",
   "id": "8b5ca016-77ce-4f2e-ba77-20f8a011e1dc",
   "metadata": {},
   "source": [
    "# Exercice8b: Annee bissextile."
   ]
  },
  {
   "cell_type": "code",
   "execution_count": 8,
   "id": "711ec14c-f83f-452b-bed2-95b7a0116778",
   "metadata": {},
   "outputs": [
    {
     "name": "stdin",
     "output_type": "stream",
     "text": [
      "Veuillez saisir une annee :  2000\n"
     ]
    },
    {
     "name": "stdout",
     "output_type": "stream",
     "text": [
      "2000 est une annee bissextile.\n"
     ]
    }
   ],
   "source": [
    "def biss(annee):\n",
    "    return (annee%4==0 and annee%100!=0) or (annee%400==0)\n",
    "annee = int(input(\"Veuillez saisir une annee : \"))\n",
    "if biss(annee):\n",
    "    print(annee,\"est une annee bissextile.\")\n",
    "else:\n",
    "    print(annee,\"n'est pas une annee bissextile.\")"
   ]
  },
  {
   "cell_type": "markdown",
   "id": "c4f294f0-fc0c-4582-a5f3-4385f288a762",
   "metadata": {},
   "source": [
    "# Exercice8c:"
   ]
  },
  {
   "cell_type": "markdown",
   "id": "bb103937-647b-4663-b238-72ba552806bc",
   "metadata": {},
   "source": [
    "# Exercice9a: Le nombre premier."
   ]
  },
  {
   "cell_type": "code",
   "execution_count": 2,
   "id": "82a71eca-e2c6-4578-9d8f-51b45814c648",
   "metadata": {},
   "outputs": [
    {
     "name": "stdin",
     "output_type": "stream",
     "text": [
      "Veuillez saisir un entier positive : 45\n"
     ]
    },
    {
     "name": "stdout",
     "output_type": "stream",
     "text": [
      "Le nombre 45 n'est pas premier.\n"
     ]
    }
   ],
   "source": [
    "def nbrepremier(nombre):\n",
    "    if nombre <=1:\n",
    "        return False\n",
    "    for i in range(2, int(nombre**0.5) + 1):\n",
    "        if nombre%i==0:\n",
    "            return False\n",
    "    return True\n",
    "nombre_p = int(input(\"Veuillez saisir un entier positive :\"))\n",
    "if nbrepremier(nombre_p):\n",
    "    print(\"Le nombre\",nombre_p,\"est premier.\")\n",
    "else:\n",
    "    print(\"Le nombre\",nombre_p,\"n'est pas premier.\")"
   ]
  },
  {
   "cell_type": "markdown",
   "id": "2faf111d-cc9b-4160-9788-a3daf4edd3ac",
   "metadata": {},
   "source": [
    "# Exercice9b: Les notes."
   ]
  },
  {
   "cell_type": "code",
   "execution_count": 1,
   "id": "22e5a8b3-e072-4617-8348-cdf4c9df3a53",
   "metadata": {},
   "outputs": [
    {
     "name": "stdout",
     "output_type": "stream",
     "text": [
      "les notes sont : [14, 16, 12, 18, 15, 13, 17, 19]\n",
      "la somme des notes sont : 124\n",
      "la moyenne des notes est : 15.5\n"
     ]
    }
   ],
   "source": [
    "notes = [14,16,12,18,15,13,17,19]\n",
    "somme_notes = sum(notes)\n",
    "moyenne = somme_notes/len(notes)\n",
    "print(\"les notes sont :\",notes)\n",
    "print(\"la somme des notes sont :\",somme_notes)\n",
    "print(\"la moyenne des notes est :\",moyenne)"
   ]
  },
  {
   "cell_type": "code",
   "execution_count": null,
   "id": "71d98e0b-c87a-46ec-a3a3-2dbad116c8cd",
   "metadata": {},
   "outputs": [],
   "source": []
  }
 ],
 "metadata": {
  "kernelspec": {
   "display_name": "Python 3 (ipykernel)",
   "language": "python",
   "name": "python3"
  },
  "language_info": {
   "codemirror_mode": {
    "name": "ipython",
    "version": 3
   },
   "file_extension": ".py",
   "mimetype": "text/x-python",
   "name": "python",
   "nbconvert_exporter": "python",
   "pygments_lexer": "ipython3",
   "version": "3.12.2"
  }
 },
 "nbformat": 4,
 "nbformat_minor": 5
}
