{
 "cells": [
  {
   "cell_type": "markdown",
   "id": "07332c04-12b0-42a7-96e4-3338ec1883b1",
   "metadata": {
    "editable": true,
    "slideshow": {
     "slide_type": ""
    },
    "tags": []
   },
   "source": [
    "# Numpy"
   ]
  },
  {
   "cell_type": "code",
   "execution_count": 1,
   "id": "3a34a60b-af69-4366-ae02-4c363a0ca649",
   "metadata": {},
   "outputs": [],
   "source": [
    "import numpy as np"
   ]
  },
  {
   "cell_type": "code",
   "execution_count": 2,
   "id": "f50d27d4-f993-43c9-b1b6-ebfcdb58751f",
   "metadata": {},
   "outputs": [],
   "source": [
    "# Creatin d'un tableau unidimensionnel et liste, tableau avec deux dimensions s'appelle matrice"
   ]
  },
  {
   "cell_type": "code",
   "execution_count": 3,
   "id": "b4fc3740-7e69-4117-8aaa-6a115d91b562",
   "metadata": {},
   "outputs": [
    {
     "name": "stdout",
     "output_type": "stream",
     "text": [
      "[1 2 3 4 5]\n"
     ]
    }
   ],
   "source": [
    "arr1d = np.array([1,2,3,4,5])\n",
    "print(arr1d)"
   ]
  },
  {
   "cell_type": "code",
   "execution_count": 4,
   "id": "572589b9-ee7f-4482-8aa6-ac4127ce4935",
   "metadata": {},
   "outputs": [],
   "source": [
    "# Creation d'un tableau bidimentionnel(matrice)"
   ]
  },
  {
   "cell_type": "code",
   "execution_count": 2,
   "id": "80f0a996-3702-4af5-84f5-67a2a1c812c5",
   "metadata": {},
   "outputs": [
    {
     "name": "stdout",
     "output_type": "stream",
     "text": [
      "[[1 2 3]\n",
      " [4 5 6]\n",
      " [7 8 9]]\n"
     ]
    }
   ],
   "source": [
    "arr2d = np.array([[1,2,3],[4,5,6],[7,8,9]])\n",
    "print(arr2d)"
   ]
  },
  {
   "cell_type": "code",
   "execution_count": 6,
   "id": "b71574eb-5850-4769-b0f7-8a71743b709e",
   "metadata": {},
   "outputs": [],
   "source": [
    "# Calcul de la somme des elements du tableau"
   ]
  },
  {
   "cell_type": "code",
   "execution_count": 7,
   "id": "3da458e3-bec0-4774-bd46-8c3146a88e7e",
   "metadata": {},
   "outputs": [
    {
     "name": "stdout",
     "output_type": "stream",
     "text": [
      "15\n"
     ]
    }
   ],
   "source": [
    "arr = np.array([1,2,3,4,5])\n",
    "sum_arr = np.sum(arr)\n",
    "print(sum_arr)"
   ]
  },
  {
   "cell_type": "code",
   "execution_count": 8,
   "id": "6498d859-12a9-4c81-98ac-0b2ae462ba1a",
   "metadata": {},
   "outputs": [],
   "source": [
    "# Calcul de la moyenne des elements du tableau"
   ]
  },
  {
   "cell_type": "code",
   "execution_count": 9,
   "id": "68f73889-39de-42df-b2cc-dda5bfaed558",
   "metadata": {},
   "outputs": [
    {
     "name": "stdout",
     "output_type": "stream",
     "text": [
      "3.0\n"
     ]
    }
   ],
   "source": [
    "mean_arr = np.mean(arr)\n",
    "print(mean_arr)"
   ]
  },
  {
   "cell_type": "code",
   "execution_count": 10,
   "id": "e7cd5aec-1bce-45f5-b615-5dea277791de",
   "metadata": {},
   "outputs": [],
   "source": [
    "# Calcul de la racine carre de chaque element du tableau"
   ]
  },
  {
   "cell_type": "code",
   "execution_count": 11,
   "id": "ec484e5a-54f2-40ce-9674-15d7ae2187f0",
   "metadata": {},
   "outputs": [
    {
     "name": "stdout",
     "output_type": "stream",
     "text": [
      "[1.         1.41421356 1.73205081 2.         2.23606798]\n"
     ]
    }
   ],
   "source": [
    "sqrt_arr = np.sqrt(arr)\n",
    "print(sqrt_arr)"
   ]
  },
  {
   "cell_type": "markdown",
   "id": "2cd9246d-e3dc-4661-8d5f-aa93d641c339",
   "metadata": {},
   "source": [
    "# Operations des matrices"
   ]
  },
  {
   "cell_type": "code",
   "execution_count": 12,
   "id": "a69db8a8-540b-4020-b5d3-2541af37ce7e",
   "metadata": {},
   "outputs": [],
   "source": [
    " # Creation de deux matrices"
   ]
  },
  {
   "cell_type": "code",
   "execution_count": 7,
   "id": "93717d64-e605-4bef-b242-f109e50777b1",
   "metadata": {},
   "outputs": [],
   "source": [
    "A = np.array([[1,2],[3,4]])\n",
    "B = np.array([[5,6],[7,8]])"
   ]
  },
  {
   "cell_type": "code",
   "execution_count": 14,
   "id": "5b2f87ba-0ff9-4173-9a2e-4d0ecdbf0c9a",
   "metadata": {},
   "outputs": [],
   "source": [
    "# Multiplucations matricielle"
   ]
  },
  {
   "cell_type": "code",
   "execution_count": 15,
   "id": "6e6b9f37-d71b-406e-8fc3-3c2e708ad182",
   "metadata": {},
   "outputs": [
    {
     "name": "stdout",
     "output_type": "stream",
     "text": [
      "[[19 22]\n",
      " [43 50]]\n"
     ]
    }
   ],
   "source": [
    "C = np.dot(A,B)\n",
    "print(C)"
   ]
  },
  {
   "cell_type": "code",
   "execution_count": 24,
   "id": "91a6b6f8-36fa-4463-87cf-b23266efe65c",
   "metadata": {},
   "outputs": [],
   "source": [
    "# calcul de l'inverse d'une matrice"
   ]
  },
  {
   "cell_type": "code",
   "execution_count": 25,
   "id": "3bdb6a6f-8c96-4aa1-9ba2-213073728410",
   "metadata": {},
   "outputs": [
    {
     "name": "stdout",
     "output_type": "stream",
     "text": [
      "[[-2.   1. ]\n",
      " [ 1.5 -0.5]]\n"
     ]
    }
   ],
   "source": [
    "A_inv = np.linalg.inv(A)\n",
    "print(A_inv)"
   ]
  },
  {
   "cell_type": "code",
   "execution_count": 26,
   "id": "3b572284-e1d2-474f-ae24-33bbbb93a0d0",
   "metadata": {},
   "outputs": [],
   "source": [
    "# Generation de nombres aleatoires suivant une distribution normale"
   ]
  },
  {
   "cell_type": "code",
   "execution_count": 27,
   "id": "4290edf0-0b77-4d36-aa03-d7e60c77f83d",
   "metadata": {},
   "outputs": [
    {
     "name": "stdout",
     "output_type": "stream",
     "text": [
      "[-0.35868879 -0.31423062  1.65974691 -1.02940496  1.46873534]\n"
     ]
    }
   ],
   "source": [
    "random = np.random.randn(5)\n",
    "print(random)"
   ]
  },
  {
   "cell_type": "code",
   "execution_count": 28,
   "id": "fb1b0dbe-67db-4884-86a5-0535622c8510",
   "metadata": {},
   "outputs": [],
   "source": [
    "# Selection d'elements d'un tableau selon une condition"
   ]
  },
  {
   "cell_type": "code",
   "execution_count": 4,
   "id": "49ec736d-7e89-4d58-9874-793ae6c70606",
   "metadata": {},
   "outputs": [
    {
     "name": "stdout",
     "output_type": "stream",
     "text": [
      "[1 3 5]\n"
     ]
    }
   ],
   "source": [
    "arr = np.array([1,2,3,4,5])\n",
    "even_elements = arr[arr %2 != 0]\n",
    "print(even_elements)"
   ]
  },
  {
   "cell_type": "code",
   "execution_count": 30,
   "id": "ab63e041-663a-4549-9e87-8b4354614144",
   "metadata": {},
   "outputs": [],
   "source": [
    "# transposition d'une matrice"
   ]
  },
  {
   "cell_type": "raw",
   "id": "85f9d405-0515-4f59-84b4-36dae146d857",
   "metadata": {},
   "source": [
    "A = np.array([[1, 2], [3, 4]])\n",
    "A_transpose = np.transpose(A)"
   ]
  },
  {
   "cell_type": "code",
   "execution_count": 31,
   "id": "59fcf92a-459a-4622-ac53-0ea8087f56e9",
   "metadata": {},
   "outputs": [
    {
     "name": "stdout",
     "output_type": "stream",
     "text": [
      "[[1 2]\n",
      " [3 4]]\n"
     ]
    }
   ],
   "source": [
    "print(A)"
   ]
  },
  {
   "cell_type": "code",
   "execution_count": 32,
   "id": "9c9abad1-f4e4-4b3c-85bd-7ddf92df1589",
   "metadata": {},
   "outputs": [
    {
     "data": {
      "text/plain": [
       "array([[1, 3],\n",
       "       [2, 4]])"
      ]
     },
     "execution_count": 32,
     "metadata": {},
     "output_type": "execute_result"
    }
   ],
   "source": [
    "np.transpose(A)"
   ]
  },
  {
   "cell_type": "code",
   "execution_count": 33,
   "id": "e2a501b7-58a3-49f9-9267-c990e31c21e0",
   "metadata": {},
   "outputs": [
    {
     "data": {
      "text/plain": [
       "array([[1., 1., 1., 1.],\n",
       "       [1., 1., 1., 1.],\n",
       "       [1., 1., 1., 1.],\n",
       "       [1., 1., 1., 1.]])"
      ]
     },
     "execution_count": 33,
     "metadata": {},
     "output_type": "execute_result"
    }
   ],
   "source": [
    "np.ones((4,4))"
   ]
  },
  {
   "cell_type": "code",
   "execution_count": 34,
   "id": "090f3bd1-550d-4a88-a55a-fd124a4f54ee",
   "metadata": {},
   "outputs": [
    {
     "data": {
      "text/plain": [
       "array([[0., 0., 0.],\n",
       "       [0., 0., 0.],\n",
       "       [0., 0., 0.]])"
      ]
     },
     "execution_count": 34,
     "metadata": {},
     "output_type": "execute_result"
    }
   ],
   "source": [
    "np.zeros((3,3))"
   ]
  },
  {
   "cell_type": "code",
   "execution_count": 3,
   "id": "c7734fbb-fa75-4a43-9c3e-8b54cfc400fc",
   "metadata": {},
   "outputs": [],
   "source": [
    "A = np.random.randint(0,15,(3,3))\n",
    "B = np.random.randint(1,16,(3,3))"
   ]
  },
  {
   "cell_type": "code",
   "execution_count": 4,
   "id": "28bd55d7-6ad4-44d3-8fe5-ceae3a75797f",
   "metadata": {},
   "outputs": [
    {
     "data": {
      "text/plain": [
       "array([[ 4, 12,  4],\n",
       "       [ 6,  8,  3],\n",
       "       [ 1,  6,  8]])"
      ]
     },
     "execution_count": 4,
     "metadata": {},
     "output_type": "execute_result"
    }
   ],
   "source": [
    "A"
   ]
  },
  {
   "cell_type": "code",
   "execution_count": 5,
   "id": "4f8f3194-8a2e-4d21-a78c-3ddd6d835c92",
   "metadata": {},
   "outputs": [
    {
     "data": {
      "text/plain": [
       "array([[15,  9,  1],\n",
       "       [ 1,  7, 13],\n",
       "       [ 3, 15,  9]])"
      ]
     },
     "execution_count": 5,
     "metadata": {},
     "output_type": "execute_result"
    }
   ],
   "source": [
    "B"
   ]
  },
  {
   "cell_type": "code",
   "execution_count": 6,
   "id": "8bb7a9ac-d00c-4124-b3d4-af45edb4101c",
   "metadata": {},
   "outputs": [
    {
     "data": {
      "text/plain": [
       "array([[ 84, 180, 196],\n",
       "       [107, 155, 137],\n",
       "       [ 45, 171, 151]])"
      ]
     },
     "execution_count": 6,
     "metadata": {},
     "output_type": "execute_result"
    }
   ],
   "source": [
    "A.dot(B)"
   ]
  },
  {
   "cell_type": "code",
   "execution_count": 39,
   "id": "effcc1b7-1517-462c-be39-b8a804e88cc0",
   "metadata": {},
   "outputs": [
    {
     "data": {
      "text/plain": [
       "-130.99999999999994"
      ]
     },
     "execution_count": 39,
     "metadata": {},
     "output_type": "execute_result"
    }
   ],
   "source": [
    "np.linalg.det(A)"
   ]
  },
  {
   "cell_type": "code",
   "execution_count": 40,
   "id": "af050c65-b341-4a57-bcfd-e169bd3fc217",
   "metadata": {},
   "outputs": [
    {
     "data": {
      "text/plain": [
       "array([[ 0.09923664,  0.16793893, -0.29007634],\n",
       "       [ 0.32824427, -0.21374046, -0.26717557],\n",
       "       [-0.25954198,  0.09923664,  0.3740458 ]])"
      ]
     },
     "execution_count": 40,
     "metadata": {},
     "output_type": "execute_result"
    }
   ],
   "source": [
    "np.linalg.inv(A)"
   ]
  },
  {
   "cell_type": "code",
   "execution_count": 41,
   "id": "a1f25b71-21c4-4fad-afda-c0de59f4e6cd",
   "metadata": {},
   "outputs": [
    {
     "data": {
      "text/latex": [
       "$\\displaystyle \\left[\\begin{matrix}2 & -3\\\\7 & 5\\end{matrix}\\right]$"
      ],
      "text/plain": [
       "Matrix([\n",
       "[2, -3],\n",
       "[7,  5]])"
      ]
     },
     "execution_count": 41,
     "metadata": {},
     "output_type": "execute_result"
    }
   ],
   "source": [
    "from sympy import *\n",
    "# x,y = symbols('x,y')\n",
    "A = Matrix([[2,-3],[7,5]])\n",
    "B = Matrix([2,38])\n",
    "A"
   ]
  },
  {
   "cell_type": "code",
   "execution_count": 42,
   "id": "4b4a0fc2-5a26-43e3-8815-807ad881ca30",
   "metadata": {},
   "outputs": [
    {
     "data": {
      "text/latex": [
       "$\\displaystyle \\left[\\begin{matrix}\\frac{5}{31} & \\frac{3}{31}\\\\- \\frac{7}{31} & \\frac{2}{31}\\end{matrix}\\right]$"
      ],
      "text/plain": [
       "Matrix([\n",
       "[ 5/31, 3/31],\n",
       "[-7/31, 2/31]])"
      ]
     },
     "execution_count": 42,
     "metadata": {},
     "output_type": "execute_result"
    }
   ],
   "source": [
    "A.inv()"
   ]
  },
  {
   "cell_type": "code",
   "execution_count": 43,
   "id": "e50022db-2293-4a94-879b-a76f00cb1e55",
   "metadata": {},
   "outputs": [
    {
     "data": {
      "text/latex": [
       "$\\displaystyle \\left[\\begin{matrix}2\\\\38\\end{matrix}\\right]$"
      ],
      "text/plain": [
       "Matrix([\n",
       "[ 2],\n",
       "[38]])"
      ]
     },
     "execution_count": 43,
     "metadata": {},
     "output_type": "execute_result"
    }
   ],
   "source": [
    "B"
   ]
  },
  {
   "cell_type": "code",
   "execution_count": 44,
   "id": "b897c438-4ec4-49db-84f0-b6730311922e",
   "metadata": {},
   "outputs": [
    {
     "data": {
      "text/latex": [
       "$\\displaystyle \\left[\\begin{matrix}4\\\\2\\end{matrix}\\right]$"
      ],
      "text/plain": [
       "Matrix([\n",
       "[4],\n",
       "[2]])"
      ]
     },
     "execution_count": 44,
     "metadata": {},
     "output_type": "execute_result"
    }
   ],
   "source": [
    "A.inv()*B"
   ]
  },
  {
   "cell_type": "code",
   "execution_count": 45,
   "id": "53efe65b-9f3a-43f2-81bc-82deab1d30c3",
   "metadata": {},
   "outputs": [
    {
     "data": {
      "text/plain": [
       "array([[2, 5, 2],\n",
       "       [3, 5, 2],\n",
       "       [4, 2, 2]])"
      ]
     },
     "execution_count": 45,
     "metadata": {},
     "output_type": "execute_result"
    }
   ],
   "source": [
    "A = np.random.randint(2,6,(3,3))\n",
    "A"
   ]
  },
  {
   "cell_type": "code",
   "execution_count": 46,
   "id": "b2b404c7-30ee-4616-b1c5-1701cde1057b",
   "metadata": {},
   "outputs": [
    {
     "data": {
      "text/plain": [
       "array([[4],\n",
       "       [2],\n",
       "       [2]])"
      ]
     },
     "execution_count": 46,
     "metadata": {},
     "output_type": "execute_result"
    }
   ],
   "source": [
    "B = np.random.randint(2,6,(3,1))\n",
    "B"
   ]
  },
  {
   "cell_type": "code",
   "execution_count": 47,
   "id": "fb7a515b-8296-4b15-a4db-36f7ec12dfa9",
   "metadata": {},
   "outputs": [
    {
     "data": {
      "text/plain": [
       "array([[22],\n",
       "       [26],\n",
       "       [24]])"
      ]
     },
     "execution_count": 47,
     "metadata": {},
     "output_type": "execute_result"
    }
   ],
   "source": [
    "A.dot(B)"
   ]
  },
  {
   "cell_type": "code",
   "execution_count": 20,
   "id": "32e9cf80-f9b9-4713-a5fb-fe8e8c6119a8",
   "metadata": {},
   "outputs": [],
   "source": [
    "F = np.random.randint(56,59,(4,4))\n",
    "T = np.random.randint(12,45,(4,4))"
   ]
  },
  {
   "cell_type": "code",
   "execution_count": 21,
   "id": "5e9142d6-c10e-426f-a3a4-e228c6e108b0",
   "metadata": {},
   "outputs": [
    {
     "data": {
      "text/plain": [
       "array([[56, 58, 56, 57],\n",
       "       [58, 56, 56, 57],\n",
       "       [58, 57, 56, 56],\n",
       "       [56, 57, 58, 58]])"
      ]
     },
     "execution_count": 21,
     "metadata": {},
     "output_type": "execute_result"
    }
   ],
   "source": [
    "F"
   ]
  },
  {
   "cell_type": "code",
   "execution_count": 22,
   "id": "da31e20f-1549-4d60-a2cc-6ea328b189fd",
   "metadata": {},
   "outputs": [
    {
     "data": {
      "text/plain": [
       "array([[18, 39, 34, 28],\n",
       "       [29, 16, 44, 28],\n",
       "       [39, 40, 40, 41],\n",
       "       [21, 29, 20, 17]])"
      ]
     },
     "execution_count": 22,
     "metadata": {},
     "output_type": "execute_result"
    }
   ],
   "source": [
    "T"
   ]
  },
  {
   "cell_type": "code",
   "execution_count": 23,
   "id": "a470932c-5008-4163-a3ef-5d0d6b1909e5",
   "metadata": {},
   "outputs": [
    {
     "data": {
      "text/plain": [
       "array([[6071, 7005, 7836, 6457],\n",
       "       [6049, 7051, 7816, 6457],\n",
       "       [6057, 7038, 7840, 6468],\n",
       "       [6141, 7098, 7892, 6528]])"
      ]
     },
     "execution_count": 23,
     "metadata": {},
     "output_type": "execute_result"
    }
   ],
   "source": [
    "F.dot(T)"
   ]
  },
  {
   "cell_type": "code",
   "execution_count": 25,
   "id": "f28995e8-7e83-4a20-ba57-928903e82691",
   "metadata": {},
   "outputs": [
    {
     "data": {
      "text/plain": [
       "array([[-0.16666667,  0.16666667,  0.16959064, -0.16374269],\n",
       "       [ 0.33333333, -0.33333333,  0.16959064, -0.16374269],\n",
       "       [-0.5       , -0.5       ,  0.5       ,  0.5       ],\n",
       "       [ 0.33333333,  0.66666667, -0.83040936, -0.16374269]])"
      ]
     },
     "execution_count": 25,
     "metadata": {},
     "output_type": "execute_result"
    }
   ],
   "source": [
    "np.linalg.inv(F)"
   ]
  },
  {
   "cell_type": "code",
   "execution_count": 48,
   "id": "3a5f3c11-5140-4928-84f0-57e7cc00194d",
   "metadata": {},
   "outputs": [
    {
     "name": "stdout",
     "output_type": "stream",
     "text": [
      "[1.00002262 0.99998537 0.99999046 0.99999155]\n"
     ]
    }
   ],
   "source": [
    "from scipy.optimize import minimize\n",
    "# Definition d'une fonction a minimisr\n",
    "def rosen(x):\n",
    "  return sum(100.0*(x[1:]-x[-1]**2.0)**2.0+(1-x[:-1])**2.0)\n",
    " # Minimisation de la fonction rosen-   \n",
    "x0 = np.array([1.3,0.7,1.9,1.2])\n",
    "res = minimize(rosen,x0,method='nelder-mead')\n",
    "print(res.x)"
   ]
  },
  {
   "cell_type": "code",
   "execution_count": 49,
   "id": "2545f9a8-38b1-4369-b330-4e9bb5102c62",
   "metadata": {},
   "outputs": [
    {
     "data": {
      "text/plain": [
       "2"
      ]
     },
     "execution_count": 49,
     "metadata": {},
     "output_type": "execute_result"
    }
   ],
   "source": [
    "def f(x):\n",
    "    return x**2-5*x+6\n",
    "\n",
    "f(4)"
   ]
  },
  {
   "cell_type": "code",
   "execution_count": 50,
   "id": "4efab8b5-34fd-4478-882d-e51d0199cb49",
   "metadata": {},
   "outputs": [
    {
     "data": {
      "text/plain": [
       "  message: Optimization terminated successfully.\n",
       "  success: True\n",
       "   status: 0\n",
       "      fun: -0.2499999999767315\n",
       "        x: [ 2.500e+00]\n",
       "      nit: 3\n",
       "      jac: [ 9.656e-06]\n",
       " hess_inv: [[ 5.000e-01]]\n",
       "     nfev: 12\n",
       "     njev: 6"
      ]
     },
     "execution_count": 50,
     "metadata": {},
     "output_type": "execute_result"
    }
   ],
   "source": [
    "min = minimize(f,100)\n",
    "min"
   ]
  },
  {
   "cell_type": "code",
   "execution_count": 51,
   "id": "2cb48381-a833-4963-b2cd-a4f957807351",
   "metadata": {},
   "outputs": [],
   "source": [
    "from scipy.integrate import quad\n",
    "# Definition de la fonction integrer\n",
    "def g(x):\n",
    "    return np.exp(-x**2)\n",
    "# Calcul de l'integrale de 0 a 1 de la fonction\n",
    "result,error = quad(g,0,1)"
   ]
  },
  {
   "cell_type": "code",
   "execution_count": 52,
   "id": "d8867cee-2df1-4484-ae6b-73be8b8184ff",
   "metadata": {},
   "outputs": [
    {
     "name": "stdout",
     "output_type": "stream",
     "text": [
      "0.7468241328124271\n"
     ]
    }
   ],
   "source": [
    "print(result)"
   ]
  },
  {
   "cell_type": "code",
   "execution_count": 53,
   "id": "5d3cd72e-353d-41b9-8eab-24407058a853",
   "metadata": {},
   "outputs": [
    {
     "data": {
      "text/plain": [
       "8.291413475940725e-15"
      ]
     },
     "execution_count": 53,
     "metadata": {},
     "output_type": "execute_result"
    }
   ],
   "source": [
    "error"
   ]
  },
  {
   "cell_type": "code",
   "execution_count": 54,
   "id": "ec78e25c-58ef-4c2d-89be-dbb29de1f166",
   "metadata": {},
   "outputs": [],
   "source": [
    "def h(x):\n",
    "    return x**2\n",
    "result,error = quad(h,0,1)"
   ]
  },
  {
   "cell_type": "code",
   "execution_count": 55,
   "id": "72801f99-0270-4255-921f-5ca5100c52fc",
   "metadata": {},
   "outputs": [
    {
     "data": {
      "text/plain": [
       "0.33333333333333337"
      ]
     },
     "execution_count": 55,
     "metadata": {},
     "output_type": "execute_result"
    }
   ],
   "source": [
    "result"
   ]
  },
  {
   "cell_type": "code",
   "execution_count": 56,
   "id": "96663034-344b-480d-a33b-512515336ba4",
   "metadata": {},
   "outputs": [
    {
     "data": {
      "text/plain": [
       "3.700743415417189e-15"
      ]
     },
     "execution_count": 56,
     "metadata": {},
     "output_type": "execute_result"
    }
   ],
   "source": [
    "error"
   ]
  },
  {
   "cell_type": "markdown",
   "id": "8bd90707-6896-4142-81bf-9bfce54fe562",
   "metadata": {},
   "source": [
    "#  Interpolation avec scipy.interpolate :"
   ]
  },
  {
   "cell_type": "code",
   "execution_count": 6,
   "id": "974a72fc-6026-4053-a424-4151f77e1fb5",
   "metadata": {},
   "outputs": [],
   "source": [
    "from scipy.interpolate import interp1d\n",
    "import matplotlib.pyplot as plt\n",
    "# Donnees pour l'interpolation\n",
    "x = np.arange(100)\n",
    "y = x/2\n",
    "f = interp1d(x,y)\n"
   ]
  },
  {
   "cell_type": "code",
   "execution_count": 7,
   "id": "081493b1-ea1b-40f0-97e9-ef762a126475",
   "metadata": {},
   "outputs": [
    {
     "data": {
      "text/plain": [
       "array(2.25)"
      ]
     },
     "execution_count": 7,
     "metadata": {},
     "output_type": "execute_result"
    }
   ],
   "source": [
    "f(4.5)"
   ]
  },
  {
   "cell_type": "code",
   "execution_count": 10,
   "id": "e07fe7ca-4c7c-4246-b446-77b8412a015f",
   "metadata": {},
   "outputs": [],
   "source": [
    "import sympy as sp"
   ]
  },
  {
   "cell_type": "code",
   "execution_count": 147,
   "id": "a3cdfa5d-3e79-4238-a30d-7039aa201848",
   "metadata": {},
   "outputs": [
    {
     "data": {
      "text/latex": [
       "$\\displaystyle x^{3}$"
      ],
      "text/plain": [
       "x**3"
      ]
     },
     "execution_count": 147,
     "metadata": {},
     "output_type": "execute_result"
    }
   ],
   "source": [
    "x,y = sp.symbols('x,y')\n",
    "g = x**3\n",
    "g"
   ]
  },
  {
   "cell_type": "code",
   "execution_count": 148,
   "id": "c9defe5e-8685-44f3-91a5-c9bf214cf5dd",
   "metadata": {},
   "outputs": [
    {
     "data": {
      "text/plain": [
       "array(2.38853503)"
      ]
     },
     "execution_count": 148,
     "metadata": {},
     "output_type": "execute_result"
    }
   ],
   "source": [
    "f(15/3.14)"
   ]
  },
  {
   "cell_type": "markdown",
   "id": "f64aba26-9774-4031-a770-ba372196d78e",
   "metadata": {},
   "source": [
    "# Exemples utilisation pratique"
   ]
  },
  {
   "cell_type": "markdown",
   "id": "5da3c3a2-04e6-4acc-894a-c582b228b5ce",
   "metadata": {},
   "source": [
    "### 1.Optimisation avec scipy.optimize:"
   ]
  },
  {
   "cell_type": "code",
   "execution_count": 149,
   "id": "3fdc51ce-d956-42d0-b826-f4a7507cabf8",
   "metadata": {},
   "outputs": [
    {
     "name": "stdout",
     "output_type": "stream",
     "text": [
      "Optimization terminated successfully.\n",
      "         Current function value: 7.084439\n",
      "         Iterations: 158\n",
      "         Function evaluations: 267\n",
      "Minimum trouve aux coordonnees : [0.16127074 0.16123915 0.16126916 0.16125313 2.4979156 ]\n"
     ]
    },
    {
     "name": "stderr",
     "output_type": "stream",
     "text": [
      "C:\\Users\\Makan\\AppData\\Local\\Temp\\ipykernel_20256\\1538925598.py:5: OptimizeWarning: Unknown solver options: xtol\n",
      "  res = minimize(rosen,x0,method='nelder-mead',options={'xtol':1e-8,'disp':True})\n"
     ]
    }
   ],
   "source": [
    "from scipy.optimize import minimize\n",
    "def rosen(x):\n",
    "    return sum(100.0*(x[:-1]**2.0)**2.0+(1+(1-x[:-1])**2.0))\n",
    "x0 = np.array([1.3,0.7,0.8,1.9,1.2])\n",
    "res = minimize(rosen,x0,method='nelder-mead',options={'xtol':1e-8,'disp':True})\n",
    "print(\"Minimum trouve aux coordonnees :\",res.x) "
   ]
  },
  {
   "cell_type": "markdown",
   "id": "6b34ea6a-1283-4ccf-bc1e-e2ec060b078d",
   "metadata": {},
   "source": [
    "### 2. Interpolation linaire de donnees et visualisation:"
   ]
  },
  {
   "cell_type": "code",
   "execution_count": 10,
   "id": "be68cebc-bc8b-457f-bc2e-1ffba754eced",
   "metadata": {
    "scrolled": true
   },
   "outputs": [
    {
     "data": {
      "image/png": "[encoded data removed]",
      "text/plain": [
       "<Figure size 640x480 with 1 Axes>"
      ]
     },
     "metadata": {},
     "output_type": "display_data"
    }
   ],
   "source": [
    "# Donnees pour l'axe x.\n",
    "x = np.linspace(0,4*np.pi,100)\n",
    "\n",
    "# Calcul de valeurs des fonctions sinus et cosinus.\n",
    "y1 = np.sin(x)\n",
    "y2 = np.cos(x)\n",
    "# Tracer les fonctions\n",
    "#plt.figure(figsize=(4,8))\n",
    "plt.plot(x,y1,label='sin(x)',color='blue',linestyle='-',linewidth=1)\n",
    "plt.plot(x,y2,label='cos(x)',color='red',linestyle='-',linewidth=2)\n",
    "plt.title('Tracé des fonctions sin(x) et cos(x)')\n",
    "plt.xlabel('axe des X')\n",
    "plt.ylabel('axe des Y')\n",
    "plt.legend()\n",
    "plt.grid(True)\n",
    "#plt.savefig('fig2.png')\n",
    "plt.show()"
   ]
  },
  {
   "cell_type": "code",
   "execution_count": 13,
   "id": "c2bccb37-5e22-4e97-9ccd-df484285b708",
   "metadata": {},
   "outputs": [
    {
     "data": {
      "image/png": "[encoded data removed]",
      "text/plain": [
       "<Figure size 800x600 with 1 Axes>"
      ]
     },
     "metadata": {},
     "output_type": "display_data"
    }
   ],
   "source": [
    "# Données pour les ventes mensuelles\n",
    "mois = ['Janvier', 'Février', 'Mars', 'Avril', 'Mai']\n",
    "ventes = [25000, 28000, 30000, 27000, 35000]\n",
    "# Tracer le diagramme à barres\n",
    "plt.figure(figsize=(8, 6))\n",
    "plt.bar(mois, ventes, color='green')\n",
    "plt.title('Ventes mensuelles')\n",
    "plt.xlabel('Mois')\n",
    "plt.ylabel('Ventes ($)')\n",
    "plt.grid(True)\n",
    "#plt.savefig('lafig.jpg')\n",
    "plt.show()"
   ]
  },
  {
   "cell_type": "code",
   "execution_count": 152,
   "id": "b48159fe-ab80-4971-aa55-4ac2b58913ad",
   "metadata": {},
   "outputs": [
    {
     "data": {
      "image/png": "[encoded data removed]",
      "text/plain": [
       "<Figure size 800x600 with 1 Axes>"
      ]
     },
     "metadata": {},
     "output_type": "display_data"
    }
   ],
   "source": [
    "# Données pour la répartition des dépenses en pourcentage\n",
    "categories = ['Alimentation', 'Logement', 'Transport', 'Loisirs', 'Autres']\n",
    "#Exemple 2 : Diagramme à barres\n",
    "#Exemple 3 : Diagramme à secteurs\n",
    "depenses = [30, 20, 15, 10, 25]\n",
    "# Tracer le diagramme à secteurs\n",
    "plt.figure(figsize=(8, 6))\n",
    "plt.pie(depenses, labels=categories, autopct='%1.2f%%', startangle=140, colors=['magenta','pink','blue','red','teal'])\n",
    "plt.title('Répartition des dépenses mensuelles')\n",
    "plt.axis('equal') # Assure que le diagramme est circulaire\n",
    "#plt.savefig('figure.png')\n",
    "plt.show()"
   ]
  },
  {
   "cell_type": "code",
   "execution_count": 15,
   "id": "d2198845-0d83-4721-8177-d987e0c74af4",
   "metadata": {},
   "outputs": [
    {
     "data": {
      "image/png": "[encoded data removed]",
      "text/plain": [
       "<Figure size 640x480 with 1 Axes>"
      ]
     },
     "metadata": {},
     "output_type": "display_data"
    }
   ],
   "source": [
    "x = np.linspace(-2,2)\n",
    "y = x**2\n",
    "plt.plot(x,y, label='x**2',color='green',linestyle='-',linewidth=1)\n",
    "plt.title('La font')\n",
    "plt.xlabel('axe des X')\n",
    "plt.ylabel('axe des Y')\n",
    "plt.legend()\n",
    "#plt.savefig('Lafigure.png')\n",
    "plt.grid(True)\n",
    "         "
   ]
  },
  {
   "cell_type": "code",
   "execution_count": 16,
   "id": "39e09b1e-3545-4bd8-b1e3-28deb6ff9a45",
   "metadata": {},
   "outputs": [
    {
     "data": {
      "text/plain": [
       "array([[1, 2, 3],\n",
       "       [4, 5, 6],\n",
       "       [7, 8, 9]])"
      ]
     },
     "execution_count": 16,
     "metadata": {},
     "output_type": "execute_result"
    }
   ],
   "source": [
    "A0 = np.array([[1,2,3],[4,5,6],[7,8,9]])\n",
    "A0"
   ]
  },
  {
   "cell_type": "code",
   "execution_count": 17,
   "id": "b1b04b43-ae56-48b5-af1e-2cacc8be2f57",
   "metadata": {},
   "outputs": [
    {
     "data": {
      "text/plain": [
       "array([[74,  9, 56,  7, 98, 84],\n",
       "       [ 8, 77, 22,  2, 97, 62],\n",
       "       [97, 28, 82, 98, 79, 54]])"
      ]
     },
     "execution_count": 17,
     "metadata": {},
     "output_type": "execute_result"
    }
   ],
   "source": [
    "A1 = np.random.randint(0,100,(3,6))\n",
    "A1"
   ]
  },
  {
   "cell_type": "code",
   "execution_count": 18,
   "id": "32d15a36-fd67-4509-b87a-71a815b8520b",
   "metadata": {},
   "outputs": [
    {
     "data": {
      "text/plain": [
       "28"
      ]
     },
     "execution_count": 18,
     "metadata": {},
     "output_type": "execute_result"
    }
   ],
   "source": [
    " A1[2,1]"
   ]
  },
  {
   "cell_type": "code",
   "execution_count": 19,
   "id": "b2467f6c-9f67-4ac0-8d49-2aa7a3e4b05f",
   "metadata": {},
   "outputs": [
    {
     "data": {
      "text/plain": [
       "22"
      ]
     },
     "execution_count": 19,
     "metadata": {},
     "output_type": "execute_result"
    }
   ],
   "source": [
    "A1[1,2]"
   ]
  },
  {
   "cell_type": "markdown",
   "id": "9e0c7d36-4d06-487a-acd7-8254ee2fe670",
   "metadata": {},
   "source": [
    "### Element a l'avant derniere colonne de la derniere ligne."
   ]
  },
  {
   "cell_type": "code",
   "execution_count": 20,
   "id": "d9b47540-fbe2-4c08-8f62-f147c9b23367",
   "metadata": {},
   "outputs": [
    {
     "data": {
      "text/plain": [
       "79"
      ]
     },
     "execution_count": 20,
     "metadata": {},
     "output_type": "execute_result"
    }
   ],
   "source": [
    "A1[-1,-2]"
   ]
  },
  {
   "cell_type": "code",
   "execution_count": 21,
   "id": "3557eaee-b4fe-4257-b552-344669f6d399",
   "metadata": {},
   "outputs": [
    {
     "data": {
      "text/plain": [
       "[1, 2, 3, 4, 5, 6, 7, 8, 9, 10]"
      ]
     },
     "execution_count": 21,
     "metadata": {},
     "output_type": "execute_result"
    }
   ],
   "source": [
    "ert = list(range(1,11))\n",
    "ert"
   ]
  },
  {
   "cell_type": "code",
   "execution_count": 22,
   "id": "901ea8e1-f86c-4547-a192-441bd0fab7c1",
   "metadata": {},
   "outputs": [
    {
     "data": {
      "text/plain": [
       "9"
      ]
     },
     "execution_count": 22,
     "metadata": {},
     "output_type": "execute_result"
    }
   ],
   "source": [
    "ert[-2]"
   ]
  },
  {
   "cell_type": "code",
   "execution_count": 23,
   "id": "f1c8572e-9490-49da-afb9-e4059b8466ff",
   "metadata": {},
   "outputs": [],
   "source": [
    "x = np.random.randint(1,100,(5,1))\n",
    "y = np.random.randint(1,100,(5,1))"
   ]
  },
  {
   "cell_type": "code",
   "execution_count": 24,
   "id": "72b230de-d105-44b4-bd16-47f9c8904bbb",
   "metadata": {},
   "outputs": [
    {
     "data": {
      "text/plain": [
       "array([[11],\n",
       "       [76],\n",
       "       [70],\n",
       "       [65],\n",
       "       [22]])"
      ]
     },
     "execution_count": 24,
     "metadata": {},
     "output_type": "execute_result"
    }
   ],
   "source": [
    "x"
   ]
  },
  {
   "cell_type": "code",
   "execution_count": 25,
   "id": "a019033c-78a4-4990-b7f2-b70e85e92960",
   "metadata": {},
   "outputs": [
    {
     "data": {
      "text/plain": [
       "array([[38],\n",
       "       [53],\n",
       "       [20],\n",
       "       [84],\n",
       "       [60]])"
      ]
     },
     "execution_count": 25,
     "metadata": {},
     "output_type": "execute_result"
    }
   ],
   "source": [
    "y"
   ]
  },
  {
   "cell_type": "code",
   "execution_count": 26,
   "id": "4106eab3-bac4-4030-a6ed-3d3f50a9b350",
   "metadata": {},
   "outputs": [
    {
     "data": {
      "text/plain": [
       "<matplotlib.collections.PathCollection at 0x243181fc320>"
      ]
     },
     "execution_count": 26,
     "metadata": {},
     "output_type": "execute_result"
    },
    {
     "data": {
      "image/png": "[encoded data removed]",
      "text/plain": [
       "<Figure size 640x480 with 1 Axes>"
      ]
     },
     "metadata": {},
     "output_type": "display_data"
    }
   ],
   "source": [
    "plt.scatter(x,y)"
   ]
  },
  {
   "cell_type": "code",
   "execution_count": null,
   "id": "f722acb8-93cf-47fd-8954-3be9ed8946db",
   "metadata": {},
   "outputs": [],
   "source": []
  }
 ],
 "metadata": {
  "kernelspec": {
   "display_name": "Python 3 (ipykernel)",
   "language": "python",
   "name": "python3"
  },
  "language_info": {
   "codemirror_mode": {
    "name": "ipython",
    "version": 3
   },
   "file_extension": ".py",
   "mimetype": "text/x-python",
   "name": "python",
   "nbconvert_exporter": "python",
   "pygments_lexer": "ipython3",
   "version": "3.12.2"
  }
 },
 "nbformat": 4,
 "nbformat_minor": 5
}
